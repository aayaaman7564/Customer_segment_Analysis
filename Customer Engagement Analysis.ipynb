{
 "cells": [
  {
   "cell_type": "code",
   "execution_count": 1,
   "id": "8cde37f7",
   "metadata": {},
   "outputs": [],
   "source": [
    "import pandas as pd\n",
    "import plotly.express as px\n",
    "import plotly.io as pio\n",
    "import plotly.graph_objects as go\n",
    "pio.templates.default = \"plotly_white\""
   ]
  },
  {
   "cell_type": "code",
   "execution_count": 3,
   "id": "730c61d1",
   "metadata": {},
   "outputs": [
    {
     "name": "stdout",
     "output_type": "stream",
     "text": [
      "      Client ID  Sessions Avg. Session Duration Bounce Rate\n",
      "0  5.778476e+08       367              00:01:35      87.19%\n",
      "1  1.583822e+09       260              00:01:04      29.62%\n",
      "2  1.030699e+09       237              00:00:02      99.16%\n",
      "3  1.025030e+09       226              00:02:22      25.66%\n",
      "4  1.469968e+09       216              00:01:23      46.76%\n"
     ]
    }
   ],
   "source": [
    "data = pd.read_csv(\"bounce-rate.csv\")\n",
    "print(data.head())"
   ]
  },
  {
   "cell_type": "code",
   "execution_count": 4,
   "id": "ddd8c696",
   "metadata": {},
   "outputs": [
    {
     "name": "stdout",
     "output_type": "stream",
     "text": [
      "Client ID                0\n",
      "Sessions                 0\n",
      "Avg. Session Duration    0\n",
      "Bounce Rate              0\n",
      "dtype: int64\n"
     ]
    }
   ],
   "source": [
    "print(data.isnull().sum())"
   ]
  },
  {
   "cell_type": "code",
   "execution_count": 5,
   "id": "e0fae6ab",
   "metadata": {},
   "outputs": [
    {
     "name": "stdout",
     "output_type": "stream",
     "text": [
      "<class 'pandas.core.frame.DataFrame'>\n",
      "RangeIndex: 999 entries, 0 to 998\n",
      "Data columns (total 4 columns):\n",
      " #   Column                 Non-Null Count  Dtype  \n",
      "---  ------                 --------------  -----  \n",
      " 0   Client ID              999 non-null    float64\n",
      " 1   Sessions               999 non-null    int64  \n",
      " 2   Avg. Session Duration  999 non-null    object \n",
      " 3   Bounce Rate            999 non-null    object \n",
      "dtypes: float64(1), int64(1), object(2)\n",
      "memory usage: 31.3+ KB\n",
      "None\n"
     ]
    }
   ],
   "source": [
    "print(data.info())"
   ]
  },
  {
   "cell_type": "code",
   "execution_count": 6,
   "id": "e2d91343",
   "metadata": {},
   "outputs": [
    {
     "name": "stdout",
     "output_type": "stream",
     "text": [
      "        Client ID  Sessions  Avg. Session Duration  Bounce Rate\n",
      "0    5.778476e+08       367               1.583333        87.19\n",
      "1    1.583822e+09       260               1.066667        29.62\n",
      "2    1.030699e+09       237               0.033333        99.16\n",
      "3    1.025030e+09       226               2.366667        25.66\n",
      "4    1.469968e+09       216               1.383333        46.76\n",
      "..            ...       ...                    ...          ...\n",
      "994  1.049263e+09        17               7.733333        41.18\n",
      "995  1.145806e+09        17               5.616667        47.06\n",
      "996  1.153811e+09        17               0.200000        94.12\n",
      "997  1.182133e+09        17               1.216667        88.24\n",
      "998  1.184187e+09        17               2.566667        64.71\n",
      "\n",
      "[999 rows x 4 columns]\n"
     ]
    }
   ],
   "source": [
    "data['Avg. Session Duration'] = data['Avg. Session Duration'].str[1:]\n",
    "data['Avg. Session Duration'] = pd.to_timedelta(data['Avg. Session Duration'])\n",
    "data['Avg. Session Duration'] = data['Avg. Session Duration'] / pd.Timedelta(minutes=1)\n",
    "data['Bounce Rate'] = data['Bounce Rate'].str.rstrip('%').astype('float')\n",
    "print(data)"
   ]
  },
  {
   "cell_type": "code",
   "execution_count": 7,
   "id": "e7b1498f",
   "metadata": {},
   "outputs": [
    {
     "name": "stdout",
     "output_type": "stream",
     "text": [
      "          Client ID    Sessions  Avg. Session Duration  Bounce Rate\n",
      "count  9.990000e+02  999.000000             999.000000   999.000000\n",
      "mean   1.036401e+09   32.259259               3.636520    65.307978\n",
      "std    6.151503e+08   24.658588               4.040562    22.997270\n",
      "min    1.849182e+05   17.000000               0.000000     4.880000\n",
      "25%    4.801824e+08   21.000000               0.891667    47.370000\n",
      "50%    1.029507e+09   25.000000               2.466667    66.670000\n",
      "75%    1.587982e+09   35.000000               4.816667    85.190000\n",
      "max    2.063338e+09  367.000000              30.666667   100.000000\n"
     ]
    }
   ],
   "source": [
    "print(data.describe())"
   ]
  },
  {
   "cell_type": "code",
   "execution_count": 8,
   "id": "637915c2",
   "metadata": {},
   "outputs": [],
   "source": [
    "dataWithoutCid = data.drop('Client ID', axis=1)"
   ]
  },
  {
   "cell_type": "code",
   "execution_count": 20,
   "id": "81874550",
   "metadata": {},
   "outputs": [
    {
     "data": {
      "application/vnd.plotly.v1+json": {
       "config": {
        "plotlyServerURL": "https://plot.ly"
       },
       "data": [
        {
         "coloraxis": "coloraxis",
         "hovertemplate": "x: %{x}<br>y: %{y}<br>color: %{z}<extra></extra>",
         "name": "0",
         "texttemplate": "%{z}",
         "type": "heatmap",
         "x": [
          "Sessions",
          "Avg. Session Duration",
          "Bounce Rate"
         ],
         "xaxis": "x",
         "y": [
          "Sessions",
          "Avg. Session Duration",
          "Bounce Rate"
         ],
         "yaxis": "y",
         "z": [
          [
           1,
           -0.04367221001957803,
           0.003748031700628414
          ],
          [
           -0.04367221001957803,
           1,
           -0.6471342401090069
          ],
          [
           0.003748031700628414,
           -0.6471342401090069,
           1
          ]
         ]
        }
       ],
       "layout": {
        "coloraxis": {
         "colorscale": [
          [
           0,
           "rgb(0, 147, 146)"
          ],
          [
           0.16666666666666666,
           "rgb(57, 177, 133)"
          ],
          [
           0.3333333333333333,
           "rgb(156, 203, 134)"
          ],
          [
           0.5,
           "rgb(233, 226, 156)"
          ],
          [
           0.6666666666666666,
           "rgb(238, 180, 121)"
          ],
          [
           0.8333333333333334,
           "rgb(232, 132, 113)"
          ],
          [
           1,
           "rgb(207, 89, 126)"
          ]
         ]
        },
        "margin": {
         "t": 60
        },
        "template": {
         "data": {
          "bar": [
           {
            "error_x": {
             "color": "#2a3f5f"
            },
            "error_y": {
             "color": "#2a3f5f"
            },
            "marker": {
             "line": {
              "color": "white",
              "width": 0.5
             },
             "pattern": {
              "fillmode": "overlay",
              "size": 10,
              "solidity": 0.2
             }
            },
            "type": "bar"
           }
          ],
          "barpolar": [
           {
            "marker": {
             "line": {
              "color": "white",
              "width": 0.5
             },
             "pattern": {
              "fillmode": "overlay",
              "size": 10,
              "solidity": 0.2
             }
            },
            "type": "barpolar"
           }
          ],
          "carpet": [
           {
            "aaxis": {
             "endlinecolor": "#2a3f5f",
             "gridcolor": "#C8D4E3",
             "linecolor": "#C8D4E3",
             "minorgridcolor": "#C8D4E3",
             "startlinecolor": "#2a3f5f"
            },
            "baxis": {
             "endlinecolor": "#2a3f5f",
             "gridcolor": "#C8D4E3",
             "linecolor": "#C8D4E3",
             "minorgridcolor": "#C8D4E3",
             "startlinecolor": "#2a3f5f"
            },
            "type": "carpet"
           }
          ],
          "choropleth": [
           {
            "colorbar": {
             "outlinewidth": 0,
             "ticks": ""
            },
            "type": "choropleth"
           }
          ],
          "contour": [
           {
            "colorbar": {
             "outlinewidth": 0,
             "ticks": ""
            },
            "colorscale": [
             [
              0,
              "#0d0887"
             ],
             [
              0.1111111111111111,
              "#46039f"
             ],
             [
              0.2222222222222222,
              "#7201a8"
             ],
             [
              0.3333333333333333,
              "#9c179e"
             ],
             [
              0.4444444444444444,
              "#bd3786"
             ],
             [
              0.5555555555555556,
              "#d8576b"
             ],
             [
              0.6666666666666666,
              "#ed7953"
             ],
             [
              0.7777777777777778,
              "#fb9f3a"
             ],
             [
              0.8888888888888888,
              "#fdca26"
             ],
             [
              1,
              "#f0f921"
             ]
            ],
            "type": "contour"
           }
          ],
          "contourcarpet": [
           {
            "colorbar": {
             "outlinewidth": 0,
             "ticks": ""
            },
            "type": "contourcarpet"
           }
          ],
          "heatmap": [
           {
            "colorbar": {
             "outlinewidth": 0,
             "ticks": ""
            },
            "colorscale": [
             [
              0,
              "#0d0887"
             ],
             [
              0.1111111111111111,
              "#46039f"
             ],
             [
              0.2222222222222222,
              "#7201a8"
             ],
             [
              0.3333333333333333,
              "#9c179e"
             ],
             [
              0.4444444444444444,
              "#bd3786"
             ],
             [
              0.5555555555555556,
              "#d8576b"
             ],
             [
              0.6666666666666666,
              "#ed7953"
             ],
             [
              0.7777777777777778,
              "#fb9f3a"
             ],
             [
              0.8888888888888888,
              "#fdca26"
             ],
             [
              1,
              "#f0f921"
             ]
            ],
            "type": "heatmap"
           }
          ],
          "heatmapgl": [
           {
            "colorbar": {
             "outlinewidth": 0,
             "ticks": ""
            },
            "colorscale": [
             [
              0,
              "#0d0887"
             ],
             [
              0.1111111111111111,
              "#46039f"
             ],
             [
              0.2222222222222222,
              "#7201a8"
             ],
             [
              0.3333333333333333,
              "#9c179e"
             ],
             [
              0.4444444444444444,
              "#bd3786"
             ],
             [
              0.5555555555555556,
              "#d8576b"
             ],
             [
              0.6666666666666666,
              "#ed7953"
             ],
             [
              0.7777777777777778,
              "#fb9f3a"
             ],
             [
              0.8888888888888888,
              "#fdca26"
             ],
             [
              1,
              "#f0f921"
             ]
            ],
            "type": "heatmapgl"
           }
          ],
          "histogram": [
           {
            "marker": {
             "pattern": {
              "fillmode": "overlay",
              "size": 10,
              "solidity": 0.2
             }
            },
            "type": "histogram"
           }
          ],
          "histogram2d": [
           {
            "colorbar": {
             "outlinewidth": 0,
             "ticks": ""
            },
            "colorscale": [
             [
              0,
              "#0d0887"
             ],
             [
              0.1111111111111111,
              "#46039f"
             ],
             [
              0.2222222222222222,
              "#7201a8"
             ],
             [
              0.3333333333333333,
              "#9c179e"
             ],
             [
              0.4444444444444444,
              "#bd3786"
             ],
             [
              0.5555555555555556,
              "#d8576b"
             ],
             [
              0.6666666666666666,
              "#ed7953"
             ],
             [
              0.7777777777777778,
              "#fb9f3a"
             ],
             [
              0.8888888888888888,
              "#fdca26"
             ],
             [
              1,
              "#f0f921"
             ]
            ],
            "type": "histogram2d"
           }
          ],
          "histogram2dcontour": [
           {
            "colorbar": {
             "outlinewidth": 0,
             "ticks": ""
            },
            "colorscale": [
             [
              0,
              "#0d0887"
             ],
             [
              0.1111111111111111,
              "#46039f"
             ],
             [
              0.2222222222222222,
              "#7201a8"
             ],
             [
              0.3333333333333333,
              "#9c179e"
             ],
             [
              0.4444444444444444,
              "#bd3786"
             ],
             [
              0.5555555555555556,
              "#d8576b"
             ],
             [
              0.6666666666666666,
              "#ed7953"
             ],
             [
              0.7777777777777778,
              "#fb9f3a"
             ],
             [
              0.8888888888888888,
              "#fdca26"
             ],
             [
              1,
              "#f0f921"
             ]
            ],
            "type": "histogram2dcontour"
           }
          ],
          "mesh3d": [
           {
            "colorbar": {
             "outlinewidth": 0,
             "ticks": ""
            },
            "type": "mesh3d"
           }
          ],
          "parcoords": [
           {
            "line": {
             "colorbar": {
              "outlinewidth": 0,
              "ticks": ""
             }
            },
            "type": "parcoords"
           }
          ],
          "pie": [
           {
            "automargin": true,
            "type": "pie"
           }
          ],
          "scatter": [
           {
            "fillpattern": {
             "fillmode": "overlay",
             "size": 10,
             "solidity": 0.2
            },
            "type": "scatter"
           }
          ],
          "scatter3d": [
           {
            "line": {
             "colorbar": {
              "outlinewidth": 0,
              "ticks": ""
             }
            },
            "marker": {
             "colorbar": {
              "outlinewidth": 0,
              "ticks": ""
             }
            },
            "type": "scatter3d"
           }
          ],
          "scattercarpet": [
           {
            "marker": {
             "colorbar": {
              "outlinewidth": 0,
              "ticks": ""
             }
            },
            "type": "scattercarpet"
           }
          ],
          "scattergeo": [
           {
            "marker": {
             "colorbar": {
              "outlinewidth": 0,
              "ticks": ""
             }
            },
            "type": "scattergeo"
           }
          ],
          "scattergl": [
           {
            "marker": {
             "colorbar": {
              "outlinewidth": 0,
              "ticks": ""
             }
            },
            "type": "scattergl"
           }
          ],
          "scattermapbox": [
           {
            "marker": {
             "colorbar": {
              "outlinewidth": 0,
              "ticks": ""
             }
            },
            "type": "scattermapbox"
           }
          ],
          "scatterpolar": [
           {
            "marker": {
             "colorbar": {
              "outlinewidth": 0,
              "ticks": ""
             }
            },
            "type": "scatterpolar"
           }
          ],
          "scatterpolargl": [
           {
            "marker": {
             "colorbar": {
              "outlinewidth": 0,
              "ticks": ""
             }
            },
            "type": "scatterpolargl"
           }
          ],
          "scatterternary": [
           {
            "marker": {
             "colorbar": {
              "outlinewidth": 0,
              "ticks": ""
             }
            },
            "type": "scatterternary"
           }
          ],
          "surface": [
           {
            "colorbar": {
             "outlinewidth": 0,
             "ticks": ""
            },
            "colorscale": [
             [
              0,
              "#0d0887"
             ],
             [
              0.1111111111111111,
              "#46039f"
             ],
             [
              0.2222222222222222,
              "#7201a8"
             ],
             [
              0.3333333333333333,
              "#9c179e"
             ],
             [
              0.4444444444444444,
              "#bd3786"
             ],
             [
              0.5555555555555556,
              "#d8576b"
             ],
             [
              0.6666666666666666,
              "#ed7953"
             ],
             [
              0.7777777777777778,
              "#fb9f3a"
             ],
             [
              0.8888888888888888,
              "#fdca26"
             ],
             [
              1,
              "#f0f921"
             ]
            ],
            "type": "surface"
           }
          ],
          "table": [
           {
            "cells": {
             "fill": {
              "color": "#EBF0F8"
             },
             "line": {
              "color": "white"
             }
            },
            "header": {
             "fill": {
              "color": "#C8D4E3"
             },
             "line": {
              "color": "white"
             }
            },
            "type": "table"
           }
          ]
         },
         "layout": {
          "annotationdefaults": {
           "arrowcolor": "#2a3f5f",
           "arrowhead": 0,
           "arrowwidth": 1
          },
          "autotypenumbers": "strict",
          "coloraxis": {
           "colorbar": {
            "outlinewidth": 0,
            "ticks": ""
           }
          },
          "colorscale": {
           "diverging": [
            [
             0,
             "#8e0152"
            ],
            [
             0.1,
             "#c51b7d"
            ],
            [
             0.2,
             "#de77ae"
            ],
            [
             0.3,
             "#f1b6da"
            ],
            [
             0.4,
             "#fde0ef"
            ],
            [
             0.5,
             "#f7f7f7"
            ],
            [
             0.6,
             "#e6f5d0"
            ],
            [
             0.7,
             "#b8e186"
            ],
            [
             0.8,
             "#7fbc41"
            ],
            [
             0.9,
             "#4d9221"
            ],
            [
             1,
             "#276419"
            ]
           ],
           "sequential": [
            [
             0,
             "#0d0887"
            ],
            [
             0.1111111111111111,
             "#46039f"
            ],
            [
             0.2222222222222222,
             "#7201a8"
            ],
            [
             0.3333333333333333,
             "#9c179e"
            ],
            [
             0.4444444444444444,
             "#bd3786"
            ],
            [
             0.5555555555555556,
             "#d8576b"
            ],
            [
             0.6666666666666666,
             "#ed7953"
            ],
            [
             0.7777777777777778,
             "#fb9f3a"
            ],
            [
             0.8888888888888888,
             "#fdca26"
            ],
            [
             1,
             "#f0f921"
            ]
           ],
           "sequentialminus": [
            [
             0,
             "#0d0887"
            ],
            [
             0.1111111111111111,
             "#46039f"
            ],
            [
             0.2222222222222222,
             "#7201a8"
            ],
            [
             0.3333333333333333,
             "#9c179e"
            ],
            [
             0.4444444444444444,
             "#bd3786"
            ],
            [
             0.5555555555555556,
             "#d8576b"
            ],
            [
             0.6666666666666666,
             "#ed7953"
            ],
            [
             0.7777777777777778,
             "#fb9f3a"
            ],
            [
             0.8888888888888888,
             "#fdca26"
            ],
            [
             1,
             "#f0f921"
            ]
           ]
          },
          "colorway": [
           "#636efa",
           "#EF553B",
           "#00cc96",
           "#ab63fa",
           "#FFA15A",
           "#19d3f3",
           "#FF6692",
           "#B6E880",
           "#FF97FF",
           "#FECB52"
          ],
          "font": {
           "color": "#2a3f5f"
          },
          "geo": {
           "bgcolor": "white",
           "lakecolor": "white",
           "landcolor": "white",
           "showlakes": true,
           "showland": true,
           "subunitcolor": "#C8D4E3"
          },
          "hoverlabel": {
           "align": "left"
          },
          "hovermode": "closest",
          "mapbox": {
           "style": "light"
          },
          "paper_bgcolor": "white",
          "plot_bgcolor": "white",
          "polar": {
           "angularaxis": {
            "gridcolor": "#EBF0F8",
            "linecolor": "#EBF0F8",
            "ticks": ""
           },
           "bgcolor": "white",
           "radialaxis": {
            "gridcolor": "#EBF0F8",
            "linecolor": "#EBF0F8",
            "ticks": ""
           }
          },
          "scene": {
           "xaxis": {
            "backgroundcolor": "white",
            "gridcolor": "#DFE8F3",
            "gridwidth": 2,
            "linecolor": "#EBF0F8",
            "showbackground": true,
            "ticks": "",
            "zerolinecolor": "#EBF0F8"
           },
           "yaxis": {
            "backgroundcolor": "white",
            "gridcolor": "#DFE8F3",
            "gridwidth": 2,
            "linecolor": "#EBF0F8",
            "showbackground": true,
            "ticks": "",
            "zerolinecolor": "#EBF0F8"
           },
           "zaxis": {
            "backgroundcolor": "white",
            "gridcolor": "#DFE8F3",
            "gridwidth": 2,
            "linecolor": "#EBF0F8",
            "showbackground": true,
            "ticks": "",
            "zerolinecolor": "#EBF0F8"
           }
          },
          "shapedefaults": {
           "line": {
            "color": "#2a3f5f"
           }
          },
          "ternary": {
           "aaxis": {
            "gridcolor": "#DFE8F3",
            "linecolor": "#A2B1C6",
            "ticks": ""
           },
           "baxis": {
            "gridcolor": "#DFE8F3",
            "linecolor": "#A2B1C6",
            "ticks": ""
           },
           "bgcolor": "white",
           "caxis": {
            "gridcolor": "#DFE8F3",
            "linecolor": "#A2B1C6",
            "ticks": ""
           }
          },
          "title": {
           "x": 0.05
          },
          "xaxis": {
           "automargin": true,
           "gridcolor": "#EBF0F8",
           "linecolor": "#EBF0F8",
           "ticks": "",
           "title": {
            "standoff": 15
           },
           "zerolinecolor": "#EBF0F8",
           "zerolinewidth": 2
          },
          "yaxis": {
           "automargin": true,
           "gridcolor": "#EBF0F8",
           "linecolor": "#EBF0F8",
           "ticks": "",
           "title": {
            "standoff": 15
           },
           "zerolinecolor": "#EBF0F8",
           "zerolinewidth": 2
          }
         }
        },
        "title": {
         "text": "Correlation Matrix"
        },
        "xaxis": {
         "anchor": "y",
         "constrain": "domain",
         "domain": [
          0,
          1
         ],
         "scaleanchor": "y"
        },
        "yaxis": {
         "anchor": "x",
         "autorange": "reversed",
         "constrain": "domain",
         "domain": [
          0,
          1
         ]
        }
       }
      },
      "text/html": [
       "<div>                            <div id=\"c10f48fd-6e7d-48b0-b82b-731288f7e8d3\" class=\"plotly-graph-div\" style=\"height:525px; width:100%;\"></div>            <script type=\"text/javascript\">                require([\"plotly\"], function(Plotly) {                    window.PLOTLYENV=window.PLOTLYENV || {};                                    if (document.getElementById(\"c10f48fd-6e7d-48b0-b82b-731288f7e8d3\")) {                    Plotly.newPlot(                        \"c10f48fd-6e7d-48b0-b82b-731288f7e8d3\",                        [{\"coloraxis\":\"coloraxis\",\"name\":\"0\",\"texttemplate\":\"%{z}\",\"x\":[\"Sessions\",\"Avg. Session Duration\",\"Bounce Rate\"],\"y\":[\"Sessions\",\"Avg. Session Duration\",\"Bounce Rate\"],\"z\":[[1.0,-0.04367221001957803,0.003748031700628414],[-0.04367221001957803,1.0,-0.6471342401090069],[0.003748031700628414,-0.6471342401090069,1.0]],\"type\":\"heatmap\",\"xaxis\":\"x\",\"yaxis\":\"y\",\"hovertemplate\":\"x: %{x}<br>y: %{y}<br>color: %{z}<extra></extra>\"}],                        {\"template\":{\"data\":{\"histogram2dcontour\":[{\"type\":\"histogram2dcontour\",\"colorbar\":{\"outlinewidth\":0,\"ticks\":\"\"},\"colorscale\":[[0.0,\"#0d0887\"],[0.1111111111111111,\"#46039f\"],[0.2222222222222222,\"#7201a8\"],[0.3333333333333333,\"#9c179e\"],[0.4444444444444444,\"#bd3786\"],[0.5555555555555556,\"#d8576b\"],[0.6666666666666666,\"#ed7953\"],[0.7777777777777778,\"#fb9f3a\"],[0.8888888888888888,\"#fdca26\"],[1.0,\"#f0f921\"]]}],\"choropleth\":[{\"type\":\"choropleth\",\"colorbar\":{\"outlinewidth\":0,\"ticks\":\"\"}}],\"histogram2d\":[{\"type\":\"histogram2d\",\"colorbar\":{\"outlinewidth\":0,\"ticks\":\"\"},\"colorscale\":[[0.0,\"#0d0887\"],[0.1111111111111111,\"#46039f\"],[0.2222222222222222,\"#7201a8\"],[0.3333333333333333,\"#9c179e\"],[0.4444444444444444,\"#bd3786\"],[0.5555555555555556,\"#d8576b\"],[0.6666666666666666,\"#ed7953\"],[0.7777777777777778,\"#fb9f3a\"],[0.8888888888888888,\"#fdca26\"],[1.0,\"#f0f921\"]]}],\"heatmap\":[{\"type\":\"heatmap\",\"colorbar\":{\"outlinewidth\":0,\"ticks\":\"\"},\"colorscale\":[[0.0,\"#0d0887\"],[0.1111111111111111,\"#46039f\"],[0.2222222222222222,\"#7201a8\"],[0.3333333333333333,\"#9c179e\"],[0.4444444444444444,\"#bd3786\"],[0.5555555555555556,\"#d8576b\"],[0.6666666666666666,\"#ed7953\"],[0.7777777777777778,\"#fb9f3a\"],[0.8888888888888888,\"#fdca26\"],[1.0,\"#f0f921\"]]}],\"heatmapgl\":[{\"type\":\"heatmapgl\",\"colorbar\":{\"outlinewidth\":0,\"ticks\":\"\"},\"colorscale\":[[0.0,\"#0d0887\"],[0.1111111111111111,\"#46039f\"],[0.2222222222222222,\"#7201a8\"],[0.3333333333333333,\"#9c179e\"],[0.4444444444444444,\"#bd3786\"],[0.5555555555555556,\"#d8576b\"],[0.6666666666666666,\"#ed7953\"],[0.7777777777777778,\"#fb9f3a\"],[0.8888888888888888,\"#fdca26\"],[1.0,\"#f0f921\"]]}],\"contourcarpet\":[{\"type\":\"contourcarpet\",\"colorbar\":{\"outlinewidth\":0,\"ticks\":\"\"}}],\"contour\":[{\"type\":\"contour\",\"colorbar\":{\"outlinewidth\":0,\"ticks\":\"\"},\"colorscale\":[[0.0,\"#0d0887\"],[0.1111111111111111,\"#46039f\"],[0.2222222222222222,\"#7201a8\"],[0.3333333333333333,\"#9c179e\"],[0.4444444444444444,\"#bd3786\"],[0.5555555555555556,\"#d8576b\"],[0.6666666666666666,\"#ed7953\"],[0.7777777777777778,\"#fb9f3a\"],[0.8888888888888888,\"#fdca26\"],[1.0,\"#f0f921\"]]}],\"surface\":[{\"type\":\"surface\",\"colorbar\":{\"outlinewidth\":0,\"ticks\":\"\"},\"colorscale\":[[0.0,\"#0d0887\"],[0.1111111111111111,\"#46039f\"],[0.2222222222222222,\"#7201a8\"],[0.3333333333333333,\"#9c179e\"],[0.4444444444444444,\"#bd3786\"],[0.5555555555555556,\"#d8576b\"],[0.6666666666666666,\"#ed7953\"],[0.7777777777777778,\"#fb9f3a\"],[0.8888888888888888,\"#fdca26\"],[1.0,\"#f0f921\"]]}],\"mesh3d\":[{\"type\":\"mesh3d\",\"colorbar\":{\"outlinewidth\":0,\"ticks\":\"\"}}],\"scatter\":[{\"fillpattern\":{\"fillmode\":\"overlay\",\"size\":10,\"solidity\":0.2},\"type\":\"scatter\"}],\"parcoords\":[{\"type\":\"parcoords\",\"line\":{\"colorbar\":{\"outlinewidth\":0,\"ticks\":\"\"}}}],\"scatterpolargl\":[{\"type\":\"scatterpolargl\",\"marker\":{\"colorbar\":{\"outlinewidth\":0,\"ticks\":\"\"}}}],\"bar\":[{\"error_x\":{\"color\":\"#2a3f5f\"},\"error_y\":{\"color\":\"#2a3f5f\"},\"marker\":{\"line\":{\"color\":\"white\",\"width\":0.5},\"pattern\":{\"fillmode\":\"overlay\",\"size\":10,\"solidity\":0.2}},\"type\":\"bar\"}],\"scattergeo\":[{\"type\":\"scattergeo\",\"marker\":{\"colorbar\":{\"outlinewidth\":0,\"ticks\":\"\"}}}],\"scatterpolar\":[{\"type\":\"scatterpolar\",\"marker\":{\"colorbar\":{\"outlinewidth\":0,\"ticks\":\"\"}}}],\"histogram\":[{\"marker\":{\"pattern\":{\"fillmode\":\"overlay\",\"size\":10,\"solidity\":0.2}},\"type\":\"histogram\"}],\"scattergl\":[{\"type\":\"scattergl\",\"marker\":{\"colorbar\":{\"outlinewidth\":0,\"ticks\":\"\"}}}],\"scatter3d\":[{\"type\":\"scatter3d\",\"line\":{\"colorbar\":{\"outlinewidth\":0,\"ticks\":\"\"}},\"marker\":{\"colorbar\":{\"outlinewidth\":0,\"ticks\":\"\"}}}],\"scattermapbox\":[{\"type\":\"scattermapbox\",\"marker\":{\"colorbar\":{\"outlinewidth\":0,\"ticks\":\"\"}}}],\"scatterternary\":[{\"type\":\"scatterternary\",\"marker\":{\"colorbar\":{\"outlinewidth\":0,\"ticks\":\"\"}}}],\"scattercarpet\":[{\"type\":\"scattercarpet\",\"marker\":{\"colorbar\":{\"outlinewidth\":0,\"ticks\":\"\"}}}],\"carpet\":[{\"aaxis\":{\"endlinecolor\":\"#2a3f5f\",\"gridcolor\":\"#C8D4E3\",\"linecolor\":\"#C8D4E3\",\"minorgridcolor\":\"#C8D4E3\",\"startlinecolor\":\"#2a3f5f\"},\"baxis\":{\"endlinecolor\":\"#2a3f5f\",\"gridcolor\":\"#C8D4E3\",\"linecolor\":\"#C8D4E3\",\"minorgridcolor\":\"#C8D4E3\",\"startlinecolor\":\"#2a3f5f\"},\"type\":\"carpet\"}],\"table\":[{\"cells\":{\"fill\":{\"color\":\"#EBF0F8\"},\"line\":{\"color\":\"white\"}},\"header\":{\"fill\":{\"color\":\"#C8D4E3\"},\"line\":{\"color\":\"white\"}},\"type\":\"table\"}],\"barpolar\":[{\"marker\":{\"line\":{\"color\":\"white\",\"width\":0.5},\"pattern\":{\"fillmode\":\"overlay\",\"size\":10,\"solidity\":0.2}},\"type\":\"barpolar\"}],\"pie\":[{\"automargin\":true,\"type\":\"pie\"}]},\"layout\":{\"autotypenumbers\":\"strict\",\"colorway\":[\"#636efa\",\"#EF553B\",\"#00cc96\",\"#ab63fa\",\"#FFA15A\",\"#19d3f3\",\"#FF6692\",\"#B6E880\",\"#FF97FF\",\"#FECB52\"],\"font\":{\"color\":\"#2a3f5f\"},\"hovermode\":\"closest\",\"hoverlabel\":{\"align\":\"left\"},\"paper_bgcolor\":\"white\",\"plot_bgcolor\":\"white\",\"polar\":{\"bgcolor\":\"white\",\"angularaxis\":{\"gridcolor\":\"#EBF0F8\",\"linecolor\":\"#EBF0F8\",\"ticks\":\"\"},\"radialaxis\":{\"gridcolor\":\"#EBF0F8\",\"linecolor\":\"#EBF0F8\",\"ticks\":\"\"}},\"ternary\":{\"bgcolor\":\"white\",\"aaxis\":{\"gridcolor\":\"#DFE8F3\",\"linecolor\":\"#A2B1C6\",\"ticks\":\"\"},\"baxis\":{\"gridcolor\":\"#DFE8F3\",\"linecolor\":\"#A2B1C6\",\"ticks\":\"\"},\"caxis\":{\"gridcolor\":\"#DFE8F3\",\"linecolor\":\"#A2B1C6\",\"ticks\":\"\"}},\"coloraxis\":{\"colorbar\":{\"outlinewidth\":0,\"ticks\":\"\"}},\"colorscale\":{\"sequential\":[[0.0,\"#0d0887\"],[0.1111111111111111,\"#46039f\"],[0.2222222222222222,\"#7201a8\"],[0.3333333333333333,\"#9c179e\"],[0.4444444444444444,\"#bd3786\"],[0.5555555555555556,\"#d8576b\"],[0.6666666666666666,\"#ed7953\"],[0.7777777777777778,\"#fb9f3a\"],[0.8888888888888888,\"#fdca26\"],[1.0,\"#f0f921\"]],\"sequentialminus\":[[0.0,\"#0d0887\"],[0.1111111111111111,\"#46039f\"],[0.2222222222222222,\"#7201a8\"],[0.3333333333333333,\"#9c179e\"],[0.4444444444444444,\"#bd3786\"],[0.5555555555555556,\"#d8576b\"],[0.6666666666666666,\"#ed7953\"],[0.7777777777777778,\"#fb9f3a\"],[0.8888888888888888,\"#fdca26\"],[1.0,\"#f0f921\"]],\"diverging\":[[0,\"#8e0152\"],[0.1,\"#c51b7d\"],[0.2,\"#de77ae\"],[0.3,\"#f1b6da\"],[0.4,\"#fde0ef\"],[0.5,\"#f7f7f7\"],[0.6,\"#e6f5d0\"],[0.7,\"#b8e186\"],[0.8,\"#7fbc41\"],[0.9,\"#4d9221\"],[1,\"#276419\"]]},\"xaxis\":{\"gridcolor\":\"#EBF0F8\",\"linecolor\":\"#EBF0F8\",\"ticks\":\"\",\"title\":{\"standoff\":15},\"zerolinecolor\":\"#EBF0F8\",\"automargin\":true,\"zerolinewidth\":2},\"yaxis\":{\"gridcolor\":\"#EBF0F8\",\"linecolor\":\"#EBF0F8\",\"ticks\":\"\",\"title\":{\"standoff\":15},\"zerolinecolor\":\"#EBF0F8\",\"automargin\":true,\"zerolinewidth\":2},\"scene\":{\"xaxis\":{\"backgroundcolor\":\"white\",\"gridcolor\":\"#DFE8F3\",\"linecolor\":\"#EBF0F8\",\"showbackground\":true,\"ticks\":\"\",\"zerolinecolor\":\"#EBF0F8\",\"gridwidth\":2},\"yaxis\":{\"backgroundcolor\":\"white\",\"gridcolor\":\"#DFE8F3\",\"linecolor\":\"#EBF0F8\",\"showbackground\":true,\"ticks\":\"\",\"zerolinecolor\":\"#EBF0F8\",\"gridwidth\":2},\"zaxis\":{\"backgroundcolor\":\"white\",\"gridcolor\":\"#DFE8F3\",\"linecolor\":\"#EBF0F8\",\"showbackground\":true,\"ticks\":\"\",\"zerolinecolor\":\"#EBF0F8\",\"gridwidth\":2}},\"shapedefaults\":{\"line\":{\"color\":\"#2a3f5f\"}},\"annotationdefaults\":{\"arrowcolor\":\"#2a3f5f\",\"arrowhead\":0,\"arrowwidth\":1},\"geo\":{\"bgcolor\":\"white\",\"landcolor\":\"white\",\"subunitcolor\":\"#C8D4E3\",\"showland\":true,\"showlakes\":true,\"lakecolor\":\"white\"},\"title\":{\"x\":0.05},\"mapbox\":{\"style\":\"light\"}}},\"xaxis\":{\"anchor\":\"y\",\"domain\":[0.0,1.0],\"scaleanchor\":\"y\",\"constrain\":\"domain\"},\"yaxis\":{\"anchor\":\"x\",\"domain\":[0.0,1.0],\"autorange\":\"reversed\",\"constrain\":\"domain\"},\"coloraxis\":{\"colorscale\":[[0.0,\"rgb(0, 147, 146)\"],[0.16666666666666666,\"rgb(57, 177, 133)\"],[0.3333333333333333,\"rgb(156, 203, 134)\"],[0.5,\"rgb(233, 226, 156)\"],[0.6666666666666666,\"rgb(238, 180, 121)\"],[0.8333333333333334,\"rgb(232, 132, 113)\"],[1.0,\"rgb(207, 89, 126)\"]]},\"margin\":{\"t\":60},\"title\":{\"text\":\"Correlation Matrix\"}},                        {\"responsive\": true}                    ).then(function(){\n",
       "                            \n",
       "var gd = document.getElementById('c10f48fd-6e7d-48b0-b82b-731288f7e8d3');\n",
       "var x = new MutationObserver(function (mutations, observer) {{\n",
       "        var display = window.getComputedStyle(gd).display;\n",
       "        if (!display || display === 'none') {{\n",
       "            console.log([gd, 'removed!']);\n",
       "            Plotly.purge(gd);\n",
       "            observer.disconnect();\n",
       "        }}\n",
       "}});\n",
       "\n",
       "// Listen for the removal of the full notebook cells\n",
       "var notebookContainer = gd.closest('#notebook-container');\n",
       "if (notebookContainer) {{\n",
       "    x.observe(notebookContainer, {childList: true});\n",
       "}}\n",
       "\n",
       "// Listen for the clearing of the current output cell\n",
       "var outputEl = gd.closest('.output');\n",
       "if (outputEl) {{\n",
       "    x.observe(outputEl, {childList: true});\n",
       "}}\n",
       "\n",
       "                        })                };                });            </script>        </div>"
      ]
     },
     "metadata": {},
     "output_type": "display_data"
    }
   ],
   "source": [
    "correlationMatrix = dataWithoutCid.corr()\n",
    "correlationFig = px.imshow(correlationMatrix,text_auto = True,color_continuous_scale = 'Temps')\n",
    "correlationFig.update_layout(title='Correlation Matrix')\n",
    "correlationFig.show()"
   ]
  },
  {
   "cell_type": "code",
   "execution_count": 27,
   "id": "c1bb2bb8",
   "metadata": {},
   "outputs": [
    {
     "data": {
      "application/vnd.plotly.v1+json": {
       "config": {
        "plotlyServerURL": "https://plot.ly"
       },
       "data": [
        {
         "alignmentgroup": "True",
         "hovertemplate": "Bounce Rate Segment=%{x}<br>Number of Clients=%{marker.color}<extra></extra>",
         "legendgroup": "",
         "marker": {
          "color": [
           71,
           480,
           399
          ],
          "coloraxis": "coloraxis",
          "pattern": {
           "shape": ""
          }
         },
         "name": "",
         "offsetgroup": "",
         "orientation": "v",
         "showlegend": false,
         "textposition": "auto",
         "texttemplate": "%{y}",
         "type": "bar",
         "x": [
          "Low",
          "Medium",
          "High"
         ],
         "xaxis": "x",
         "y": [
          71,
          480,
          399
         ],
         "yaxis": "y"
        }
       ],
       "layout": {
        "barmode": "relative",
        "coloraxis": {
         "colorbar": {
          "title": {
           "text": "Number of Clients"
          }
         },
         "colorscale": [
          [
           0,
           "rgb(0, 147, 146)"
          ],
          [
           0.16666666666666666,
           "rgb(57, 177, 133)"
          ],
          [
           0.3333333333333333,
           "rgb(156, 203, 134)"
          ],
          [
           0.5,
           "rgb(233, 226, 156)"
          ],
          [
           0.6666666666666666,
           "rgb(238, 180, 121)"
          ],
          [
           0.8333333333333334,
           "rgb(232, 132, 113)"
          ],
          [
           1,
           "rgb(207, 89, 126)"
          ]
         ]
        },
        "legend": {
         "tracegroupgap": 0
        },
        "template": {
         "data": {
          "bar": [
           {
            "error_x": {
             "color": "#2a3f5f"
            },
            "error_y": {
             "color": "#2a3f5f"
            },
            "marker": {
             "line": {
              "color": "white",
              "width": 0.5
             },
             "pattern": {
              "fillmode": "overlay",
              "size": 10,
              "solidity": 0.2
             }
            },
            "type": "bar"
           }
          ],
          "barpolar": [
           {
            "marker": {
             "line": {
              "color": "white",
              "width": 0.5
             },
             "pattern": {
              "fillmode": "overlay",
              "size": 10,
              "solidity": 0.2
             }
            },
            "type": "barpolar"
           }
          ],
          "carpet": [
           {
            "aaxis": {
             "endlinecolor": "#2a3f5f",
             "gridcolor": "#C8D4E3",
             "linecolor": "#C8D4E3",
             "minorgridcolor": "#C8D4E3",
             "startlinecolor": "#2a3f5f"
            },
            "baxis": {
             "endlinecolor": "#2a3f5f",
             "gridcolor": "#C8D4E3",
             "linecolor": "#C8D4E3",
             "minorgridcolor": "#C8D4E3",
             "startlinecolor": "#2a3f5f"
            },
            "type": "carpet"
           }
          ],
          "choropleth": [
           {
            "colorbar": {
             "outlinewidth": 0,
             "ticks": ""
            },
            "type": "choropleth"
           }
          ],
          "contour": [
           {
            "colorbar": {
             "outlinewidth": 0,
             "ticks": ""
            },
            "colorscale": [
             [
              0,
              "#0d0887"
             ],
             [
              0.1111111111111111,
              "#46039f"
             ],
             [
              0.2222222222222222,
              "#7201a8"
             ],
             [
              0.3333333333333333,
              "#9c179e"
             ],
             [
              0.4444444444444444,
              "#bd3786"
             ],
             [
              0.5555555555555556,
              "#d8576b"
             ],
             [
              0.6666666666666666,
              "#ed7953"
             ],
             [
              0.7777777777777778,
              "#fb9f3a"
             ],
             [
              0.8888888888888888,
              "#fdca26"
             ],
             [
              1,
              "#f0f921"
             ]
            ],
            "type": "contour"
           }
          ],
          "contourcarpet": [
           {
            "colorbar": {
             "outlinewidth": 0,
             "ticks": ""
            },
            "type": "contourcarpet"
           }
          ],
          "heatmap": [
           {
            "colorbar": {
             "outlinewidth": 0,
             "ticks": ""
            },
            "colorscale": [
             [
              0,
              "#0d0887"
             ],
             [
              0.1111111111111111,
              "#46039f"
             ],
             [
              0.2222222222222222,
              "#7201a8"
             ],
             [
              0.3333333333333333,
              "#9c179e"
             ],
             [
              0.4444444444444444,
              "#bd3786"
             ],
             [
              0.5555555555555556,
              "#d8576b"
             ],
             [
              0.6666666666666666,
              "#ed7953"
             ],
             [
              0.7777777777777778,
              "#fb9f3a"
             ],
             [
              0.8888888888888888,
              "#fdca26"
             ],
             [
              1,
              "#f0f921"
             ]
            ],
            "type": "heatmap"
           }
          ],
          "heatmapgl": [
           {
            "colorbar": {
             "outlinewidth": 0,
             "ticks": ""
            },
            "colorscale": [
             [
              0,
              "#0d0887"
             ],
             [
              0.1111111111111111,
              "#46039f"
             ],
             [
              0.2222222222222222,
              "#7201a8"
             ],
             [
              0.3333333333333333,
              "#9c179e"
             ],
             [
              0.4444444444444444,
              "#bd3786"
             ],
             [
              0.5555555555555556,
              "#d8576b"
             ],
             [
              0.6666666666666666,
              "#ed7953"
             ],
             [
              0.7777777777777778,
              "#fb9f3a"
             ],
             [
              0.8888888888888888,
              "#fdca26"
             ],
             [
              1,
              "#f0f921"
             ]
            ],
            "type": "heatmapgl"
           }
          ],
          "histogram": [
           {
            "marker": {
             "pattern": {
              "fillmode": "overlay",
              "size": 10,
              "solidity": 0.2
             }
            },
            "type": "histogram"
           }
          ],
          "histogram2d": [
           {
            "colorbar": {
             "outlinewidth": 0,
             "ticks": ""
            },
            "colorscale": [
             [
              0,
              "#0d0887"
             ],
             [
              0.1111111111111111,
              "#46039f"
             ],
             [
              0.2222222222222222,
              "#7201a8"
             ],
             [
              0.3333333333333333,
              "#9c179e"
             ],
             [
              0.4444444444444444,
              "#bd3786"
             ],
             [
              0.5555555555555556,
              "#d8576b"
             ],
             [
              0.6666666666666666,
              "#ed7953"
             ],
             [
              0.7777777777777778,
              "#fb9f3a"
             ],
             [
              0.8888888888888888,
              "#fdca26"
             ],
             [
              1,
              "#f0f921"
             ]
            ],
            "type": "histogram2d"
           }
          ],
          "histogram2dcontour": [
           {
            "colorbar": {
             "outlinewidth": 0,
             "ticks": ""
            },
            "colorscale": [
             [
              0,
              "#0d0887"
             ],
             [
              0.1111111111111111,
              "#46039f"
             ],
             [
              0.2222222222222222,
              "#7201a8"
             ],
             [
              0.3333333333333333,
              "#9c179e"
             ],
             [
              0.4444444444444444,
              "#bd3786"
             ],
             [
              0.5555555555555556,
              "#d8576b"
             ],
             [
              0.6666666666666666,
              "#ed7953"
             ],
             [
              0.7777777777777778,
              "#fb9f3a"
             ],
             [
              0.8888888888888888,
              "#fdca26"
             ],
             [
              1,
              "#f0f921"
             ]
            ],
            "type": "histogram2dcontour"
           }
          ],
          "mesh3d": [
           {
            "colorbar": {
             "outlinewidth": 0,
             "ticks": ""
            },
            "type": "mesh3d"
           }
          ],
          "parcoords": [
           {
            "line": {
             "colorbar": {
              "outlinewidth": 0,
              "ticks": ""
             }
            },
            "type": "parcoords"
           }
          ],
          "pie": [
           {
            "automargin": true,
            "type": "pie"
           }
          ],
          "scatter": [
           {
            "fillpattern": {
             "fillmode": "overlay",
             "size": 10,
             "solidity": 0.2
            },
            "type": "scatter"
           }
          ],
          "scatter3d": [
           {
            "line": {
             "colorbar": {
              "outlinewidth": 0,
              "ticks": ""
             }
            },
            "marker": {
             "colorbar": {
              "outlinewidth": 0,
              "ticks": ""
             }
            },
            "type": "scatter3d"
           }
          ],
          "scattercarpet": [
           {
            "marker": {
             "colorbar": {
              "outlinewidth": 0,
              "ticks": ""
             }
            },
            "type": "scattercarpet"
           }
          ],
          "scattergeo": [
           {
            "marker": {
             "colorbar": {
              "outlinewidth": 0,
              "ticks": ""
             }
            },
            "type": "scattergeo"
           }
          ],
          "scattergl": [
           {
            "marker": {
             "colorbar": {
              "outlinewidth": 0,
              "ticks": ""
             }
            },
            "type": "scattergl"
           }
          ],
          "scattermapbox": [
           {
            "marker": {
             "colorbar": {
              "outlinewidth": 0,
              "ticks": ""
             }
            },
            "type": "scattermapbox"
           }
          ],
          "scatterpolar": [
           {
            "marker": {
             "colorbar": {
              "outlinewidth": 0,
              "ticks": ""
             }
            },
            "type": "scatterpolar"
           }
          ],
          "scatterpolargl": [
           {
            "marker": {
             "colorbar": {
              "outlinewidth": 0,
              "ticks": ""
             }
            },
            "type": "scatterpolargl"
           }
          ],
          "scatterternary": [
           {
            "marker": {
             "colorbar": {
              "outlinewidth": 0,
              "ticks": ""
             }
            },
            "type": "scatterternary"
           }
          ],
          "surface": [
           {
            "colorbar": {
             "outlinewidth": 0,
             "ticks": ""
            },
            "colorscale": [
             [
              0,
              "#0d0887"
             ],
             [
              0.1111111111111111,
              "#46039f"
             ],
             [
              0.2222222222222222,
              "#7201a8"
             ],
             [
              0.3333333333333333,
              "#9c179e"
             ],
             [
              0.4444444444444444,
              "#bd3786"
             ],
             [
              0.5555555555555556,
              "#d8576b"
             ],
             [
              0.6666666666666666,
              "#ed7953"
             ],
             [
              0.7777777777777778,
              "#fb9f3a"
             ],
             [
              0.8888888888888888,
              "#fdca26"
             ],
             [
              1,
              "#f0f921"
             ]
            ],
            "type": "surface"
           }
          ],
          "table": [
           {
            "cells": {
             "fill": {
              "color": "#EBF0F8"
             },
             "line": {
              "color": "white"
             }
            },
            "header": {
             "fill": {
              "color": "#C8D4E3"
             },
             "line": {
              "color": "white"
             }
            },
            "type": "table"
           }
          ]
         },
         "layout": {
          "annotationdefaults": {
           "arrowcolor": "#2a3f5f",
           "arrowhead": 0,
           "arrowwidth": 1
          },
          "autotypenumbers": "strict",
          "coloraxis": {
           "colorbar": {
            "outlinewidth": 0,
            "ticks": ""
           }
          },
          "colorscale": {
           "diverging": [
            [
             0,
             "#8e0152"
            ],
            [
             0.1,
             "#c51b7d"
            ],
            [
             0.2,
             "#de77ae"
            ],
            [
             0.3,
             "#f1b6da"
            ],
            [
             0.4,
             "#fde0ef"
            ],
            [
             0.5,
             "#f7f7f7"
            ],
            [
             0.6,
             "#e6f5d0"
            ],
            [
             0.7,
             "#b8e186"
            ],
            [
             0.8,
             "#7fbc41"
            ],
            [
             0.9,
             "#4d9221"
            ],
            [
             1,
             "#276419"
            ]
           ],
           "sequential": [
            [
             0,
             "#0d0887"
            ],
            [
             0.1111111111111111,
             "#46039f"
            ],
            [
             0.2222222222222222,
             "#7201a8"
            ],
            [
             0.3333333333333333,
             "#9c179e"
            ],
            [
             0.4444444444444444,
             "#bd3786"
            ],
            [
             0.5555555555555556,
             "#d8576b"
            ],
            [
             0.6666666666666666,
             "#ed7953"
            ],
            [
             0.7777777777777778,
             "#fb9f3a"
            ],
            [
             0.8888888888888888,
             "#fdca26"
            ],
            [
             1,
             "#f0f921"
            ]
           ],
           "sequentialminus": [
            [
             0,
             "#0d0887"
            ],
            [
             0.1111111111111111,
             "#46039f"
            ],
            [
             0.2222222222222222,
             "#7201a8"
            ],
            [
             0.3333333333333333,
             "#9c179e"
            ],
            [
             0.4444444444444444,
             "#bd3786"
            ],
            [
             0.5555555555555556,
             "#d8576b"
            ],
            [
             0.6666666666666666,
             "#ed7953"
            ],
            [
             0.7777777777777778,
             "#fb9f3a"
            ],
            [
             0.8888888888888888,
             "#fdca26"
            ],
            [
             1,
             "#f0f921"
            ]
           ]
          },
          "colorway": [
           "#636efa",
           "#EF553B",
           "#00cc96",
           "#ab63fa",
           "#FFA15A",
           "#19d3f3",
           "#FF6692",
           "#B6E880",
           "#FF97FF",
           "#FECB52"
          ],
          "font": {
           "color": "#2a3f5f"
          },
          "geo": {
           "bgcolor": "white",
           "lakecolor": "white",
           "landcolor": "white",
           "showlakes": true,
           "showland": true,
           "subunitcolor": "#C8D4E3"
          },
          "hoverlabel": {
           "align": "left"
          },
          "hovermode": "closest",
          "mapbox": {
           "style": "light"
          },
          "paper_bgcolor": "white",
          "plot_bgcolor": "white",
          "polar": {
           "angularaxis": {
            "gridcolor": "#EBF0F8",
            "linecolor": "#EBF0F8",
            "ticks": ""
           },
           "bgcolor": "white",
           "radialaxis": {
            "gridcolor": "#EBF0F8",
            "linecolor": "#EBF0F8",
            "ticks": ""
           }
          },
          "scene": {
           "xaxis": {
            "backgroundcolor": "white",
            "gridcolor": "#DFE8F3",
            "gridwidth": 2,
            "linecolor": "#EBF0F8",
            "showbackground": true,
            "ticks": "",
            "zerolinecolor": "#EBF0F8"
           },
           "yaxis": {
            "backgroundcolor": "white",
            "gridcolor": "#DFE8F3",
            "gridwidth": 2,
            "linecolor": "#EBF0F8",
            "showbackground": true,
            "ticks": "",
            "zerolinecolor": "#EBF0F8"
           },
           "zaxis": {
            "backgroundcolor": "white",
            "gridcolor": "#DFE8F3",
            "gridwidth": 2,
            "linecolor": "#EBF0F8",
            "showbackground": true,
            "ticks": "",
            "zerolinecolor": "#EBF0F8"
           }
          },
          "shapedefaults": {
           "line": {
            "color": "#2a3f5f"
           }
          },
          "ternary": {
           "aaxis": {
            "gridcolor": "#DFE8F3",
            "linecolor": "#A2B1C6",
            "ticks": ""
           },
           "baxis": {
            "gridcolor": "#DFE8F3",
            "linecolor": "#A2B1C6",
            "ticks": ""
           },
           "bgcolor": "white",
           "caxis": {
            "gridcolor": "#DFE8F3",
            "linecolor": "#A2B1C6",
            "ticks": ""
           }
          },
          "title": {
           "x": 0.05
          },
          "xaxis": {
           "automargin": true,
           "gridcolor": "#EBF0F8",
           "linecolor": "#EBF0F8",
           "ticks": "",
           "title": {
            "standoff": 15
           },
           "zerolinecolor": "#EBF0F8",
           "zerolinewidth": 2
          },
          "yaxis": {
           "automargin": true,
           "gridcolor": "#EBF0F8",
           "linecolor": "#EBF0F8",
           "ticks": "",
           "title": {
            "standoff": 15
           },
           "zerolinecolor": "#EBF0F8",
           "zerolinewidth": 2
          }
         }
        },
        "title": {
         "text": "Segmentation of Clients based on Bounce Rates",
         "x": 0.5
        },
        "xaxis": {
         "anchor": "y",
         "domain": [
          0,
          1
         ],
         "title": {
          "text": "Bounce Rate Segment"
         }
        },
        "yaxis": {
         "anchor": "x",
         "domain": [
          0,
          1
         ],
         "title": {
          "text": "Number of Clients"
         }
        }
       }
      },
      "text/html": [
       "<div>                            <div id=\"ef1d381f-3644-41d7-890b-ff739458a4a8\" class=\"plotly-graph-div\" style=\"height:525px; width:100%;\"></div>            <script type=\"text/javascript\">                require([\"plotly\"], function(Plotly) {                    window.PLOTLYENV=window.PLOTLYENV || {};                                    if (document.getElementById(\"ef1d381f-3644-41d7-890b-ff739458a4a8\")) {                    Plotly.newPlot(                        \"ef1d381f-3644-41d7-890b-ff739458a4a8\",                        [{\"alignmentgroup\":\"True\",\"hovertemplate\":\"Bounce Rate Segment=%{x}<br>Number of Clients=%{marker.color}<extra></extra>\",\"legendgroup\":\"\",\"marker\":{\"color\":[71,480,399],\"coloraxis\":\"coloraxis\",\"pattern\":{\"shape\":\"\"}},\"name\":\"\",\"offsetgroup\":\"\",\"orientation\":\"v\",\"showlegend\":false,\"textposition\":\"auto\",\"texttemplate\":\"%{y}\",\"x\":[\"Low\",\"Medium\",\"High\"],\"xaxis\":\"x\",\"y\":[71,480,399],\"yaxis\":\"y\",\"type\":\"bar\"}],                        {\"template\":{\"data\":{\"histogram2dcontour\":[{\"type\":\"histogram2dcontour\",\"colorbar\":{\"outlinewidth\":0,\"ticks\":\"\"},\"colorscale\":[[0.0,\"#0d0887\"],[0.1111111111111111,\"#46039f\"],[0.2222222222222222,\"#7201a8\"],[0.3333333333333333,\"#9c179e\"],[0.4444444444444444,\"#bd3786\"],[0.5555555555555556,\"#d8576b\"],[0.6666666666666666,\"#ed7953\"],[0.7777777777777778,\"#fb9f3a\"],[0.8888888888888888,\"#fdca26\"],[1.0,\"#f0f921\"]]}],\"choropleth\":[{\"type\":\"choropleth\",\"colorbar\":{\"outlinewidth\":0,\"ticks\":\"\"}}],\"histogram2d\":[{\"type\":\"histogram2d\",\"colorbar\":{\"outlinewidth\":0,\"ticks\":\"\"},\"colorscale\":[[0.0,\"#0d0887\"],[0.1111111111111111,\"#46039f\"],[0.2222222222222222,\"#7201a8\"],[0.3333333333333333,\"#9c179e\"],[0.4444444444444444,\"#bd3786\"],[0.5555555555555556,\"#d8576b\"],[0.6666666666666666,\"#ed7953\"],[0.7777777777777778,\"#fb9f3a\"],[0.8888888888888888,\"#fdca26\"],[1.0,\"#f0f921\"]]}],\"heatmap\":[{\"type\":\"heatmap\",\"colorbar\":{\"outlinewidth\":0,\"ticks\":\"\"},\"colorscale\":[[0.0,\"#0d0887\"],[0.1111111111111111,\"#46039f\"],[0.2222222222222222,\"#7201a8\"],[0.3333333333333333,\"#9c179e\"],[0.4444444444444444,\"#bd3786\"],[0.5555555555555556,\"#d8576b\"],[0.6666666666666666,\"#ed7953\"],[0.7777777777777778,\"#fb9f3a\"],[0.8888888888888888,\"#fdca26\"],[1.0,\"#f0f921\"]]}],\"heatmapgl\":[{\"type\":\"heatmapgl\",\"colorbar\":{\"outlinewidth\":0,\"ticks\":\"\"},\"colorscale\":[[0.0,\"#0d0887\"],[0.1111111111111111,\"#46039f\"],[0.2222222222222222,\"#7201a8\"],[0.3333333333333333,\"#9c179e\"],[0.4444444444444444,\"#bd3786\"],[0.5555555555555556,\"#d8576b\"],[0.6666666666666666,\"#ed7953\"],[0.7777777777777778,\"#fb9f3a\"],[0.8888888888888888,\"#fdca26\"],[1.0,\"#f0f921\"]]}],\"contourcarpet\":[{\"type\":\"contourcarpet\",\"colorbar\":{\"outlinewidth\":0,\"ticks\":\"\"}}],\"contour\":[{\"type\":\"contour\",\"colorbar\":{\"outlinewidth\":0,\"ticks\":\"\"},\"colorscale\":[[0.0,\"#0d0887\"],[0.1111111111111111,\"#46039f\"],[0.2222222222222222,\"#7201a8\"],[0.3333333333333333,\"#9c179e\"],[0.4444444444444444,\"#bd3786\"],[0.5555555555555556,\"#d8576b\"],[0.6666666666666666,\"#ed7953\"],[0.7777777777777778,\"#fb9f3a\"],[0.8888888888888888,\"#fdca26\"],[1.0,\"#f0f921\"]]}],\"surface\":[{\"type\":\"surface\",\"colorbar\":{\"outlinewidth\":0,\"ticks\":\"\"},\"colorscale\":[[0.0,\"#0d0887\"],[0.1111111111111111,\"#46039f\"],[0.2222222222222222,\"#7201a8\"],[0.3333333333333333,\"#9c179e\"],[0.4444444444444444,\"#bd3786\"],[0.5555555555555556,\"#d8576b\"],[0.6666666666666666,\"#ed7953\"],[0.7777777777777778,\"#fb9f3a\"],[0.8888888888888888,\"#fdca26\"],[1.0,\"#f0f921\"]]}],\"mesh3d\":[{\"type\":\"mesh3d\",\"colorbar\":{\"outlinewidth\":0,\"ticks\":\"\"}}],\"scatter\":[{\"fillpattern\":{\"fillmode\":\"overlay\",\"size\":10,\"solidity\":0.2},\"type\":\"scatter\"}],\"parcoords\":[{\"type\":\"parcoords\",\"line\":{\"colorbar\":{\"outlinewidth\":0,\"ticks\":\"\"}}}],\"scatterpolargl\":[{\"type\":\"scatterpolargl\",\"marker\":{\"colorbar\":{\"outlinewidth\":0,\"ticks\":\"\"}}}],\"bar\":[{\"error_x\":{\"color\":\"#2a3f5f\"},\"error_y\":{\"color\":\"#2a3f5f\"},\"marker\":{\"line\":{\"color\":\"white\",\"width\":0.5},\"pattern\":{\"fillmode\":\"overlay\",\"size\":10,\"solidity\":0.2}},\"type\":\"bar\"}],\"scattergeo\":[{\"type\":\"scattergeo\",\"marker\":{\"colorbar\":{\"outlinewidth\":0,\"ticks\":\"\"}}}],\"scatterpolar\":[{\"type\":\"scatterpolar\",\"marker\":{\"colorbar\":{\"outlinewidth\":0,\"ticks\":\"\"}}}],\"histogram\":[{\"marker\":{\"pattern\":{\"fillmode\":\"overlay\",\"size\":10,\"solidity\":0.2}},\"type\":\"histogram\"}],\"scattergl\":[{\"type\":\"scattergl\",\"marker\":{\"colorbar\":{\"outlinewidth\":0,\"ticks\":\"\"}}}],\"scatter3d\":[{\"type\":\"scatter3d\",\"line\":{\"colorbar\":{\"outlinewidth\":0,\"ticks\":\"\"}},\"marker\":{\"colorbar\":{\"outlinewidth\":0,\"ticks\":\"\"}}}],\"scattermapbox\":[{\"type\":\"scattermapbox\",\"marker\":{\"colorbar\":{\"outlinewidth\":0,\"ticks\":\"\"}}}],\"scatterternary\":[{\"type\":\"scatterternary\",\"marker\":{\"colorbar\":{\"outlinewidth\":0,\"ticks\":\"\"}}}],\"scattercarpet\":[{\"type\":\"scattercarpet\",\"marker\":{\"colorbar\":{\"outlinewidth\":0,\"ticks\":\"\"}}}],\"carpet\":[{\"aaxis\":{\"endlinecolor\":\"#2a3f5f\",\"gridcolor\":\"#C8D4E3\",\"linecolor\":\"#C8D4E3\",\"minorgridcolor\":\"#C8D4E3\",\"startlinecolor\":\"#2a3f5f\"},\"baxis\":{\"endlinecolor\":\"#2a3f5f\",\"gridcolor\":\"#C8D4E3\",\"linecolor\":\"#C8D4E3\",\"minorgridcolor\":\"#C8D4E3\",\"startlinecolor\":\"#2a3f5f\"},\"type\":\"carpet\"}],\"table\":[{\"cells\":{\"fill\":{\"color\":\"#EBF0F8\"},\"line\":{\"color\":\"white\"}},\"header\":{\"fill\":{\"color\":\"#C8D4E3\"},\"line\":{\"color\":\"white\"}},\"type\":\"table\"}],\"barpolar\":[{\"marker\":{\"line\":{\"color\":\"white\",\"width\":0.5},\"pattern\":{\"fillmode\":\"overlay\",\"size\":10,\"solidity\":0.2}},\"type\":\"barpolar\"}],\"pie\":[{\"automargin\":true,\"type\":\"pie\"}]},\"layout\":{\"autotypenumbers\":\"strict\",\"colorway\":[\"#636efa\",\"#EF553B\",\"#00cc96\",\"#ab63fa\",\"#FFA15A\",\"#19d3f3\",\"#FF6692\",\"#B6E880\",\"#FF97FF\",\"#FECB52\"],\"font\":{\"color\":\"#2a3f5f\"},\"hovermode\":\"closest\",\"hoverlabel\":{\"align\":\"left\"},\"paper_bgcolor\":\"white\",\"plot_bgcolor\":\"white\",\"polar\":{\"bgcolor\":\"white\",\"angularaxis\":{\"gridcolor\":\"#EBF0F8\",\"linecolor\":\"#EBF0F8\",\"ticks\":\"\"},\"radialaxis\":{\"gridcolor\":\"#EBF0F8\",\"linecolor\":\"#EBF0F8\",\"ticks\":\"\"}},\"ternary\":{\"bgcolor\":\"white\",\"aaxis\":{\"gridcolor\":\"#DFE8F3\",\"linecolor\":\"#A2B1C6\",\"ticks\":\"\"},\"baxis\":{\"gridcolor\":\"#DFE8F3\",\"linecolor\":\"#A2B1C6\",\"ticks\":\"\"},\"caxis\":{\"gridcolor\":\"#DFE8F3\",\"linecolor\":\"#A2B1C6\",\"ticks\":\"\"}},\"coloraxis\":{\"colorbar\":{\"outlinewidth\":0,\"ticks\":\"\"}},\"colorscale\":{\"sequential\":[[0.0,\"#0d0887\"],[0.1111111111111111,\"#46039f\"],[0.2222222222222222,\"#7201a8\"],[0.3333333333333333,\"#9c179e\"],[0.4444444444444444,\"#bd3786\"],[0.5555555555555556,\"#d8576b\"],[0.6666666666666666,\"#ed7953\"],[0.7777777777777778,\"#fb9f3a\"],[0.8888888888888888,\"#fdca26\"],[1.0,\"#f0f921\"]],\"sequentialminus\":[[0.0,\"#0d0887\"],[0.1111111111111111,\"#46039f\"],[0.2222222222222222,\"#7201a8\"],[0.3333333333333333,\"#9c179e\"],[0.4444444444444444,\"#bd3786\"],[0.5555555555555556,\"#d8576b\"],[0.6666666666666666,\"#ed7953\"],[0.7777777777777778,\"#fb9f3a\"],[0.8888888888888888,\"#fdca26\"],[1.0,\"#f0f921\"]],\"diverging\":[[0,\"#8e0152\"],[0.1,\"#c51b7d\"],[0.2,\"#de77ae\"],[0.3,\"#f1b6da\"],[0.4,\"#fde0ef\"],[0.5,\"#f7f7f7\"],[0.6,\"#e6f5d0\"],[0.7,\"#b8e186\"],[0.8,\"#7fbc41\"],[0.9,\"#4d9221\"],[1,\"#276419\"]]},\"xaxis\":{\"gridcolor\":\"#EBF0F8\",\"linecolor\":\"#EBF0F8\",\"ticks\":\"\",\"title\":{\"standoff\":15},\"zerolinecolor\":\"#EBF0F8\",\"automargin\":true,\"zerolinewidth\":2},\"yaxis\":{\"gridcolor\":\"#EBF0F8\",\"linecolor\":\"#EBF0F8\",\"ticks\":\"\",\"title\":{\"standoff\":15},\"zerolinecolor\":\"#EBF0F8\",\"automargin\":true,\"zerolinewidth\":2},\"scene\":{\"xaxis\":{\"backgroundcolor\":\"white\",\"gridcolor\":\"#DFE8F3\",\"linecolor\":\"#EBF0F8\",\"showbackground\":true,\"ticks\":\"\",\"zerolinecolor\":\"#EBF0F8\",\"gridwidth\":2},\"yaxis\":{\"backgroundcolor\":\"white\",\"gridcolor\":\"#DFE8F3\",\"linecolor\":\"#EBF0F8\",\"showbackground\":true,\"ticks\":\"\",\"zerolinecolor\":\"#EBF0F8\",\"gridwidth\":2},\"zaxis\":{\"backgroundcolor\":\"white\",\"gridcolor\":\"#DFE8F3\",\"linecolor\":\"#EBF0F8\",\"showbackground\":true,\"ticks\":\"\",\"zerolinecolor\":\"#EBF0F8\",\"gridwidth\":2}},\"shapedefaults\":{\"line\":{\"color\":\"#2a3f5f\"}},\"annotationdefaults\":{\"arrowcolor\":\"#2a3f5f\",\"arrowhead\":0,\"arrowwidth\":1},\"geo\":{\"bgcolor\":\"white\",\"landcolor\":\"white\",\"subunitcolor\":\"#C8D4E3\",\"showland\":true,\"showlakes\":true,\"lakecolor\":\"white\"},\"title\":{\"x\":0.05},\"mapbox\":{\"style\":\"light\"}}},\"xaxis\":{\"anchor\":\"y\",\"domain\":[0.0,1.0],\"title\":{\"text\":\"Bounce Rate Segment\"}},\"yaxis\":{\"anchor\":\"x\",\"domain\":[0.0,1.0],\"title\":{\"text\":\"Number of Clients\"}},\"coloraxis\":{\"colorbar\":{\"title\":{\"text\":\"Number of Clients\"}},\"colorscale\":[[0.0,\"rgb(0, 147, 146)\"],[0.16666666666666666,\"rgb(57, 177, 133)\"],[0.3333333333333333,\"rgb(156, 203, 134)\"],[0.5,\"rgb(233, 226, 156)\"],[0.6666666666666666,\"rgb(238, 180, 121)\"],[0.8333333333333334,\"rgb(232, 132, 113)\"],[1.0,\"rgb(207, 89, 126)\"]]},\"legend\":{\"tracegroupgap\":0},\"title\":{\"text\":\"Segmentation of Clients based on Bounce Rates\",\"x\":0.5},\"barmode\":\"relative\"},                        {\"responsive\": true}                    ).then(function(){\n",
       "                            \n",
       "var gd = document.getElementById('ef1d381f-3644-41d7-890b-ff739458a4a8');\n",
       "var x = new MutationObserver(function (mutations, observer) {{\n",
       "        var display = window.getComputedStyle(gd).display;\n",
       "        if (!display || display === 'none') {{\n",
       "            console.log([gd, 'removed!']);\n",
       "            Plotly.purge(gd);\n",
       "            observer.disconnect();\n",
       "        }}\n",
       "}});\n",
       "\n",
       "// Listen for the removal of the full notebook cells\n",
       "var notebookContainer = gd.closest('#notebook-container');\n",
       "if (notebookContainer) {{\n",
       "    x.observe(notebookContainer, {childList: true});\n",
       "}}\n",
       "\n",
       "// Listen for the clearing of the current output cell\n",
       "var outputEl = gd.closest('.output');\n",
       "if (outputEl) {{\n",
       "    x.observe(outputEl, {childList: true});\n",
       "}}\n",
       "\n",
       "                        })                };                });            </script>        </div>"
      ]
     },
     "metadata": {},
     "output_type": "display_data"
    }
   ],
   "source": [
    "highBounceRate = 70\n",
    "lowBounceRate = 30\n",
    "data['Bounce Rate Segment'] = pd.cut(data['Bounce Rate'], \n",
    "                                     bins=[0, lowBounceRate, \n",
    "                                           highBounceRate, 100],\n",
    "                                   labels=['Low', 'Medium', 'High'], right=False)\n",
    "segmentCounts = data['Bounce Rate Segment'].value_counts().sort_index()\n",
    "segmentFig = px.bar(segmentCounts, labels={'index': 'Bounce Rate Segment', \n",
    "                                             'value': 'Number of Clients'},\n",
    "                     title='Segmentation of Clients based on Bounce Rates',\n",
    "                     color = 'value', color_continuous_scale = 'Temps',text_auto = True)\n",
    "segmentFig.update_layout(title_text='Segmentation of Clients based on Bounce Rates', title_x=0.5)\n",
    "segmentFig.show()"
   ]
  },
  {
   "cell_type": "code",
   "execution_count": 35,
   "id": "eb5a6382",
   "metadata": {},
   "outputs": [
    {
     "data": {
      "application/vnd.plotly.v1+json": {
       "config": {
        "plotlyServerURL": "https://plot.ly"
       },
       "data": [
        {
         "marker": {
          "color": [
           "#7FD4C1",
           "#F7C0BB",
           "#FF4136"
          ]
         },
         "text": [
          9.05,
          5.04,
          1.43
         ],
         "textposition": "auto",
         "type": "bar",
         "x": [
          "Low",
          "Medium",
          "High"
         ],
         "y": [
          9.046478873239437,
          5.038854166666667,
          1.4334168755221386
         ]
        }
       ],
       "layout": {
        "template": {
         "data": {
          "bar": [
           {
            "error_x": {
             "color": "#2a3f5f"
            },
            "error_y": {
             "color": "#2a3f5f"
            },
            "marker": {
             "line": {
              "color": "white",
              "width": 0.5
             },
             "pattern": {
              "fillmode": "overlay",
              "size": 10,
              "solidity": 0.2
             }
            },
            "type": "bar"
           }
          ],
          "barpolar": [
           {
            "marker": {
             "line": {
              "color": "white",
              "width": 0.5
             },
             "pattern": {
              "fillmode": "overlay",
              "size": 10,
              "solidity": 0.2
             }
            },
            "type": "barpolar"
           }
          ],
          "carpet": [
           {
            "aaxis": {
             "endlinecolor": "#2a3f5f",
             "gridcolor": "#C8D4E3",
             "linecolor": "#C8D4E3",
             "minorgridcolor": "#C8D4E3",
             "startlinecolor": "#2a3f5f"
            },
            "baxis": {
             "endlinecolor": "#2a3f5f",
             "gridcolor": "#C8D4E3",
             "linecolor": "#C8D4E3",
             "minorgridcolor": "#C8D4E3",
             "startlinecolor": "#2a3f5f"
            },
            "type": "carpet"
           }
          ],
          "choropleth": [
           {
            "colorbar": {
             "outlinewidth": 0,
             "ticks": ""
            },
            "type": "choropleth"
           }
          ],
          "contour": [
           {
            "colorbar": {
             "outlinewidth": 0,
             "ticks": ""
            },
            "colorscale": [
             [
              0,
              "#0d0887"
             ],
             [
              0.1111111111111111,
              "#46039f"
             ],
             [
              0.2222222222222222,
              "#7201a8"
             ],
             [
              0.3333333333333333,
              "#9c179e"
             ],
             [
              0.4444444444444444,
              "#bd3786"
             ],
             [
              0.5555555555555556,
              "#d8576b"
             ],
             [
              0.6666666666666666,
              "#ed7953"
             ],
             [
              0.7777777777777778,
              "#fb9f3a"
             ],
             [
              0.8888888888888888,
              "#fdca26"
             ],
             [
              1,
              "#f0f921"
             ]
            ],
            "type": "contour"
           }
          ],
          "contourcarpet": [
           {
            "colorbar": {
             "outlinewidth": 0,
             "ticks": ""
            },
            "type": "contourcarpet"
           }
          ],
          "heatmap": [
           {
            "colorbar": {
             "outlinewidth": 0,
             "ticks": ""
            },
            "colorscale": [
             [
              0,
              "#0d0887"
             ],
             [
              0.1111111111111111,
              "#46039f"
             ],
             [
              0.2222222222222222,
              "#7201a8"
             ],
             [
              0.3333333333333333,
              "#9c179e"
             ],
             [
              0.4444444444444444,
              "#bd3786"
             ],
             [
              0.5555555555555556,
              "#d8576b"
             ],
             [
              0.6666666666666666,
              "#ed7953"
             ],
             [
              0.7777777777777778,
              "#fb9f3a"
             ],
             [
              0.8888888888888888,
              "#fdca26"
             ],
             [
              1,
              "#f0f921"
             ]
            ],
            "type": "heatmap"
           }
          ],
          "heatmapgl": [
           {
            "colorbar": {
             "outlinewidth": 0,
             "ticks": ""
            },
            "colorscale": [
             [
              0,
              "#0d0887"
             ],
             [
              0.1111111111111111,
              "#46039f"
             ],
             [
              0.2222222222222222,
              "#7201a8"
             ],
             [
              0.3333333333333333,
              "#9c179e"
             ],
             [
              0.4444444444444444,
              "#bd3786"
             ],
             [
              0.5555555555555556,
              "#d8576b"
             ],
             [
              0.6666666666666666,
              "#ed7953"
             ],
             [
              0.7777777777777778,
              "#fb9f3a"
             ],
             [
              0.8888888888888888,
              "#fdca26"
             ],
             [
              1,
              "#f0f921"
             ]
            ],
            "type": "heatmapgl"
           }
          ],
          "histogram": [
           {
            "marker": {
             "pattern": {
              "fillmode": "overlay",
              "size": 10,
              "solidity": 0.2
             }
            },
            "type": "histogram"
           }
          ],
          "histogram2d": [
           {
            "colorbar": {
             "outlinewidth": 0,
             "ticks": ""
            },
            "colorscale": [
             [
              0,
              "#0d0887"
             ],
             [
              0.1111111111111111,
              "#46039f"
             ],
             [
              0.2222222222222222,
              "#7201a8"
             ],
             [
              0.3333333333333333,
              "#9c179e"
             ],
             [
              0.4444444444444444,
              "#bd3786"
             ],
             [
              0.5555555555555556,
              "#d8576b"
             ],
             [
              0.6666666666666666,
              "#ed7953"
             ],
             [
              0.7777777777777778,
              "#fb9f3a"
             ],
             [
              0.8888888888888888,
              "#fdca26"
             ],
             [
              1,
              "#f0f921"
             ]
            ],
            "type": "histogram2d"
           }
          ],
          "histogram2dcontour": [
           {
            "colorbar": {
             "outlinewidth": 0,
             "ticks": ""
            },
            "colorscale": [
             [
              0,
              "#0d0887"
             ],
             [
              0.1111111111111111,
              "#46039f"
             ],
             [
              0.2222222222222222,
              "#7201a8"
             ],
             [
              0.3333333333333333,
              "#9c179e"
             ],
             [
              0.4444444444444444,
              "#bd3786"
             ],
             [
              0.5555555555555556,
              "#d8576b"
             ],
             [
              0.6666666666666666,
              "#ed7953"
             ],
             [
              0.7777777777777778,
              "#fb9f3a"
             ],
             [
              0.8888888888888888,
              "#fdca26"
             ],
             [
              1,
              "#f0f921"
             ]
            ],
            "type": "histogram2dcontour"
           }
          ],
          "mesh3d": [
           {
            "colorbar": {
             "outlinewidth": 0,
             "ticks": ""
            },
            "type": "mesh3d"
           }
          ],
          "parcoords": [
           {
            "line": {
             "colorbar": {
              "outlinewidth": 0,
              "ticks": ""
             }
            },
            "type": "parcoords"
           }
          ],
          "pie": [
           {
            "automargin": true,
            "type": "pie"
           }
          ],
          "scatter": [
           {
            "fillpattern": {
             "fillmode": "overlay",
             "size": 10,
             "solidity": 0.2
            },
            "type": "scatter"
           }
          ],
          "scatter3d": [
           {
            "line": {
             "colorbar": {
              "outlinewidth": 0,
              "ticks": ""
             }
            },
            "marker": {
             "colorbar": {
              "outlinewidth": 0,
              "ticks": ""
             }
            },
            "type": "scatter3d"
           }
          ],
          "scattercarpet": [
           {
            "marker": {
             "colorbar": {
              "outlinewidth": 0,
              "ticks": ""
             }
            },
            "type": "scattercarpet"
           }
          ],
          "scattergeo": [
           {
            "marker": {
             "colorbar": {
              "outlinewidth": 0,
              "ticks": ""
             }
            },
            "type": "scattergeo"
           }
          ],
          "scattergl": [
           {
            "marker": {
             "colorbar": {
              "outlinewidth": 0,
              "ticks": ""
             }
            },
            "type": "scattergl"
           }
          ],
          "scattermapbox": [
           {
            "marker": {
             "colorbar": {
              "outlinewidth": 0,
              "ticks": ""
             }
            },
            "type": "scattermapbox"
           }
          ],
          "scatterpolar": [
           {
            "marker": {
             "colorbar": {
              "outlinewidth": 0,
              "ticks": ""
             }
            },
            "type": "scatterpolar"
           }
          ],
          "scatterpolargl": [
           {
            "marker": {
             "colorbar": {
              "outlinewidth": 0,
              "ticks": ""
             }
            },
            "type": "scatterpolargl"
           }
          ],
          "scatterternary": [
           {
            "marker": {
             "colorbar": {
              "outlinewidth": 0,
              "ticks": ""
             }
            },
            "type": "scatterternary"
           }
          ],
          "surface": [
           {
            "colorbar": {
             "outlinewidth": 0,
             "ticks": ""
            },
            "colorscale": [
             [
              0,
              "#0d0887"
             ],
             [
              0.1111111111111111,
              "#46039f"
             ],
             [
              0.2222222222222222,
              "#7201a8"
             ],
             [
              0.3333333333333333,
              "#9c179e"
             ],
             [
              0.4444444444444444,
              "#bd3786"
             ],
             [
              0.5555555555555556,
              "#d8576b"
             ],
             [
              0.6666666666666666,
              "#ed7953"
             ],
             [
              0.7777777777777778,
              "#fb9f3a"
             ],
             [
              0.8888888888888888,
              "#fdca26"
             ],
             [
              1,
              "#f0f921"
             ]
            ],
            "type": "surface"
           }
          ],
          "table": [
           {
            "cells": {
             "fill": {
              "color": "#EBF0F8"
             },
             "line": {
              "color": "white"
             }
            },
            "header": {
             "fill": {
              "color": "#C8D4E3"
             },
             "line": {
              "color": "white"
             }
            },
            "type": "table"
           }
          ]
         },
         "layout": {
          "annotationdefaults": {
           "arrowcolor": "#2a3f5f",
           "arrowhead": 0,
           "arrowwidth": 1
          },
          "autotypenumbers": "strict",
          "coloraxis": {
           "colorbar": {
            "outlinewidth": 0,
            "ticks": ""
           }
          },
          "colorscale": {
           "diverging": [
            [
             0,
             "#8e0152"
            ],
            [
             0.1,
             "#c51b7d"
            ],
            [
             0.2,
             "#de77ae"
            ],
            [
             0.3,
             "#f1b6da"
            ],
            [
             0.4,
             "#fde0ef"
            ],
            [
             0.5,
             "#f7f7f7"
            ],
            [
             0.6,
             "#e6f5d0"
            ],
            [
             0.7,
             "#b8e186"
            ],
            [
             0.8,
             "#7fbc41"
            ],
            [
             0.9,
             "#4d9221"
            ],
            [
             1,
             "#276419"
            ]
           ],
           "sequential": [
            [
             0,
             "#0d0887"
            ],
            [
             0.1111111111111111,
             "#46039f"
            ],
            [
             0.2222222222222222,
             "#7201a8"
            ],
            [
             0.3333333333333333,
             "#9c179e"
            ],
            [
             0.4444444444444444,
             "#bd3786"
            ],
            [
             0.5555555555555556,
             "#d8576b"
            ],
            [
             0.6666666666666666,
             "#ed7953"
            ],
            [
             0.7777777777777778,
             "#fb9f3a"
            ],
            [
             0.8888888888888888,
             "#fdca26"
            ],
            [
             1,
             "#f0f921"
            ]
           ],
           "sequentialminus": [
            [
             0,
             "#0d0887"
            ],
            [
             0.1111111111111111,
             "#46039f"
            ],
            [
             0.2222222222222222,
             "#7201a8"
            ],
            [
             0.3333333333333333,
             "#9c179e"
            ],
            [
             0.4444444444444444,
             "#bd3786"
            ],
            [
             0.5555555555555556,
             "#d8576b"
            ],
            [
             0.6666666666666666,
             "#ed7953"
            ],
            [
             0.7777777777777778,
             "#fb9f3a"
            ],
            [
             0.8888888888888888,
             "#fdca26"
            ],
            [
             1,
             "#f0f921"
            ]
           ]
          },
          "colorway": [
           "#636efa",
           "#EF553B",
           "#00cc96",
           "#ab63fa",
           "#FFA15A",
           "#19d3f3",
           "#FF6692",
           "#B6E880",
           "#FF97FF",
           "#FECB52"
          ],
          "font": {
           "color": "#2a3f5f"
          },
          "geo": {
           "bgcolor": "white",
           "lakecolor": "white",
           "landcolor": "white",
           "showlakes": true,
           "showland": true,
           "subunitcolor": "#C8D4E3"
          },
          "hoverlabel": {
           "align": "left"
          },
          "hovermode": "closest",
          "mapbox": {
           "style": "light"
          },
          "paper_bgcolor": "white",
          "plot_bgcolor": "white",
          "polar": {
           "angularaxis": {
            "gridcolor": "#EBF0F8",
            "linecolor": "#EBF0F8",
            "ticks": ""
           },
           "bgcolor": "white",
           "radialaxis": {
            "gridcolor": "#EBF0F8",
            "linecolor": "#EBF0F8",
            "ticks": ""
           }
          },
          "scene": {
           "xaxis": {
            "backgroundcolor": "white",
            "gridcolor": "#DFE8F3",
            "gridwidth": 2,
            "linecolor": "#EBF0F8",
            "showbackground": true,
            "ticks": "",
            "zerolinecolor": "#EBF0F8"
           },
           "yaxis": {
            "backgroundcolor": "white",
            "gridcolor": "#DFE8F3",
            "gridwidth": 2,
            "linecolor": "#EBF0F8",
            "showbackground": true,
            "ticks": "",
            "zerolinecolor": "#EBF0F8"
           },
           "zaxis": {
            "backgroundcolor": "white",
            "gridcolor": "#DFE8F3",
            "gridwidth": 2,
            "linecolor": "#EBF0F8",
            "showbackground": true,
            "ticks": "",
            "zerolinecolor": "#EBF0F8"
           }
          },
          "shapedefaults": {
           "line": {
            "color": "#2a3f5f"
           }
          },
          "ternary": {
           "aaxis": {
            "gridcolor": "#DFE8F3",
            "linecolor": "#A2B1C6",
            "ticks": ""
           },
           "baxis": {
            "gridcolor": "#DFE8F3",
            "linecolor": "#A2B1C6",
            "ticks": ""
           },
           "bgcolor": "white",
           "caxis": {
            "gridcolor": "#DFE8F3",
            "linecolor": "#A2B1C6",
            "ticks": ""
           }
          },
          "title": {
           "x": 0.05
          },
          "xaxis": {
           "automargin": true,
           "gridcolor": "#EBF0F8",
           "linecolor": "#EBF0F8",
           "ticks": "",
           "title": {
            "standoff": 15
           },
           "zerolinecolor": "#EBF0F8",
           "zerolinewidth": 2
          },
          "yaxis": {
           "automargin": true,
           "gridcolor": "#EBF0F8",
           "linecolor": "#EBF0F8",
           "ticks": "",
           "title": {
            "standoff": 15
           },
           "zerolinecolor": "#EBF0F8",
           "zerolinewidth": 2
          }
         }
        },
        "title": {
         "text": "Comparison of User Engagement by Bounce Rate Segment",
         "x": 0.5
        },
        "xaxis": {
         "title": {
          "text": "Bounce Rate Segment"
         }
        },
        "yaxis": {
         "title": {
          "text": "Average Session Duration (minutes)"
         }
        }
       }
      },
      "text/html": [
       "<div>                            <div id=\"d8f94a5d-c178-444d-b0db-8b527a91c526\" class=\"plotly-graph-div\" style=\"height:525px; width:100%;\"></div>            <script type=\"text/javascript\">                require([\"plotly\"], function(Plotly) {                    window.PLOTLYENV=window.PLOTLYENV || {};                                    if (document.getElementById(\"d8f94a5d-c178-444d-b0db-8b527a91c526\")) {                    Plotly.newPlot(                        \"d8f94a5d-c178-444d-b0db-8b527a91c526\",                        [{\"marker\":{\"color\":[\"#7FD4C1\",\"#F7C0BB\",\"#FF4136\"]},\"text\":[9.05,5.04,1.43],\"textposition\":\"auto\",\"x\":[\"Low\",\"Medium\",\"High\"],\"y\":[9.046478873239437,5.038854166666667,1.4334168755221386],\"type\":\"bar\"}],                        {\"template\":{\"data\":{\"histogram2dcontour\":[{\"type\":\"histogram2dcontour\",\"colorbar\":{\"outlinewidth\":0,\"ticks\":\"\"},\"colorscale\":[[0.0,\"#0d0887\"],[0.1111111111111111,\"#46039f\"],[0.2222222222222222,\"#7201a8\"],[0.3333333333333333,\"#9c179e\"],[0.4444444444444444,\"#bd3786\"],[0.5555555555555556,\"#d8576b\"],[0.6666666666666666,\"#ed7953\"],[0.7777777777777778,\"#fb9f3a\"],[0.8888888888888888,\"#fdca26\"],[1.0,\"#f0f921\"]]}],\"choropleth\":[{\"type\":\"choropleth\",\"colorbar\":{\"outlinewidth\":0,\"ticks\":\"\"}}],\"histogram2d\":[{\"type\":\"histogram2d\",\"colorbar\":{\"outlinewidth\":0,\"ticks\":\"\"},\"colorscale\":[[0.0,\"#0d0887\"],[0.1111111111111111,\"#46039f\"],[0.2222222222222222,\"#7201a8\"],[0.3333333333333333,\"#9c179e\"],[0.4444444444444444,\"#bd3786\"],[0.5555555555555556,\"#d8576b\"],[0.6666666666666666,\"#ed7953\"],[0.7777777777777778,\"#fb9f3a\"],[0.8888888888888888,\"#fdca26\"],[1.0,\"#f0f921\"]]}],\"heatmap\":[{\"type\":\"heatmap\",\"colorbar\":{\"outlinewidth\":0,\"ticks\":\"\"},\"colorscale\":[[0.0,\"#0d0887\"],[0.1111111111111111,\"#46039f\"],[0.2222222222222222,\"#7201a8\"],[0.3333333333333333,\"#9c179e\"],[0.4444444444444444,\"#bd3786\"],[0.5555555555555556,\"#d8576b\"],[0.6666666666666666,\"#ed7953\"],[0.7777777777777778,\"#fb9f3a\"],[0.8888888888888888,\"#fdca26\"],[1.0,\"#f0f921\"]]}],\"heatmapgl\":[{\"type\":\"heatmapgl\",\"colorbar\":{\"outlinewidth\":0,\"ticks\":\"\"},\"colorscale\":[[0.0,\"#0d0887\"],[0.1111111111111111,\"#46039f\"],[0.2222222222222222,\"#7201a8\"],[0.3333333333333333,\"#9c179e\"],[0.4444444444444444,\"#bd3786\"],[0.5555555555555556,\"#d8576b\"],[0.6666666666666666,\"#ed7953\"],[0.7777777777777778,\"#fb9f3a\"],[0.8888888888888888,\"#fdca26\"],[1.0,\"#f0f921\"]]}],\"contourcarpet\":[{\"type\":\"contourcarpet\",\"colorbar\":{\"outlinewidth\":0,\"ticks\":\"\"}}],\"contour\":[{\"type\":\"contour\",\"colorbar\":{\"outlinewidth\":0,\"ticks\":\"\"},\"colorscale\":[[0.0,\"#0d0887\"],[0.1111111111111111,\"#46039f\"],[0.2222222222222222,\"#7201a8\"],[0.3333333333333333,\"#9c179e\"],[0.4444444444444444,\"#bd3786\"],[0.5555555555555556,\"#d8576b\"],[0.6666666666666666,\"#ed7953\"],[0.7777777777777778,\"#fb9f3a\"],[0.8888888888888888,\"#fdca26\"],[1.0,\"#f0f921\"]]}],\"surface\":[{\"type\":\"surface\",\"colorbar\":{\"outlinewidth\":0,\"ticks\":\"\"},\"colorscale\":[[0.0,\"#0d0887\"],[0.1111111111111111,\"#46039f\"],[0.2222222222222222,\"#7201a8\"],[0.3333333333333333,\"#9c179e\"],[0.4444444444444444,\"#bd3786\"],[0.5555555555555556,\"#d8576b\"],[0.6666666666666666,\"#ed7953\"],[0.7777777777777778,\"#fb9f3a\"],[0.8888888888888888,\"#fdca26\"],[1.0,\"#f0f921\"]]}],\"mesh3d\":[{\"type\":\"mesh3d\",\"colorbar\":{\"outlinewidth\":0,\"ticks\":\"\"}}],\"scatter\":[{\"fillpattern\":{\"fillmode\":\"overlay\",\"size\":10,\"solidity\":0.2},\"type\":\"scatter\"}],\"parcoords\":[{\"type\":\"parcoords\",\"line\":{\"colorbar\":{\"outlinewidth\":0,\"ticks\":\"\"}}}],\"scatterpolargl\":[{\"type\":\"scatterpolargl\",\"marker\":{\"colorbar\":{\"outlinewidth\":0,\"ticks\":\"\"}}}],\"bar\":[{\"error_x\":{\"color\":\"#2a3f5f\"},\"error_y\":{\"color\":\"#2a3f5f\"},\"marker\":{\"line\":{\"color\":\"white\",\"width\":0.5},\"pattern\":{\"fillmode\":\"overlay\",\"size\":10,\"solidity\":0.2}},\"type\":\"bar\"}],\"scattergeo\":[{\"type\":\"scattergeo\",\"marker\":{\"colorbar\":{\"outlinewidth\":0,\"ticks\":\"\"}}}],\"scatterpolar\":[{\"type\":\"scatterpolar\",\"marker\":{\"colorbar\":{\"outlinewidth\":0,\"ticks\":\"\"}}}],\"histogram\":[{\"marker\":{\"pattern\":{\"fillmode\":\"overlay\",\"size\":10,\"solidity\":0.2}},\"type\":\"histogram\"}],\"scattergl\":[{\"type\":\"scattergl\",\"marker\":{\"colorbar\":{\"outlinewidth\":0,\"ticks\":\"\"}}}],\"scatter3d\":[{\"type\":\"scatter3d\",\"line\":{\"colorbar\":{\"outlinewidth\":0,\"ticks\":\"\"}},\"marker\":{\"colorbar\":{\"outlinewidth\":0,\"ticks\":\"\"}}}],\"scattermapbox\":[{\"type\":\"scattermapbox\",\"marker\":{\"colorbar\":{\"outlinewidth\":0,\"ticks\":\"\"}}}],\"scatterternary\":[{\"type\":\"scatterternary\",\"marker\":{\"colorbar\":{\"outlinewidth\":0,\"ticks\":\"\"}}}],\"scattercarpet\":[{\"type\":\"scattercarpet\",\"marker\":{\"colorbar\":{\"outlinewidth\":0,\"ticks\":\"\"}}}],\"carpet\":[{\"aaxis\":{\"endlinecolor\":\"#2a3f5f\",\"gridcolor\":\"#C8D4E3\",\"linecolor\":\"#C8D4E3\",\"minorgridcolor\":\"#C8D4E3\",\"startlinecolor\":\"#2a3f5f\"},\"baxis\":{\"endlinecolor\":\"#2a3f5f\",\"gridcolor\":\"#C8D4E3\",\"linecolor\":\"#C8D4E3\",\"minorgridcolor\":\"#C8D4E3\",\"startlinecolor\":\"#2a3f5f\"},\"type\":\"carpet\"}],\"table\":[{\"cells\":{\"fill\":{\"color\":\"#EBF0F8\"},\"line\":{\"color\":\"white\"}},\"header\":{\"fill\":{\"color\":\"#C8D4E3\"},\"line\":{\"color\":\"white\"}},\"type\":\"table\"}],\"barpolar\":[{\"marker\":{\"line\":{\"color\":\"white\",\"width\":0.5},\"pattern\":{\"fillmode\":\"overlay\",\"size\":10,\"solidity\":0.2}},\"type\":\"barpolar\"}],\"pie\":[{\"automargin\":true,\"type\":\"pie\"}]},\"layout\":{\"autotypenumbers\":\"strict\",\"colorway\":[\"#636efa\",\"#EF553B\",\"#00cc96\",\"#ab63fa\",\"#FFA15A\",\"#19d3f3\",\"#FF6692\",\"#B6E880\",\"#FF97FF\",\"#FECB52\"],\"font\":{\"color\":\"#2a3f5f\"},\"hovermode\":\"closest\",\"hoverlabel\":{\"align\":\"left\"},\"paper_bgcolor\":\"white\",\"plot_bgcolor\":\"white\",\"polar\":{\"bgcolor\":\"white\",\"angularaxis\":{\"gridcolor\":\"#EBF0F8\",\"linecolor\":\"#EBF0F8\",\"ticks\":\"\"},\"radialaxis\":{\"gridcolor\":\"#EBF0F8\",\"linecolor\":\"#EBF0F8\",\"ticks\":\"\"}},\"ternary\":{\"bgcolor\":\"white\",\"aaxis\":{\"gridcolor\":\"#DFE8F3\",\"linecolor\":\"#A2B1C6\",\"ticks\":\"\"},\"baxis\":{\"gridcolor\":\"#DFE8F3\",\"linecolor\":\"#A2B1C6\",\"ticks\":\"\"},\"caxis\":{\"gridcolor\":\"#DFE8F3\",\"linecolor\":\"#A2B1C6\",\"ticks\":\"\"}},\"coloraxis\":{\"colorbar\":{\"outlinewidth\":0,\"ticks\":\"\"}},\"colorscale\":{\"sequential\":[[0.0,\"#0d0887\"],[0.1111111111111111,\"#46039f\"],[0.2222222222222222,\"#7201a8\"],[0.3333333333333333,\"#9c179e\"],[0.4444444444444444,\"#bd3786\"],[0.5555555555555556,\"#d8576b\"],[0.6666666666666666,\"#ed7953\"],[0.7777777777777778,\"#fb9f3a\"],[0.8888888888888888,\"#fdca26\"],[1.0,\"#f0f921\"]],\"sequentialminus\":[[0.0,\"#0d0887\"],[0.1111111111111111,\"#46039f\"],[0.2222222222222222,\"#7201a8\"],[0.3333333333333333,\"#9c179e\"],[0.4444444444444444,\"#bd3786\"],[0.5555555555555556,\"#d8576b\"],[0.6666666666666666,\"#ed7953\"],[0.7777777777777778,\"#fb9f3a\"],[0.8888888888888888,\"#fdca26\"],[1.0,\"#f0f921\"]],\"diverging\":[[0,\"#8e0152\"],[0.1,\"#c51b7d\"],[0.2,\"#de77ae\"],[0.3,\"#f1b6da\"],[0.4,\"#fde0ef\"],[0.5,\"#f7f7f7\"],[0.6,\"#e6f5d0\"],[0.7,\"#b8e186\"],[0.8,\"#7fbc41\"],[0.9,\"#4d9221\"],[1,\"#276419\"]]},\"xaxis\":{\"gridcolor\":\"#EBF0F8\",\"linecolor\":\"#EBF0F8\",\"ticks\":\"\",\"title\":{\"standoff\":15},\"zerolinecolor\":\"#EBF0F8\",\"automargin\":true,\"zerolinewidth\":2},\"yaxis\":{\"gridcolor\":\"#EBF0F8\",\"linecolor\":\"#EBF0F8\",\"ticks\":\"\",\"title\":{\"standoff\":15},\"zerolinecolor\":\"#EBF0F8\",\"automargin\":true,\"zerolinewidth\":2},\"scene\":{\"xaxis\":{\"backgroundcolor\":\"white\",\"gridcolor\":\"#DFE8F3\",\"linecolor\":\"#EBF0F8\",\"showbackground\":true,\"ticks\":\"\",\"zerolinecolor\":\"#EBF0F8\",\"gridwidth\":2},\"yaxis\":{\"backgroundcolor\":\"white\",\"gridcolor\":\"#DFE8F3\",\"linecolor\":\"#EBF0F8\",\"showbackground\":true,\"ticks\":\"\",\"zerolinecolor\":\"#EBF0F8\",\"gridwidth\":2},\"zaxis\":{\"backgroundcolor\":\"white\",\"gridcolor\":\"#DFE8F3\",\"linecolor\":\"#EBF0F8\",\"showbackground\":true,\"ticks\":\"\",\"zerolinecolor\":\"#EBF0F8\",\"gridwidth\":2}},\"shapedefaults\":{\"line\":{\"color\":\"#2a3f5f\"}},\"annotationdefaults\":{\"arrowcolor\":\"#2a3f5f\",\"arrowhead\":0,\"arrowwidth\":1},\"geo\":{\"bgcolor\":\"white\",\"landcolor\":\"white\",\"subunitcolor\":\"#C8D4E3\",\"showland\":true,\"showlakes\":true,\"lakecolor\":\"white\"},\"title\":{\"x\":0.05},\"mapbox\":{\"style\":\"light\"}}},\"title\":{\"text\":\"Comparison of User Engagement by Bounce Rate Segment\",\"x\":0.5},\"xaxis\":{\"title\":{\"text\":\"Bounce Rate Segment\"}},\"yaxis\":{\"title\":{\"text\":\"Average Session Duration (minutes)\"}}},                        {\"responsive\": true}                    ).then(function(){\n",
       "                            \n",
       "var gd = document.getElementById('d8f94a5d-c178-444d-b0db-8b527a91c526');\n",
       "var x = new MutationObserver(function (mutations, observer) {{\n",
       "        var display = window.getComputedStyle(gd).display;\n",
       "        if (!display || display === 'none') {{\n",
       "            console.log([gd, 'removed!']);\n",
       "            Plotly.purge(gd);\n",
       "            observer.disconnect();\n",
       "        }}\n",
       "}});\n",
       "\n",
       "// Listen for the removal of the full notebook cells\n",
       "var notebookContainer = gd.closest('#notebook-container');\n",
       "if (notebookContainer) {{\n",
       "    x.observe(notebookContainer, {childList: true});\n",
       "}}\n",
       "\n",
       "// Listen for the clearing of the current output cell\n",
       "var outputEl = gd.closest('.output');\n",
       "if (outputEl) {{\n",
       "    x.observe(outputEl, {childList: true});\n",
       "}}\n",
       "\n",
       "                        })                };                });            </script>        </div>"
      ]
     },
     "metadata": {},
     "output_type": "display_data"
    }
   ],
   "source": [
    "segmentAvgDuration = data.groupby('Bounce Rate Segment')['Avg. Session Duration'].mean()\n",
    "engagementFig = go.Figure(data=go.Bar(\n",
    "    x=segmentAvgDuration.index,\n",
    "    y=segmentAvgDuration,\n",
    "    text=segmentAvgDuration.round(2),\n",
    "    textposition='auto',\n",
    "    marker=dict(color=['#7FD4C1', '#F7C0BB', '#FF4136'],\n",
    "    )\n",
    "))\n",
    "engagementFig.update_layout(\n",
    "    title='Comparison of User Engagement by Bounce Rate Segment',title_x=0.5,\n",
    "    xaxis=dict(title='Bounce Rate Segment'),\n",
    "    yaxis=dict(title='Average Session Duration (minutes)'),\n",
    ")\n",
    "\n",
    "engagementFig.show()"
   ]
  },
  {
   "cell_type": "code",
   "execution_count": 36,
   "id": "1f2105d8",
   "metadata": {},
   "outputs": [
    {
     "data": {
      "text/html": [
       "<div>\n",
       "<style scoped>\n",
       "    .dataframe tbody tr th:only-of-type {\n",
       "        vertical-align: middle;\n",
       "    }\n",
       "\n",
       "    .dataframe tbody tr th {\n",
       "        vertical-align: top;\n",
       "    }\n",
       "\n",
       "    .dataframe thead th {\n",
       "        text-align: right;\n",
       "    }\n",
       "</style>\n",
       "<table border=\"1\" class=\"dataframe\">\n",
       "  <thead>\n",
       "    <tr style=\"text-align: right;\">\n",
       "      <th></th>\n",
       "      <th>Client ID</th>\n",
       "      <th>Sessions</th>\n",
       "      <th>Avg. Session Duration</th>\n",
       "      <th>Bounce Rate</th>\n",
       "      <th>Bounce Rate Segment</th>\n",
       "      <th>Total Session Duration</th>\n",
       "    </tr>\n",
       "  </thead>\n",
       "  <tbody>\n",
       "    <tr>\n",
       "      <th>20</th>\n",
       "      <td>1.884620e+09</td>\n",
       "      <td>93</td>\n",
       "      <td>30.666667</td>\n",
       "      <td>16.13</td>\n",
       "      <td>Low</td>\n",
       "      <td>2852.000000</td>\n",
       "    </tr>\n",
       "    <tr>\n",
       "      <th>54</th>\n",
       "      <td>1.041722e+09</td>\n",
       "      <td>67</td>\n",
       "      <td>20.500000</td>\n",
       "      <td>22.39</td>\n",
       "      <td>Low</td>\n",
       "      <td>1373.500000</td>\n",
       "    </tr>\n",
       "    <tr>\n",
       "      <th>262</th>\n",
       "      <td>8.756557e+08</td>\n",
       "      <td>34</td>\n",
       "      <td>29.966667</td>\n",
       "      <td>26.47</td>\n",
       "      <td>Low</td>\n",
       "      <td>1018.866667</td>\n",
       "    </tr>\n",
       "    <tr>\n",
       "      <th>10</th>\n",
       "      <td>1.461865e+09</td>\n",
       "      <td>117</td>\n",
       "      <td>8.450000</td>\n",
       "      <td>48.72</td>\n",
       "      <td>Medium</td>\n",
       "      <td>988.650000</td>\n",
       "    </tr>\n",
       "    <tr>\n",
       "      <th>173</th>\n",
       "      <td>1.849182e+05</td>\n",
       "      <td>40</td>\n",
       "      <td>24.416667</td>\n",
       "      <td>17.50</td>\n",
       "      <td>Low</td>\n",
       "      <td>976.666667</td>\n",
       "    </tr>\n",
       "    <tr>\n",
       "      <th>15</th>\n",
       "      <td>1.049234e+09</td>\n",
       "      <td>99</td>\n",
       "      <td>9.716667</td>\n",
       "      <td>34.34</td>\n",
       "      <td>Medium</td>\n",
       "      <td>961.950000</td>\n",
       "    </tr>\n",
       "    <tr>\n",
       "      <th>310</th>\n",
       "      <td>2.026953e+09</td>\n",
       "      <td>31</td>\n",
       "      <td>22.116667</td>\n",
       "      <td>35.48</td>\n",
       "      <td>Medium</td>\n",
       "      <td>685.616667</td>\n",
       "    </tr>\n",
       "    <tr>\n",
       "      <th>24</th>\n",
       "      <td>1.903206e+09</td>\n",
       "      <td>90</td>\n",
       "      <td>7.016667</td>\n",
       "      <td>36.67</td>\n",
       "      <td>Medium</td>\n",
       "      <td>631.500000</td>\n",
       "    </tr>\n",
       "    <tr>\n",
       "      <th>211</th>\n",
       "      <td>2.054569e+09</td>\n",
       "      <td>37</td>\n",
       "      <td>16.250000</td>\n",
       "      <td>35.14</td>\n",
       "      <td>Medium</td>\n",
       "      <td>601.250000</td>\n",
       "    </tr>\n",
       "    <tr>\n",
       "      <th>402</th>\n",
       "      <td>6.220935e+08</td>\n",
       "      <td>28</td>\n",
       "      <td>21.300000</td>\n",
       "      <td>39.29</td>\n",
       "      <td>Medium</td>\n",
       "      <td>596.400000</td>\n",
       "    </tr>\n",
       "  </tbody>\n",
       "</table>\n",
       "</div>"
      ],
      "text/plain": [
       "        Client ID  Sessions  Avg. Session Duration  Bounce Rate  \\\n",
       "20   1.884620e+09        93              30.666667        16.13   \n",
       "54   1.041722e+09        67              20.500000        22.39   \n",
       "262  8.756557e+08        34              29.966667        26.47   \n",
       "10   1.461865e+09       117               8.450000        48.72   \n",
       "173  1.849182e+05        40              24.416667        17.50   \n",
       "15   1.049234e+09        99               9.716667        34.34   \n",
       "310  2.026953e+09        31              22.116667        35.48   \n",
       "24   1.903206e+09        90               7.016667        36.67   \n",
       "211  2.054569e+09        37              16.250000        35.14   \n",
       "402  6.220935e+08        28              21.300000        39.29   \n",
       "\n",
       "    Bounce Rate Segment  Total Session Duration  \n",
       "20                  Low             2852.000000  \n",
       "54                  Low             1373.500000  \n",
       "262                 Low             1018.866667  \n",
       "10               Medium              988.650000  \n",
       "173                 Low              976.666667  \n",
       "15               Medium              961.950000  \n",
       "310              Medium              685.616667  \n",
       "24               Medium              631.500000  \n",
       "211              Medium              601.250000  \n",
       "402              Medium              596.400000  "
      ]
     },
     "execution_count": 36,
     "metadata": {},
     "output_type": "execute_result"
    }
   ],
   "source": [
    "data['Total Session Duration'] = data['Sessions'] * data['Avg. Session Duration']\n",
    "dataSorted = data.sort_values('Total Session Duration', ascending=False)\n",
    "dataSorted.head(10)"
   ]
  },
  {
   "cell_type": "code",
   "execution_count": 39,
   "id": "552d70ff",
   "metadata": {},
   "outputs": [
    {
     "data": {
      "application/vnd.plotly.v1+json": {
       "config": {
        "plotlyServerURL": "https://plot.ly"
       },
       "data": [
        {
         "hovertemplate": "Bounce Rate=%{x}<br>Avg. Session Duration=%{y}<extra></extra>",
         "legendgroup": "",
         "marker": {
          "color": "#636efa",
          "symbol": "circle"
         },
         "mode": "markers",
         "name": "",
         "orientation": "v",
         "showlegend": false,
         "type": "scatter",
         "x": [
          87.19,
          29.62,
          99.16,
          25.66,
          46.76,
          87.98,
          97.21,
          91.81,
          98.56,
          96.12,
          48.72,
          81.58,
          39.62,
          97.17,
          23.81,
          34.34,
          51.55,
          55.21,
          41.05,
          80.65,
          16.13,
          91.3,
          45.05,
          37.78,
          36.67,
          86.05,
          51.76,
          84.52,
          89.02,
          4.88,
          96.25,
          71.25,
          69.62,
          71.79,
          52.56,
          82.05,
          96.1,
          80.52,
          73.68,
          92.11,
          9.33,
          68.92,
          53.42,
          91.55,
          62.86,
          97.14,
          82.61,
          44.93,
          95.65,
          69.57,
          78.26,
          72.06,
          91.18,
          63.24,
          22.39,
          83.58,
          93.94,
          46.97,
          69.23,
          63.08,
          25,
          10.94,
          88.89,
          54.84,
          98.39,
          98.39,
          49.18,
          32.79,
          96.72,
          40.98,
          63.93,
          95.08,
          75,
          88.33,
          76.67,
          91.53,
          94.92,
          40.68,
          31.03,
          84.48,
          96.49,
          10.53,
          89.47,
          92.98,
          46.43,
          60.71,
          26.79,
          72.73,
          67.27,
          38.18,
          16.67,
          48.15,
          46.3,
          72.22,
          88.89,
          56.6,
          88.68,
          22.64,
          94.23,
          50,
          53.85,
          92.31,
          42.31,
          28.85,
          40.38,
          72.55,
          80.39,
          58.82,
          72.55,
          92.16,
          37.25,
          60.78,
          82,
          94,
          91.84,
          71.43,
          38.78,
          85.42,
          56.25,
          91.67,
          58.33,
          54.17,
          54.17,
          64.58,
          87.5,
          81.25,
          89.58,
          70.21,
          63.83,
          100,
          44.68,
          40.43,
          51.06,
          70.21,
          46.81,
          78.72,
          72.34,
          67.39,
          63.04,
          60.87,
          54.35,
          34.78,
          36.96,
          42.22,
          91.11,
          25,
          59.09,
          97.73,
          68.18,
          16.28,
          44.19,
          74.42,
          95.35,
          37.21,
          34.88,
          41.86,
          90.7,
          95.24,
          45.24,
          85.71,
          78.57,
          52.38,
          71.43,
          31.71,
          53.66,
          56.1,
          68.29,
          73.17,
          43.9,
          39.02,
          40,
          70,
          92.5,
          17.5,
          50,
          25,
          95,
          17.95,
          94.87,
          69.23,
          41.03,
          66.67,
          97.44,
          33.33,
          44.74,
          73.68,
          97.37,
          50,
          92.11,
          94.74,
          42.11,
          34.21,
          100,
          57.89,
          44.74,
          86.84,
          92.11,
          21.05,
          97.37,
          54.05,
          91.89,
          67.57,
          97.3,
          51.35,
          83.78,
          86.49,
          97.3,
          67.57,
          45.95,
          94.59,
          51.35,
          35.14,
          70.27,
          70.27,
          91.89,
          78.38,
          94.59,
          67.57,
          38.89,
          50,
          94.44,
          69.44,
          88.89,
          50,
          36.11,
          88.89,
          38.89,
          52.78,
          66.67,
          55.56,
          44.44,
          91.43,
          91.43,
          48.57,
          100,
          68.57,
          80,
          57.14,
          77.14,
          60,
          80,
          62.86,
          60,
          51.43,
          97.14,
          71.43,
          100,
          45.71,
          80,
          65.71,
          62.86,
          82.86,
          82.35,
          61.76,
          100,
          29.41,
          82.35,
          58.82,
          44.12,
          91.18,
          47.06,
          44.12,
          26.47,
          100,
          69.7,
          69.7,
          63.64,
          60.61,
          81.82,
          33.33,
          69.7,
          60.61,
          57.58,
          57.58,
          57.58,
          15.15,
          24.24,
          36.36,
          45.45,
          93.94,
          90.62,
          78.12,
          31.25,
          62.5,
          56.25,
          84.38,
          18.75,
          50,
          96.88,
          93.75,
          56.25,
          18.75,
          71.88,
          71.88,
          12.5,
          53.12,
          56.25,
          45.16,
          41.94,
          77.42,
          80.65,
          58.06,
          67.74,
          41.94,
          67.74,
          67.74,
          64.52,
          100,
          58.06,
          67.74,
          35.48,
          87.1,
          96.77,
          32.26,
          96.77,
          83.33,
          93.33,
          66.67,
          96.67,
          53.33,
          66.67,
          90,
          80,
          76.67,
          73.33,
          90,
          46.67,
          70,
          96.67,
          80,
          53.33,
          30,
          76.67,
          63.33,
          30,
          46.67,
          93.1,
          79.31,
          68.97,
          51.72,
          27.59,
          48.28,
          82.76,
          68.97,
          41.38,
          96.55,
          68.97,
          65.52,
          34.48,
          100,
          86.21,
          62.07,
          41.38,
          75.86,
          72.41,
          13.79,
          37.93,
          75.86,
          58.62,
          79.31,
          72.41,
          48.28,
          93.1,
          75.86,
          44.83,
          86.21,
          34.48,
          67.86,
          60.71,
          60.71,
          57.14,
          75,
          75,
          46.43,
          42.86,
          60.71,
          78.57,
          82.14,
          96.43,
          35.71,
          53.57,
          67.86,
          50,
          32.14,
          96.43,
          21.43,
          82.14,
          53.57,
          64.29,
          53.57,
          78.57,
          67.86,
          28.57,
          50,
          100,
          71.43,
          85.71,
          78.57,
          71.43,
          57.14,
          96.43,
          75,
          39.29,
          71.43,
          89.29,
          82.14,
          85.71,
          92.59,
          66.67,
          81.48,
          51.85,
          51.85,
          48.15,
          37.04,
          77.78,
          40.74,
          81.48,
          37.04,
          55.56,
          55.56,
          77.78,
          66.67,
          62.96,
          96.3,
          74.07,
          40.74,
          85.19,
          81.48,
          96.3,
          77.78,
          92.59,
          85.19,
          81.48,
          51.85,
          92.59,
          59.26,
          81.48,
          96.3,
          85.19,
          62.96,
          70.37,
          88.89,
          74.07,
          81.48,
          62.96,
          40.74,
          59.26,
          66.67,
          33.33,
          33.33,
          38.46,
          92.31,
          57.69,
          42.31,
          80.77,
          92.31,
          84.62,
          65.38,
          30.77,
          84.62,
          88.46,
          15.38,
          19.23,
          26.92,
          76.92,
          88.46,
          61.54,
          100,
          73.08,
          96.15,
          50,
          96.15,
          96.15,
          38.46,
          53.85,
          100,
          69.23,
          42.31,
          76.92,
          92.31,
          30.77,
          92.31,
          84.62,
          53.85,
          38.46,
          69.23,
          76.92,
          42.31,
          26.92,
          23.08,
          50,
          92.31,
          88.46,
          76.92,
          26.92,
          57.69,
          65.38,
          34.62,
          61.54,
          68,
          88,
          100,
          64,
          40,
          56,
          72,
          76,
          44,
          68,
          88,
          56,
          80,
          28,
          32,
          88,
          80,
          92,
          52,
          76,
          44,
          64,
          92,
          96,
          28,
          16,
          40,
          60,
          44,
          36,
          56,
          40,
          76,
          48,
          32,
          92,
          44,
          52,
          56,
          44,
          100,
          33.33,
          70.83,
          29.17,
          87.5,
          75,
          29.17,
          37.5,
          79.17,
          91.67,
          79.17,
          66.67,
          41.67,
          54.17,
          20.83,
          100,
          91.67,
          66.67,
          95.83,
          100,
          75,
          83.33,
          100,
          100,
          70.83,
          20.83,
          45.83,
          62.5,
          58.33,
          54.17,
          70.83,
          69.57,
          21.74,
          56.52,
          47.83,
          56.52,
          78.26,
          100,
          86.96,
          43.48,
          78.26,
          60.87,
          100,
          43.48,
          73.91,
          69.57,
          78.26,
          56.52,
          73.91,
          95.65,
          100,
          65.22,
          82.61,
          43.48,
          47.83,
          39.13,
          60.87,
          17.39,
          86.96,
          65.22,
          60.87,
          100,
          95.65,
          56.52,
          56.52,
          100,
          91.3,
          34.78,
          91.3,
          60.87,
          52.17,
          86.96,
          100,
          39.13,
          73.91,
          56.52,
          34.78,
          47.83,
          26.09,
          60.87,
          91.3,
          52.17,
          69.57,
          69.57,
          95.65,
          81.82,
          54.55,
          86.36,
          68.18,
          90.91,
          81.82,
          50,
          100,
          63.64,
          59.09,
          68.18,
          100,
          100,
          63.64,
          100,
          90.91,
          40.91,
          63.64,
          59.09,
          86.36,
          22.73,
          54.55,
          72.73,
          31.82,
          68.18,
          59.09,
          63.64,
          54.55,
          45.45,
          59.09,
          100,
          40.91,
          54.55,
          68.18,
          36.36,
          100,
          95.45,
          63.64,
          86.36,
          72.73,
          54.55,
          36.36,
          95.45,
          45.45,
          45.45,
          81.82,
          45.45,
          36.36,
          86.36,
          54.55,
          63.64,
          86.36,
          63.64,
          45.45,
          86.36,
          54.55,
          81.82,
          36.36,
          36.36,
          36.36,
          38.1,
          71.43,
          33.33,
          71.43,
          57.14,
          33.33,
          52.38,
          100,
          66.67,
          76.19,
          80.95,
          28.57,
          38.1,
          76.19,
          28.57,
          76.19,
          47.62,
          66.67,
          95.24,
          71.43,
          47.62,
          19.05,
          57.14,
          90.48,
          95.24,
          95.24,
          80.95,
          47.62,
          100,
          71.43,
          19.05,
          85.71,
          23.81,
          85.71,
          90.48,
          47.62,
          42.86,
          71.43,
          95.24,
          42.86,
          52.38,
          33.33,
          61.9,
          66.67,
          76.19,
          61.9,
          90.48,
          100,
          19.05,
          80.95,
          71.43,
          52.38,
          95.24,
          57.14,
          80.95,
          61.9,
          95.24,
          61.9,
          90.48,
          80.95,
          38.1,
          71.43,
          52.38,
          61.9,
          95.24,
          52.38,
          75,
          15,
          20,
          65,
          90,
          55,
          45,
          75,
          60,
          80,
          85,
          85,
          90,
          20,
          80,
          30,
          55,
          75,
          30,
          85,
          55,
          100,
          95,
          95,
          95,
          65,
          60,
          85,
          55,
          100,
          60,
          70,
          65,
          100,
          95,
          95,
          30,
          50,
          70,
          80,
          75,
          90,
          70,
          100,
          100,
          60,
          65,
          95,
          35,
          85,
          65,
          90,
          85,
          20,
          45,
          55,
          35,
          55,
          65,
          52.63,
          15.79,
          100,
          100,
          94.74,
          42.11,
          94.74,
          63.16,
          57.89,
          78.95,
          31.58,
          47.37,
          73.68,
          84.21,
          63.16,
          89.47,
          89.47,
          52.63,
          31.58,
          78.95,
          36.84,
          78.95,
          94.74,
          94.74,
          52.63,
          21.05,
          36.84,
          68.42,
          52.63,
          42.11,
          26.32,
          78.95,
          78.95,
          63.16,
          52.63,
          84.21,
          94.74,
          63.16,
          42.11,
          100,
          47.37,
          78.95,
          94.74,
          26.32,
          47.37,
          47.37,
          63.16,
          47.37,
          47.37,
          100,
          26.32,
          100,
          78.95,
          78.95,
          68.42,
          42.11,
          68.42,
          47.37,
          100,
          84.21,
          68.42,
          31.58,
          42.11,
          42.11,
          94.74,
          84.21,
          47.37,
          42.11,
          52.63,
          52.63,
          47.37,
          57.89,
          68.42,
          68.42,
          63.16,
          36.84,
          73.68,
          83.33,
          38.89,
          94.44,
          83.33,
          50,
          100,
          55.56,
          88.89,
          94.44,
          44.44,
          77.78,
          55.56,
          77.78,
          22.22,
          38.89,
          55.56,
          61.11,
          27.78,
          22.22,
          66.67,
          83.33,
          83.33,
          100,
          72.22,
          77.78,
          55.56,
          88.89,
          100,
          72.22,
          94.44,
          83.33,
          55.56,
          38.89,
          66.67,
          44.44,
          77.78,
          88.89,
          94.44,
          77.78,
          66.67,
          38.89,
          94.44,
          100,
          94.44,
          83.33,
          33.33,
          83.33,
          61.11,
          27.78,
          61.11,
          27.78,
          88.89,
          38.89,
          66.67,
          44.44,
          50,
          55.56,
          94.44,
          33.33,
          83.33,
          38.89,
          94.44,
          50,
          50,
          50,
          94.44,
          61.11,
          88.89,
          77.78,
          66.67,
          88.89,
          94.44,
          94.44,
          55.56,
          33.33,
          27.78,
          88.89,
          88.89,
          66.67,
          94.44,
          33.33,
          61.11,
          61.11,
          55.56,
          50,
          55.56,
          77.78,
          88.89,
          38.89,
          77.78,
          83.33,
          94.44,
          100,
          61.11,
          55.56,
          83.33,
          33.33,
          88.89,
          72.22,
          83.33,
          72.22,
          22.22,
          50,
          94.44,
          35.29,
          100,
          17.65,
          35.29,
          41.18,
          47.06,
          94.12,
          88.24,
          64.71
         ],
         "xaxis": "x",
         "y": [
          1.5833333333333333,
          1.0666666666666667,
          0.03333333333333333,
          2.3666666666666667,
          1.3833333333333333,
          1.7333333333333334,
          0.55,
          1.3666666666666667,
          0.2,
          0.4,
          8.45,
          2.7666666666666666,
          0.75,
          0.016666666666666666,
          3.2333333333333334,
          9.716666666666667,
          2.0833333333333335,
          3.933333333333333,
          4.666666666666667,
          2.5833333333333335,
          30.666666666666668,
          0.4,
          3.8833333333333333,
          4.533333333333333,
          7.016666666666667,
          0.4166666666666667,
          3.25,
          1.6666666666666667,
          1.9333333333333333,
          4.766666666666667,
          0.03333333333333333,
          3.8666666666666667,
          0.38333333333333336,
          0.6,
          2.7,
          3.466666666666667,
          0.7,
          3.0166666666666666,
          4.616666666666666,
          0.45,
          1.1166666666666667,
          1.4166666666666667,
          1.5166666666666666,
          1.2833333333333334,
          1.4666666666666666,
          0.38333333333333336,
          2.6166666666666667,
          1.5166666666666666,
          0.6666666666666666,
          4.233333333333333,
          2.1,
          1.7333333333333334,
          0.7333333333333333,
          2.533333333333333,
          20.5,
          3.0166666666666666,
          1.2833333333333334,
          8.55,
          0.5333333333333333,
          4.066666666666666,
          6.15,
          5.566666666666666,
          1.1166666666666667,
          9.483333333333333,
          0.16666666666666666,
          0.13333333333333333,
          3.4,
          4.683333333333334,
          0.7833333333333333,
          2.3333333333333335,
          4.966666666666667,
          0.6,
          3.1166666666666667,
          1.7,
          3.75,
          1.4833333333333334,
          0.7166666666666667,
          1.3,
          2.7666666666666666,
          2.2333333333333334,
          0.4,
          3.783333333333333,
          0.7666666666666667,
          0.38333333333333336,
          8.766666666666667,
          1.3666666666666667,
          6.933333333333334,
          1.5,
          4.616666666666666,
          6.116666666666666,
          1.25,
          8.55,
          6.5,
          1.3,
          1.45,
          0.75,
          0.5833333333333334,
          8.383333333333333,
          1.1333333333333333,
          0.85,
          4.116666666666666,
          0.18333333333333332,
          8.683333333333334,
          5.45,
          2.4,
          0.18333333333333332,
          1.5,
          1.65,
          4.6,
          1.5666666666666667,
          1.6833333333333333,
          4.016666666666667,
          2.316666666666667,
          0.5666666666666667,
          0.9166666666666666,
          3.0166666666666666,
          11.433333333333334,
          1.5333333333333334,
          5.416666666666667,
          0.9,
          3.75,
          5.366666666666666,
          2.533333333333333,
          1.2833333333333334,
          1.65,
          2.8333333333333335,
          1.4,
          1.0333333333333334,
          1.8333333333333333,
          0,
          4.033333333333333,
          9.133333333333333,
          5.633333333333334,
          5.166666666666667,
          4.883333333333334,
          2.2,
          4.166666666666667,
          4.683333333333334,
          2.2666666666666666,
          6.633333333333334,
          6.783333333333333,
          4,
          3.5,
          2.65,
          1.45,
          7.666666666666667,
          1.3166666666666667,
          0.21666666666666667,
          5.8,
          8.116666666666667,
          0.95,
          3.5166666666666666,
          1.05,
          0.75,
          2.5166666666666666,
          11.516666666666667,
          0.31666666666666665,
          0.45,
          9.8,
          1.4166666666666667,
          3.3833333333333333,
          4.766666666666667,
          0.9833333333333333,
          0.31666666666666665,
          2.716666666666667,
          7.05,
          4.65,
          3.1666666666666665,
          2.5833333333333335,
          2.35,
          9.433333333333334,
          6.05,
          0.8333333333333334,
          24.416666666666668,
          4.6,
          7.383333333333334,
          0.3,
          12.816666666666666,
          1.0166666666666666,
          5.666666666666667,
          4.733333333333333,
          2.4166666666666665,
          0.016666666666666666,
          10.55,
          5.683333333333334,
          2.6666666666666665,
          0.4,
          1.2833333333333334,
          0.4,
          0.3333333333333333,
          11.5,
          7.116666666666666,
          0,
          4.683333333333334,
          6.966666666666667,
          2.1166666666666667,
          1.55,
          0.48333333333333334,
          0.05,
          3.9,
          1.1833333333333333,
          3.3,
          0.7333333333333333,
          0.75,
          2.966666666666667,
          1.3666666666666667,
          0.9666666666666667,
          1.1666666666666667,
          7.833333333333333,
          0.35,
          3.9166666666666665,
          16.25,
          2.9,
          4.55,
          0.06666666666666667,
          3.8833333333333333,
          0.6333333333333333,
          0.21666666666666667,
          2.966666666666667,
          5.316666666666666,
          0.6166666666666667,
          4.733333333333333,
          2.3333333333333335,
          5.483333333333333,
          9.216666666666667,
          0.4,
          9.1,
          6.983333333333333,
          3.3833333333333333,
          6.283333333333333,
          9.833333333333334,
          1.3833333333333333,
          0.5,
          5.233333333333333,
          0,
          2.466666666666667,
          2.433333333333333,
          2.7333333333333334,
          4.5,
          4.133333333333334,
          1.4666666666666666,
          2.4166666666666665,
          3.3833333333333333,
          8.683333333333334,
          0.43333333333333335,
          5.133333333333334,
          0,
          5.75,
          0.016666666666666666,
          2.033333333333333,
          12.05,
          0.5333333333333333,
          1.1833333333333333,
          5.55,
          0,
          4.416666666666667,
          0.65,
          6.633333333333334,
          10.6,
          2.85,
          8.816666666666666,
          1.15,
          29.966666666666665,
          0,
          3.0833333333333335,
          2.3666666666666667,
          6.833333333333333,
          7.616666666666666,
          0.5,
          5.6,
          1.9666666666666666,
          4.216666666666667,
          9.616666666666667,
          4.7,
          6.75,
          16.366666666666667,
          8.283333333333333,
          5.966666666666667,
          7.383333333333334,
          0.11666666666666667,
          0.11666666666666667,
          2.566666666666667,
          6.55,
          4.816666666666666,
          3,
          1.8166666666666667,
          3.3666666666666667,
          1.0166666666666666,
          0.016666666666666666,
          0.7,
          11.333333333333334,
          4.466666666666667,
          4.2,
          5.416666666666667,
          8.916666666666666,
          4.8,
          3.6,
          4.716666666666667,
          4.183333333333334,
          0.6666666666666666,
          1.8166666666666667,
          3.2666666666666666,
          2.816666666666667,
          3.3333333333333335,
          0.6,
          4.133333333333334,
          5.783333333333333,
          0,
          3.15,
          4.1,
          22.116666666666667,
          0.7,
          0.05,
          8.833333333333334,
          0.15,
          2.5833333333333335,
          0.43333333333333335,
          1.7166666666666666,
          0.016666666666666666,
          2.433333333333333,
          5.316666666666666,
          0.36666666666666664,
          1.5833333333333333,
          0.6333333333333333,
          2.216666666666667,
          0.16666666666666666,
          9.6,
          2.4166666666666665,
          0.8666666666666667,
          3.5833333333333335,
          5.666666666666667,
          9.966666666666667,
          1.6666666666666667,
          3.4833333333333334,
          5.016666666666667,
          3.85,
          0.11666666666666667,
          1.2333333333333334,
          1.2833333333333334,
          11.35,
          9.716666666666667,
          11.916666666666666,
          0.5666666666666667,
          1.2833333333333334,
          9.466666666666667,
          0.8666666666666667,
          3.15,
          2.0166666666666666,
          1.6666666666666667,
          0,
          0.5333333333333333,
          6.25,
          9.55,
          3.2333333333333334,
          1.95,
          12.483333333333333,
          7.1,
          3.2,
          3.816666666666667,
          1.4,
          1.2166666666666666,
          8.116666666666667,
          0.05,
          2.0833333333333335,
          2.3,
          1.8833333333333333,
          9.05,
          4.75,
          6.9,
          5.483333333333333,
          2.3666666666666667,
          3.2,
          1.25,
          1.1,
          1.1833333333333333,
          0.8833333333333333,
          1.65,
          2.783333333333333,
          0.016666666666666666,
          17.983333333333334,
          1.7666666666666666,
          0.85,
          6.816666666666666,
          2.55,
          0,
          1.55,
          1.3333333333333333,
          4.733333333333333,
          2.6,
          6.833333333333333,
          2.7333333333333334,
          2.533333333333333,
          8.933333333333334,
          7.033333333333333,
          0,
          3.3833333333333333,
          1.6833333333333333,
          2.283333333333333,
          3.3,
          4.95,
          0.016666666666666666,
          0.08333333333333333,
          21.3,
          2.716666666666667,
          0.7,
          2.55,
          0.21666666666666667,
          1.2,
          3.3,
          2.716666666666667,
          3.85,
          9.933333333333334,
          0.016666666666666666,
          8.433333333333334,
          2.8833333333333333,
          11.633333333333333,
          0.7333333333333333,
          3.1166666666666667,
          2.7333333333333334,
          3.6,
          4.283333333333333,
          3.183333333333333,
          1.6333333333333333,
          0,
          2.7333333333333334,
          5.8,
          1.8,
          2.6166666666666667,
          1.1,
          1.6,
          0.5833333333333334,
          0.016666666666666666,
          1.3166666666666667,
          1.5333333333333334,
          0.26666666666666666,
          7.75,
          0.6,
          0.016666666666666666,
          1.3,
          6.666666666666667,
          1.15,
          1.8,
          1.8666666666666667,
          4.133333333333334,
          1.5666666666666667,
          5.633333333333334,
          2.1333333333333333,
          2.1,
          21.133333333333333,
          3.3833333333333333,
          1.7333333333333334,
          1.3,
          3.9833333333333334,
          1.3333333333333333,
          3.283333333333333,
          1.2666666666666666,
          3.3333333333333335,
          2.05,
          12.283333333333333,
          1.75,
          1.15,
          1.9666666666666666,
          13.583333333333334,
          3.2333333333333334,
          0.85,
          0.9333333333333333,
          2.683333333333333,
          0,
          0.9,
          0.016666666666666666,
          3.433333333333333,
          1.15,
          1.0666666666666667,
          11.85,
          3.466666666666667,
          0,
          8.533333333333333,
          8.783333333333333,
          2.15,
          0.016666666666666666,
          11.583333333333334,
          2.3,
          0.8333333333333334,
          8.083333333333334,
          12.383333333333333,
          6.533333333333333,
          2.716666666666667,
          3.1,
          17.6,
          20.3,
          0.8333333333333334,
          0.06666666666666667,
          0.11666666666666667,
          0.23333333333333334,
          13.733333333333333,
          4.283333333333333,
          3.216666666666667,
          4.133333333333334,
          1.7833333333333334,
          0.7666666666666667,
          0.7333333333333333,
          0,
          2.4,
          2.566666666666667,
          2.6166666666666667,
          3.716666666666667,
          1.1333333333333333,
          1.2,
          1.25,
          1.35,
          6,
          0.3,
          12.966666666666667,
          5.683333333333334,
          0.13333333333333333,
          2.2666666666666666,
          0.03333333333333333,
          3.683333333333333,
          4.55,
          3.283333333333333,
          2.0833333333333335,
          0.16666666666666666,
          0.36666666666666664,
          11.1,
          5.833333333333333,
          3.8,
          4.616666666666666,
          10,
          3.283333333333333,
          0.08333333333333333,
          1.65,
          2.4166666666666665,
          10.416666666666666,
          4.166666666666667,
          0.6666666666666666,
          13.85,
          2.5166666666666666,
          3.4833333333333334,
          7.933333333333334,
          0,
          5.983333333333333,
          3.183333333333333,
          8.283333333333333,
          3.6666666666666665,
          2.8833333333333333,
          8.883333333333333,
          3.433333333333333,
          3.25,
          0.8833333333333333,
          1.15,
          0.016666666666666666,
          2.1666666666666665,
          1.8333333333333333,
          20.466666666666665,
          0,
          0.25,
          3.45,
          1.3333333333333333,
          0,
          4.183333333333334,
          1.05,
          0,
          0,
          3.1666666666666665,
          2.9,
          1.4666666666666666,
          2.2666666666666666,
          3.8,
          1.4,
          3.316666666666667,
          3.1333333333333333,
          1.3166666666666667,
          2.966666666666667,
          5.983333333333333,
          3.533333333333333,
          0.9166666666666666,
          0,
          0.2,
          5.333333333333333,
          0.016666666666666666,
          2.4166666666666665,
          0,
          3,
          5.7,
          1.2,
          1.45,
          3.966666666666667,
          1.2333333333333334,
          0.016666666666666666,
          0,
          4.5,
          3.5833333333333335,
          3.0166666666666666,
          0.25,
          4.616666666666666,
          4.2,
          16.533333333333335,
          0.016666666666666666,
          8.766666666666667,
          8.416666666666666,
          0,
          0.08333333333333333,
          0.7833333333333333,
          3.5166666666666666,
          0,
          0.03333333333333333,
          0.55,
          0.06666666666666667,
          1.3,
          2.75,
          1.1166666666666667,
          0,
          2.5166666666666666,
          1.7166666666666666,
          5.3,
          11.783333333333333,
          6.366666666666666,
          1.8333333333333333,
          1.1166666666666667,
          0.016666666666666666,
          4.816666666666666,
          1.3666666666666667,
          9.866666666666667,
          2.033333333333333,
          1.15,
          2.75,
          1.4166666666666667,
          2.066666666666667,
          0.06666666666666667,
          4.416666666666667,
          8.666666666666666,
          0,
          3.933333333333333,
          2.1166666666666667,
          1.85,
          0,
          0,
          3.2,
          0,
          0.06666666666666667,
          12.933333333333334,
          8.65,
          3.35,
          0.85,
          9.083333333333334,
          2.8833333333333333,
          5.2,
          12.55,
          1.6166666666666667,
          8.5,
          2.3333333333333335,
          3.933333333333333,
          5.35,
          4.716666666666667,
          0,
          22.933333333333334,
          3.9166666666666665,
          6.766666666666667,
          5.766666666666667,
          0,
          0.35,
          0.6666666666666666,
          1.7333333333333334,
          2.5,
          3.9833333333333334,
          6.466666666666667,
          0.016666666666666666,
          0.8666666666666667,
          12.466666666666667,
          2.566666666666667,
          12.083333333333334,
          3.8,
          1.3833333333333333,
          5.15,
          0.4666666666666667,
          0.55,
          0.55,
          5.066666666666666,
          0.11666666666666667,
          5.533333333333333,
          2.5833333333333335,
          11.916666666666666,
          10.166666666666666,
          7.5,
          3.6,
          1.7666666666666666,
          5.233333333333333,
          4.1,
          6.016666666666667,
          10.3,
          2.4,
          0,
          8.216666666666667,
          0.85,
          2.533333333333333,
          10.216666666666667,
          12.683333333333334,
          0.26666666666666666,
          4.716666666666667,
          1.3833333333333333,
          8.366666666666667,
          1.2333333333333334,
          0.016666666666666666,
          3.1333333333333333,
          5.95,
          3.3333333333333335,
          0.48333333333333334,
          1.0833333333333333,
          1.1666666666666667,
          0.25,
          0.9833333333333333,
          2.966666666666667,
          0,
          0.43333333333333335,
          16.35,
          1.5,
          9.833333333333334,
          1.3166666666666667,
          0.7833333333333333,
          1.5666666666666667,
          5.183333333333334,
          0.36666666666666664,
          0.016666666666666666,
          15.1,
          5.466666666666667,
          9.4,
          2.2333333333333334,
          0.6166666666666667,
          2.65,
          4.816666666666666,
          0.2833333333333333,
          0,
          19.316666666666666,
          1.0333333333333334,
          0.5833333333333334,
          4.1,
          1.8,
          3.5166666666666666,
          0.7333333333333333,
          1.5166666666666666,
          1.1166666666666667,
          2.35,
          0.4666666666666667,
          3.15,
          3.783333333333333,
          1.5166666666666666,
          4.8,
          3.933333333333333,
          0.08333333333333333,
          3.816666666666667,
          1.0666666666666667,
          1.3,
          2.1666666666666665,
          2.783333333333333,
          0.11666666666666667,
          0.9166666666666666,
          2.3666666666666667,
          0.9,
          3.35,
          1.3166666666666667,
          0.25,
          2.05,
          0.9833333333333333,
          8.516666666666667,
          3.566666666666667,
          5.266666666666667,
          3.1333333333333333,
          1.5166666666666666,
          11.666666666666666,
          2.316666666666667,
          2.75,
          0,
          0.016666666666666666,
          0.31666666666666665,
          0.016666666666666666,
          6.6,
          7.333333333333333,
          0.15,
          0.5,
          0,
          2.5833333333333335,
          3.25,
          1.2333333333333334,
          0,
          0.016666666666666666,
          1.3666666666666667,
          15.983333333333333,
          4.033333333333333,
          2.5166666666666666,
          0.15,
          1.4833333333333334,
          1.4666666666666666,
          1.95,
          0,
          0,
          1.1666666666666667,
          5.1,
          1.3,
          21.45,
          2.9833333333333334,
          1.6,
          2.05,
          2.2333333333333334,
          2.85,
          10.666666666666666,
          3.4833333333333334,
          13.133333333333333,
          8.366666666666667,
          2.55,
          4.583333333333333,
          7.416666666666667,
          0,
          0,
          1.4666666666666666,
          2.8333333333333335,
          0.21666666666666667,
          3.3,
          6.083333333333333,
          1.8,
          6.4,
          3.6666666666666665,
          1.6166666666666667,
          1.4666666666666666,
          0.5666666666666667,
          0.1,
          0.2,
          0.48333333333333334,
          16.466666666666665,
          0.7166666666666667,
          4.8,
          2.316666666666667,
          1.05,
          0.03333333333333333,
          1.6333333333333333,
          15.55,
          5.35,
          2,
          7.933333333333334,
          5.316666666666666,
          11.25,
          1.4666666666666666,
          0.26666666666666666,
          2.466666666666667,
          3.4,
          3.35,
          1.4833333333333334,
          2.3833333333333333,
          11.716666666666667,
          0,
          4.9,
          2.8833333333333333,
          0.3,
          5.3,
          4.933333333333334,
          14.066666666666666,
          3.9166666666666665,
          2.8,
          10.533333333333333,
          0,
          11.65,
          0,
          5.633333333333334,
          1.6166666666666667,
          6.583333333333333,
          4.95,
          2.533333333333333,
          0.4666666666666667,
          0,
          0.7166666666666667,
          6.733333333333333,
          10.633333333333333,
          12.066666666666666,
          1.3833333333333333,
          0.08333333333333333,
          1.7166666666666666,
          8.416666666666666,
          4.166666666666667,
          7.566666666666666,
          1.3333333333333333,
          4.316666666666666,
          5.216666666666667,
          3.05,
          7,
          1.9333333333333333,
          4.066666666666666,
          2.45,
          0.16666666666666666,
          0.9833333333333333,
          0.016666666666666666,
          0.8666666666666667,
          4.433333333333334,
          0,
          1.5166666666666666,
          1.3166666666666667,
          1.25,
          4.133333333333334,
          1.85,
          7.3,
          1.0666666666666667,
          15.65,
          6.266666666666667,
          3.3,
          2.533333333333333,
          6.433333333333334,
          3.3666666666666667,
          3.216666666666667,
          0.95,
          1.0166666666666666,
          0,
          0.2833333333333333,
          1.45,
          4.65,
          1.0166666666666666,
          0,
          4.116666666666666,
          0.5333333333333333,
          0.2,
          1.25,
          10,
          8.633333333333333,
          3.7333333333333334,
          3.933333333333333,
          2.3666666666666667,
          0.16666666666666666,
          0.9833333333333333,
          3.05,
          11.3,
          0.08333333333333333,
          0,
          1.05,
          1.6833333333333333,
          1.7666666666666666,
          3.7666666666666666,
          3.933333333333333,
          19.166666666666668,
          4.183333333333334,
          8.266666666666667,
          2.6,
          7.033333333333333,
          3.05,
          16.033333333333335,
          9.766666666666667,
          2.85,
          0.31666666666666665,
          6.933333333333334,
          1.9333333333333333,
          9.716666666666667,
          0.43333333333333335,
          10.766666666666667,
          5.433333333333334,
          0.5666666666666667,
          0.05,
          6.3,
          0.3,
          1.5,
          3.55,
          0.8666666666666667,
          0.08333333333333333,
          0.5333333333333333,
          5.316666666666666,
          4.45,
          5.4,
          0.23333333333333334,
          0.3333333333333333,
          1.6333333333333333,
          0.23333333333333334,
          5.3,
          0.7166666666666667,
          8.066666666666666,
          5.083333333333333,
          9.95,
          4.366666666666666,
          0.3333333333333333,
          0.15,
          3.533333333333333,
          3.9,
          2.75,
          0.75,
          0,
          0.7833333333333333,
          4.283333333333333,
          1.4666666666666666,
          6.416666666666667,
          0.6666666666666666,
          2.1166666666666667,
          0.5166666666666667,
          0.5333333333333333,
          8.816666666666666,
          2.3333333333333335,
          0.06666666666666667,
          5.433333333333334,
          0,
          5.233333333333333,
          7.5,
          7.733333333333333,
          5.616666666666666,
          0.2,
          1.2166666666666666,
          2.566666666666667
         ],
         "yaxis": "y"
        },
        {
         "hovertemplate": "<b>OLS trendline</b><br>Avg. Session Duration = -0.1137 * Bounce Rate + 11.062<br>R<sup>2</sup>=0.418783<br><br>Bounce Rate=%{x}<br>Avg. Session Duration=%{y} <b>(trend)</b><extra></extra>",
         "legendgroup": "",
         "marker": {
          "color": "#636efa",
          "symbol": "circle"
         },
         "mode": "lines",
         "name": "",
         "showlegend": false,
         "type": "scatter",
         "x": [
          4.88,
          9.33,
          10.53,
          10.94,
          12.5,
          13.79,
          15,
          15.15,
          15.38,
          15.79,
          16,
          16.13,
          16.28,
          16.67,
          17.39,
          17.5,
          17.65,
          17.95,
          18.75,
          18.75,
          19.05,
          19.05,
          19.05,
          19.23,
          20,
          20,
          20,
          20.83,
          20.83,
          21.05,
          21.05,
          21.43,
          21.74,
          22.22,
          22.22,
          22.22,
          22.39,
          22.64,
          22.73,
          23.08,
          23.81,
          23.81,
          24.24,
          25,
          25,
          25,
          25.66,
          26.09,
          26.32,
          26.32,
          26.32,
          26.47,
          26.79,
          26.92,
          26.92,
          26.92,
          27.59,
          27.78,
          27.78,
          27.78,
          27.78,
          28,
          28,
          28.57,
          28.57,
          28.57,
          28.85,
          29.17,
          29.17,
          29.41,
          29.62,
          30,
          30,
          30,
          30,
          30,
          30.77,
          30.77,
          31.03,
          31.25,
          31.58,
          31.58,
          31.58,
          31.71,
          31.82,
          32,
          32,
          32.14,
          32.26,
          32.79,
          33.33,
          33.33,
          33.33,
          33.33,
          33.33,
          33.33,
          33.33,
          33.33,
          33.33,
          33.33,
          33.33,
          33.33,
          33.33,
          34.21,
          34.34,
          34.48,
          34.48,
          34.62,
          34.78,
          34.78,
          34.78,
          34.88,
          35,
          35,
          35.14,
          35.29,
          35.29,
          35.48,
          35.71,
          36,
          36.11,
          36.36,
          36.36,
          36.36,
          36.36,
          36.36,
          36.36,
          36.36,
          36.67,
          36.84,
          36.84,
          36.84,
          36.96,
          37.04,
          37.04,
          37.21,
          37.25,
          37.5,
          37.78,
          37.93,
          38.1,
          38.1,
          38.1,
          38.18,
          38.46,
          38.46,
          38.46,
          38.78,
          38.89,
          38.89,
          38.89,
          38.89,
          38.89,
          38.89,
          38.89,
          38.89,
          38.89,
          39.02,
          39.13,
          39.13,
          39.29,
          39.62,
          40,
          40,
          40,
          40,
          40.38,
          40.43,
          40.68,
          40.74,
          40.74,
          40.74,
          40.91,
          40.91,
          40.98,
          41.03,
          41.05,
          41.18,
          41.38,
          41.38,
          41.67,
          41.86,
          41.94,
          41.94,
          42.11,
          42.11,
          42.11,
          42.11,
          42.11,
          42.11,
          42.11,
          42.11,
          42.22,
          42.31,
          42.31,
          42.31,
          42.31,
          42.86,
          42.86,
          42.86,
          43.48,
          43.48,
          43.48,
          43.9,
          44,
          44,
          44,
          44,
          44,
          44.12,
          44.12,
          44.19,
          44.44,
          44.44,
          44.44,
          44.44,
          44.68,
          44.74,
          44.74,
          44.83,
          44.93,
          45,
          45,
          45.05,
          45.16,
          45.24,
          45.45,
          45.45,
          45.45,
          45.45,
          45.45,
          45.45,
          45.71,
          45.83,
          45.95,
          46.3,
          46.43,
          46.43,
          46.67,
          46.67,
          46.76,
          46.81,
          46.97,
          47.06,
          47.06,
          47.37,
          47.37,
          47.37,
          47.37,
          47.37,
          47.37,
          47.37,
          47.37,
          47.37,
          47.62,
          47.62,
          47.62,
          47.62,
          47.83,
          47.83,
          47.83,
          48,
          48.15,
          48.15,
          48.28,
          48.28,
          48.57,
          48.72,
          49.18,
          50,
          50,
          50,
          50,
          50,
          50,
          50,
          50,
          50,
          50,
          50,
          50,
          50,
          50,
          50,
          50,
          50,
          50,
          50,
          51.06,
          51.35,
          51.35,
          51.43,
          51.55,
          51.72,
          51.76,
          51.85,
          51.85,
          51.85,
          52,
          52,
          52.17,
          52.17,
          52.38,
          52.38,
          52.38,
          52.38,
          52.38,
          52.38,
          52.56,
          52.63,
          52.63,
          52.63,
          52.63,
          52.63,
          52.63,
          52.63,
          52.78,
          53.12,
          53.33,
          53.33,
          53.42,
          53.57,
          53.57,
          53.57,
          53.66,
          53.85,
          53.85,
          53.85,
          54.05,
          54.17,
          54.17,
          54.17,
          54.17,
          54.35,
          54.55,
          54.55,
          54.55,
          54.55,
          54.55,
          54.55,
          54.55,
          54.84,
          55,
          55,
          55,
          55,
          55,
          55,
          55.21,
          55.56,
          55.56,
          55.56,
          55.56,
          55.56,
          55.56,
          55.56,
          55.56,
          55.56,
          55.56,
          55.56,
          55.56,
          55.56,
          56,
          56,
          56,
          56,
          56.1,
          56.25,
          56.25,
          56.25,
          56.25,
          56.52,
          56.52,
          56.52,
          56.52,
          56.52,
          56.52,
          56.6,
          57.14,
          57.14,
          57.14,
          57.14,
          57.14,
          57.14,
          57.58,
          57.58,
          57.58,
          57.69,
          57.69,
          57.89,
          57.89,
          57.89,
          58.06,
          58.06,
          58.33,
          58.33,
          58.62,
          58.82,
          58.82,
          59.09,
          59.09,
          59.09,
          59.09,
          59.09,
          59.26,
          59.26,
          60,
          60,
          60,
          60,
          60,
          60,
          60,
          60.61,
          60.61,
          60.71,
          60.71,
          60.71,
          60.71,
          60.78,
          60.87,
          60.87,
          60.87,
          60.87,
          60.87,
          60.87,
          61.11,
          61.11,
          61.11,
          61.11,
          61.11,
          61.11,
          61.11,
          61.54,
          61.54,
          61.76,
          61.9,
          61.9,
          61.9,
          61.9,
          61.9,
          62.07,
          62.5,
          62.5,
          62.86,
          62.86,
          62.86,
          62.96,
          62.96,
          62.96,
          63.04,
          63.08,
          63.16,
          63.16,
          63.16,
          63.16,
          63.16,
          63.16,
          63.24,
          63.33,
          63.64,
          63.64,
          63.64,
          63.64,
          63.64,
          63.64,
          63.64,
          63.64,
          63.83,
          63.93,
          64,
          64,
          64.29,
          64.52,
          64.58,
          64.71,
          65,
          65,
          65,
          65,
          65,
          65,
          65.22,
          65.22,
          65.38,
          65.38,
          65.52,
          65.71,
          66.67,
          66.67,
          66.67,
          66.67,
          66.67,
          66.67,
          66.67,
          66.67,
          66.67,
          66.67,
          66.67,
          66.67,
          66.67,
          66.67,
          66.67,
          66.67,
          66.67,
          66.67,
          67.27,
          67.39,
          67.57,
          67.57,
          67.57,
          67.74,
          67.74,
          67.74,
          67.74,
          67.86,
          67.86,
          67.86,
          68,
          68,
          68.18,
          68.18,
          68.18,
          68.18,
          68.18,
          68.29,
          68.42,
          68.42,
          68.42,
          68.42,
          68.42,
          68.42,
          68.57,
          68.92,
          68.97,
          68.97,
          68.97,
          69.23,
          69.23,
          69.23,
          69.23,
          69.44,
          69.57,
          69.57,
          69.57,
          69.57,
          69.57,
          69.62,
          69.7,
          69.7,
          69.7,
          70,
          70,
          70,
          70,
          70,
          70.21,
          70.21,
          70.27,
          70.27,
          70.37,
          70.83,
          70.83,
          70.83,
          71.25,
          71.43,
          71.43,
          71.43,
          71.43,
          71.43,
          71.43,
          71.43,
          71.43,
          71.43,
          71.43,
          71.43,
          71.43,
          71.43,
          71.79,
          71.88,
          71.88,
          72,
          72.06,
          72.22,
          72.22,
          72.22,
          72.22,
          72.22,
          72.34,
          72.41,
          72.41,
          72.55,
          72.55,
          72.73,
          72.73,
          72.73,
          73.08,
          73.17,
          73.33,
          73.68,
          73.68,
          73.68,
          73.68,
          73.91,
          73.91,
          73.91,
          74.07,
          74.07,
          74.42,
          75,
          75,
          75,
          75,
          75,
          75,
          75,
          75,
          75,
          75,
          75.86,
          75.86,
          75.86,
          76,
          76,
          76,
          76.19,
          76.19,
          76.19,
          76.19,
          76.67,
          76.67,
          76.67,
          76.92,
          76.92,
          76.92,
          76.92,
          77.14,
          77.42,
          77.78,
          77.78,
          77.78,
          77.78,
          77.78,
          77.78,
          77.78,
          77.78,
          77.78,
          77.78,
          77.78,
          78.12,
          78.26,
          78.26,
          78.26,
          78.26,
          78.38,
          78.57,
          78.57,
          78.57,
          78.57,
          78.72,
          78.95,
          78.95,
          78.95,
          78.95,
          78.95,
          78.95,
          78.95,
          78.95,
          79.17,
          79.17,
          79.31,
          79.31,
          80,
          80,
          80,
          80,
          80,
          80,
          80,
          80,
          80,
          80,
          80.39,
          80.52,
          80.65,
          80.65,
          80.77,
          80.95,
          80.95,
          80.95,
          80.95,
          80.95,
          81.25,
          81.48,
          81.48,
          81.48,
          81.48,
          81.48,
          81.48,
          81.58,
          81.82,
          81.82,
          81.82,
          81.82,
          81.82,
          82,
          82.05,
          82.14,
          82.14,
          82.14,
          82.35,
          82.35,
          82.61,
          82.61,
          82.76,
          82.86,
          83.33,
          83.33,
          83.33,
          83.33,
          83.33,
          83.33,
          83.33,
          83.33,
          83.33,
          83.33,
          83.33,
          83.33,
          83.33,
          83.58,
          83.78,
          84.21,
          84.21,
          84.21,
          84.21,
          84.38,
          84.48,
          84.52,
          84.62,
          84.62,
          84.62,
          85,
          85,
          85,
          85,
          85,
          85,
          85.19,
          85.19,
          85.19,
          85.42,
          85.71,
          85.71,
          85.71,
          85.71,
          85.71,
          86.05,
          86.21,
          86.21,
          86.36,
          86.36,
          86.36,
          86.36,
          86.36,
          86.36,
          86.49,
          86.84,
          86.96,
          86.96,
          86.96,
          87.1,
          87.19,
          87.5,
          87.5,
          87.98,
          88,
          88,
          88,
          88.24,
          88.33,
          88.46,
          88.46,
          88.46,
          88.68,
          88.89,
          88.89,
          88.89,
          88.89,
          88.89,
          88.89,
          88.89,
          88.89,
          88.89,
          88.89,
          88.89,
          88.89,
          88.89,
          88.89,
          88.89,
          89.02,
          89.29,
          89.47,
          89.47,
          89.47,
          89.58,
          90,
          90,
          90,
          90,
          90,
          90,
          90.48,
          90.48,
          90.48,
          90.48,
          90.62,
          90.7,
          90.91,
          90.91,
          91.11,
          91.18,
          91.18,
          91.3,
          91.3,
          91.3,
          91.3,
          91.43,
          91.43,
          91.53,
          91.55,
          91.67,
          91.67,
          91.67,
          91.81,
          91.84,
          91.89,
          91.89,
          92,
          92,
          92,
          92.11,
          92.11,
          92.11,
          92.16,
          92.31,
          92.31,
          92.31,
          92.31,
          92.31,
          92.31,
          92.5,
          92.59,
          92.59,
          92.59,
          92.98,
          93.1,
          93.1,
          93.33,
          93.75,
          93.94,
          93.94,
          94,
          94.12,
          94.23,
          94.44,
          94.44,
          94.44,
          94.44,
          94.44,
          94.44,
          94.44,
          94.44,
          94.44,
          94.44,
          94.44,
          94.44,
          94.44,
          94.44,
          94.44,
          94.59,
          94.59,
          94.74,
          94.74,
          94.74,
          94.74,
          94.74,
          94.74,
          94.74,
          94.74,
          94.87,
          94.92,
          95,
          95,
          95,
          95,
          95,
          95,
          95,
          95.08,
          95.24,
          95.24,
          95.24,
          95.24,
          95.24,
          95.24,
          95.24,
          95.24,
          95.35,
          95.45,
          95.45,
          95.65,
          95.65,
          95.65,
          95.65,
          95.83,
          96,
          96.1,
          96.12,
          96.15,
          96.15,
          96.15,
          96.25,
          96.3,
          96.3,
          96.3,
          96.43,
          96.43,
          96.43,
          96.49,
          96.55,
          96.67,
          96.67,
          96.72,
          96.77,
          96.77,
          96.88,
          97.14,
          97.14,
          97.17,
          97.21,
          97.3,
          97.3,
          97.37,
          97.37,
          97.44,
          97.73,
          98.39,
          98.39,
          98.56,
          99.16,
          100,
          100,
          100,
          100,
          100,
          100,
          100,
          100,
          100,
          100,
          100,
          100,
          100,
          100,
          100,
          100,
          100,
          100,
          100,
          100,
          100,
          100,
          100,
          100,
          100,
          100,
          100,
          100,
          100,
          100,
          100,
          100,
          100,
          100,
          100,
          100,
          100,
          100,
          100,
          100,
          100,
          100,
          100,
          100,
          100,
          100,
          100,
          100,
          100
         ],
         "xaxis": "x",
         "y": [
          10.50717161553682,
          10.001207302886788,
          9.86476748823959,
          9.818150551568463,
          9.640778792527103,
          9.494105991781364,
          9.356529178678771,
          9.339474201847871,
          9.313323237373824,
          9.266706300702698,
          9.242829333139438,
          9.228048353219325,
          9.210993376388425,
          9.166650436628085,
          9.084786547839766,
          9.072279564830438,
          9.05522458799954,
          9.021114634337739,
          8.930154757906273,
          8.930154757906273,
          8.896044804244472,
          8.896044804244472,
          8.896044804244472,
          8.875578832047392,
          8.788029950982107,
          8.788029950982107,
          8.788029950982107,
          8.69365907918446,
          8.69365907918446,
          8.668645113165807,
          8.668645113165807,
          8.62543917186086,
          8.590192219743667,
          8.535616293884788,
          8.535616293884788,
          8.535616293884788,
          8.5162873201431,
          8.487862358758267,
          8.477629372659727,
          8.437834426720961,
          8.354833539477248,
          8.354833539477248,
          8.305942605895336,
          8.219530723285441,
          8.219530723285441,
          8.219530723285441,
          8.144488825229482,
          8.095597891647568,
          8.069446927173523,
          8.069446927173523,
          8.069446927173523,
          8.052391950342622,
          8.016007999770036,
          8.001227019849923,
          8.001227019849923,
          8.001227019849923,
          7.92504812333857,
          7.903445152686096,
          7.903445152686096,
          7.903445152686096,
          7.903445152686096,
          7.878431186667443,
          7.878431186667443,
          7.813622274710023,
          7.813622274710023,
          7.813622274710023,
          7.78178631795901,
          7.745402367386424,
          7.745402367386424,
          7.718114404456983,
          7.694237436893724,
          7.651031495588777,
          7.651031495588777,
          7.651031495588777,
          7.651031495588777,
          7.651031495588777,
          7.56348261452349,
          7.56348261452349,
          7.533920654683264,
          7.508906688664611,
          7.471385739636631,
          7.471385739636631,
          7.471385739636631,
          7.456604759716518,
          7.444097776707191,
          7.423631804510111,
          7.423631804510111,
          7.4077138261346045,
          7.394069844669885,
          7.333808926534038,
          7.2724110099427985,
          7.2724110099427985,
          7.2724110099427985,
          7.2724110099427985,
          7.2724110099427985,
          7.2724110099427985,
          7.2724110099427985,
          7.2724110099427985,
          7.2724110099427985,
          7.2724110099427985,
          7.2724110099427985,
          7.2724110099427985,
          7.2724110099427985,
          7.172355145868186,
          7.157574165948072,
          7.141656187572567,
          7.141656187572567,
          7.12573820919706,
          7.107546233910766,
          7.107546233910766,
          7.107546233910766,
          7.096176249356832,
          7.0825322678921125,
          7.0825322678921125,
          7.066614289516606,
          7.049559312685706,
          7.049559312685706,
          7.027956342033233,
          7.001805377559186,
          6.968832422352779,
          6.956325439343453,
          6.9279004779586195,
          6.9279004779586195,
          6.9279004779586195,
          6.9279004779586195,
          6.9279004779586195,
          6.9279004779586195,
          6.9279004779586195,
          6.8926535258414265,
          6.8733245520997395,
          6.8733245520997395,
          6.8733245520997395,
          6.85968057063502,
          6.850584582991874,
          6.850584582991874,
          6.831255609250187,
          6.826707615428614,
          6.79828265404378,
          6.766446697292767,
          6.749391720461867,
          6.73006274672018,
          6.73006274672018,
          6.73006274672018,
          6.720966759077034,
          6.68913080232602,
          6.68913080232602,
          6.68913080232602,
          6.6527468517534345,
          6.640239868744107,
          6.640239868744107,
          6.640239868744107,
          6.640239868744107,
          6.640239868744107,
          6.640239868744107,
          6.640239868744107,
          6.640239868744107,
          6.640239868744107,
          6.625458888823994,
          6.6129519058146675,
          6.6129519058146675,
          6.594759930528374,
          6.557238981500395,
          6.514033040195448,
          6.514033040195448,
          6.514033040195448,
          6.514033040195448,
          6.470827098890501,
          6.465142106613535,
          6.436717145228702,
          6.429895154496341,
          6.429895154496341,
          6.429895154496341,
          6.410566180754656,
          6.410566180754656,
          6.4026071915669025,
          6.396922199289935,
          6.394648202379149,
          6.379867222459035,
          6.357127253351169,
          6.357127253351169,
          6.324154298144762,
          6.302551327492289,
          6.293455339849142,
          6.293455339849142,
          6.274126366107455,
          6.274126366107455,
          6.274126366107455,
          6.274126366107455,
          6.274126366107455,
          6.274126366107455,
          6.274126366107455,
          6.274126366107455,
          6.261619383098129,
          6.251386396999589,
          6.251386396999589,
          6.251386396999589,
          6.251386396999589,
          6.188851481952956,
          6.188851481952956,
          6.188851481952956,
          6.1183575777185695,
          6.1183575777185695,
          6.1183575777185695,
          6.07060364259205,
          6.059233658038116,
          6.059233658038116,
          6.059233658038116,
          6.059233658038116,
          6.059233658038116,
          6.045589676573397,
          6.045589676573397,
          6.037630687385644,
          6.00920572600081,
          6.00920572600081,
          6.00920572600081,
          6.00920572600081,
          5.98191776307137,
          5.97509577233901,
          5.97509577233901,
          5.96486278624047,
          5.9534928016865365,
          5.945533812498783,
          5.945533812498783,
          5.939848820221817,
          5.927341837212491,
          5.9182458495693435,
          5.894368882006083,
          5.894368882006083,
          5.894368882006083,
          5.894368882006083,
          5.894368882006083,
          5.894368882006083,
          5.864806922165857,
          5.851162940701137,
          5.837518959236417,
          5.797724013297651,
          5.782943033377538,
          5.782943033377538,
          5.755655070448097,
          5.755655070448097,
          5.745422084349558,
          5.73973709207259,
          5.721545116786298,
          5.711312130687758,
          5.711312130687758,
          5.676065178570565,
          5.676065178570565,
          5.676065178570565,
          5.676065178570565,
          5.676065178570565,
          5.676065178570565,
          5.676065178570565,
          5.676065178570565,
          5.676065178570565,
          5.647640217185732,
          5.647640217185732,
          5.647640217185732,
          5.647640217185732,
          5.623763249622471,
          5.623763249622471,
          5.623763249622471,
          5.604434275880784,
          5.587379299049885,
          5.587379299049885,
          5.572598319129772,
          5.572598319129772,
          5.539625363923365,
          5.522570387092466,
          5.470268458144372,
          5.377034584802119,
          5.377034584802119,
          5.377034584802119,
          5.377034584802119,
          5.377034584802119,
          5.377034584802119,
          5.377034584802119,
          5.377034584802119,
          5.377034584802119,
          5.377034584802119,
          5.377034584802119,
          5.377034584802119,
          5.377034584802119,
          5.377034584802119,
          5.377034584802119,
          5.377034584802119,
          5.377034584802119,
          5.377034584802119,
          5.377034584802119,
          5.256512748530426,
          5.2235397933240195,
          5.2235397933240195,
          5.214443805680873,
          5.200799824216153,
          5.181470850474467,
          5.176922856652893,
          5.166689870554353,
          5.166689870554353,
          5.166689870554353,
          5.149634893723453,
          5.149634893723453,
          5.130305919981766,
          5.130305919981766,
          5.106428952418506,
          5.106428952418506,
          5.106428952418506,
          5.106428952418506,
          5.106428952418506,
          5.106428952418506,
          5.085962980221426,
          5.078003991033673,
          5.078003991033673,
          5.078003991033673,
          5.078003991033673,
          5.078003991033673,
          5.078003991033673,
          5.078003991033673,
          5.060949014202773,
          5.022291066719401,
          4.9984140991561405,
          4.9984140991561405,
          4.988181113057601,
          4.9711261362267,
          4.9711261362267,
          4.9711261362267,
          4.960893150128161,
          4.939290179475687,
          4.939290179475687,
          4.939290179475687,
          4.916550210367821,
          4.902906228903101,
          4.902906228903101,
          4.902906228903101,
          4.902906228903101,
          4.882440256706021,
          4.859700287598154,
          4.859700287598154,
          4.859700287598154,
          4.859700287598154,
          4.859700287598154,
          4.859700287598154,
          4.859700287598154,
          4.826727332391747,
          4.8085353571054545,
          4.8085353571054545,
          4.8085353571054545,
          4.8085353571054545,
          4.8085353571054545,
          4.8085353571054545,
          4.784658389542194,
          4.744863443603427,
          4.744863443603427,
          4.744863443603427,
          4.744863443603427,
          4.744863443603427,
          4.744863443603427,
          4.744863443603427,
          4.744863443603427,
          4.744863443603427,
          4.744863443603427,
          4.744863443603427,
          4.744863443603427,
          4.744863443603427,
          4.694835511566121,
          4.694835511566121,
          4.694835511566121,
          4.694835511566121,
          4.6834655270121885,
          4.666410550181288,
          4.666410550181288,
          4.666410550181288,
          4.666410550181288,
          4.635711591885668,
          4.635711591885668,
          4.635711591885668,
          4.635711591885668,
          4.635711591885668,
          4.635711591885668,
          4.626615604242522,
          4.565217687651282,
          4.565217687651282,
          4.565217687651282,
          4.565217687651282,
          4.565217687651282,
          4.565217687651282,
          4.515189755613976,
          4.515189755613976,
          4.515189755613976,
          4.502682772604649,
          4.502682772604649,
          4.479942803496782,
          4.479942803496782,
          4.479942803496782,
          4.460613829755095,
          4.460613829755095,
          4.429914871459476,
          4.429914871459476,
          4.39694191625307,
          4.3742019471452025,
          4.3742019471452025,
          4.343502988849583,
          4.343502988849583,
          4.343502988849583,
          4.343502988849583,
          4.343502988849583,
          4.3241740151078965,
          4.3241740151078965,
          4.24003612940879,
          4.24003612940879,
          4.24003612940879,
          4.24003612940879,
          4.24003612940879,
          4.24003612940879,
          4.24003612940879,
          4.170679223629797,
          4.170679223629797,
          4.1593092390758635,
          4.1593092390758635,
          4.1593092390758635,
          4.1593092390758635,
          4.15135024988811,
          4.141117263789571,
          4.141117263789571,
          4.141117263789571,
          4.141117263789571,
          4.141117263789571,
          4.141117263789571,
          4.1138293008601305,
          4.1138293008601305,
          4.1138293008601305,
          4.1138293008601305,
          4.1138293008601305,
          4.1138293008601305,
          4.1138293008601305,
          4.064938367278217,
          4.064938367278217,
          4.039924401259564,
          4.0240064228840575,
          4.0240064228840575,
          4.0240064228840575,
          4.0240064228840575,
          4.0240064228840575,
          4.0046774491423704,
          3.9557865155604572,
          3.9557865155604572,
          3.9148545711662983,
          3.9148545711662983,
          3.9148545711662983,
          3.9034845866123646,
          3.9034845866123646,
          3.9034845866123646,
          3.8943885989692184,
          3.8898406051476444,
          3.880744617504498,
          3.880744617504498,
          3.880744617504498,
          3.880744617504498,
          3.880744617504498,
          3.880744617504498,
          3.871648629861351,
          3.861415643762812,
          3.826168691645618,
          3.826168691645618,
          3.826168691645618,
          3.826168691645618,
          3.826168691645618,
          3.826168691645618,
          3.826168691645618,
          3.826168691645618,
          3.8045657209931454,
          3.7931957364392117,
          3.7852367472514583,
          3.7852367472514583,
          3.752263792045051,
          3.726112827571006,
          3.7192908368386455,
          3.7045098569185324,
          3.671536901712125,
          3.671536901712125,
          3.671536901712125,
          3.671536901712125,
          3.671536901712125,
          3.671536901712125,
          3.646522935693472,
          3.646522935693472,
          3.6283309604071796,
          3.6283309604071796,
          3.612412982031673,
          3.5908100113792,
          3.481658159661439,
          3.481658159661439,
          3.481658159661439,
          3.481658159661439,
          3.481658159661439,
          3.481658159661439,
          3.481658159661439,
          3.481658159661439,
          3.481658159661439,
          3.481658159661439,
          3.481658159661439,
          3.481658159661439,
          3.481658159661439,
          3.481658159661439,
          3.481658159661439,
          3.481658159661439,
          3.481658159661439,
          3.481658159661439,
          3.4134382523378406,
          3.3997942708731195,
          3.3793282986760405,
          3.3793282986760405,
          3.3793282986760405,
          3.3599993249343543,
          3.3599993249343543,
          3.3599993249343543,
          3.3599993249343543,
          3.346355343469633,
          3.346355343469633,
          3.346355343469633,
          3.3304373650941264,
          3.3304373650941264,
          3.3099713928970456,
          3.3099713928970456,
          3.3099713928970456,
          3.3099713928970456,
          3.3099713928970456,
          3.297464409887719,
          3.282683429967607,
          3.282683429967607,
          3.282683429967607,
          3.282683429967607,
          3.282683429967607,
          3.282683429967607,
          3.265628453136708,
          3.2258335071979403,
          3.2201485149209743,
          3.2201485149209743,
          3.2201485149209743,
          3.1905865550807464,
          3.1905865550807464,
          3.1905865550807464,
          3.1905865550807464,
          3.166709587517488,
          3.151928607597375,
          3.151928607597375,
          3.151928607597375,
          3.151928607597375,
          3.151928607597375,
          3.146243615320407,
          3.13714762767726,
          3.13714762767726,
          3.13714762767726,
          3.103037674015461,
          3.103037674015461,
          3.103037674015461,
          3.103037674015461,
          3.103037674015461,
          3.0791607064522015,
          3.0791607064522015,
          3.072338715719842,
          3.072338715719842,
          3.0609687311659073,
          3.0086668022178156,
          3.0086668022178156,
          3.0086668022178156,
          2.960912867091295,
          2.9404468948942135,
          2.9404468948942135,
          2.9404468948942135,
          2.9404468948942135,
          2.9404468948942135,
          2.9404468948942135,
          2.9404468948942135,
          2.9404468948942135,
          2.9404468948942135,
          2.9404468948942135,
          2.9404468948942135,
          2.9404468948942135,
          2.9404468948942135,
          2.8995149505000537,
          2.8892819644015155,
          2.8892819644015155,
          2.8756379829367944,
          2.8688159922044356,
          2.8506240169181414,
          2.8506240169181414,
          2.8506240169181414,
          2.8506240169181414,
          2.8506240169181414,
          2.836980035453422,
          2.8290210462656695,
          2.8290210462656695,
          2.8131030678901627,
          2.8131030678901627,
          2.792637095693081,
          2.792637095693081,
          2.792637095693081,
          2.752842149754315,
          2.742609163655775,
          2.7244171883694825,
          2.6846222424307147,
          2.6846222424307147,
          2.6846222424307147,
          2.6846222424307147,
          2.6584712779566697,
          2.6584712779566697,
          2.6584712779566697,
          2.6402793026703772,
          2.6402793026703772,
          2.6004843567316094,
          2.5345384463187965,
          2.5345384463187965,
          2.5345384463187965,
          2.5345384463187965,
          2.5345384463187965,
          2.5345384463187965,
          2.5345384463187965,
          2.5345384463187965,
          2.5345384463187965,
          2.5345384463187965,
          2.43675657915497,
          2.43675657915497,
          2.43675657915497,
          2.4208386007794633,
          2.4208386007794633,
          2.4208386007794633,
          2.3992356301269897,
          2.3992356301269897,
          2.3992356301269897,
          2.3992356301269897,
          2.3446597042681105,
          2.3446597042681105,
          2.3446597042681105,
          2.3162347428832764,
          2.3162347428832764,
          2.3162347428832764,
          2.3162347428832764,
          2.2912207768646233,
          2.2593848201136097,
          2.21845287571945,
          2.21845287571945,
          2.21845287571945,
          2.21845287571945,
          2.21845287571945,
          2.21845287571945,
          2.21845287571945,
          2.21845287571945,
          2.21845287571945,
          2.21845287571945,
          2.21845287571945,
          2.1797949282360776,
          2.1638769498605708,
          2.1638769498605708,
          2.1638769498605708,
          2.1638769498605708,
          2.1502329683958514,
          2.128629997743378,
          2.128629997743378,
          2.128629997743378,
          2.128629997743378,
          2.1115750209124773,
          2.0854240564384305,
          2.0854240564384305,
          2.0854240564384305,
          2.0854240564384305,
          2.0854240564384305,
          2.0854240564384305,
          2.0854240564384305,
          2.0854240564384305,
          2.0604100904197775,
          2.0604100904197775,
          2.0444921120442707,
          2.0444921120442707,
          1.9660392186221323,
          1.9660392186221323,
          1.9660392186221323,
          1.9660392186221323,
          1.9660392186221323,
          1.9660392186221323,
          1.9660392186221323,
          1.9660392186221323,
          1.9660392186221323,
          1.9660392186221323,
          1.9216962788617913,
          1.90691529894168,
          1.8921343190215651,
          1.8921343190215651,
          1.8784903375568458,
          1.858024365359766,
          1.858024365359766,
          1.858024365359766,
          1.858024365359766,
          1.858024365359766,
          1.8239144116979649,
          1.7977634472239181,
          1.7977634472239181,
          1.7977634472239181,
          1.7977634472239181,
          1.7977634472239181,
          1.7977634472239181,
          1.7863934626699862,
          1.7591054997405475,
          1.7591054997405475,
          1.7591054997405475,
          1.7591054997405475,
          1.7591054997405475,
          1.7386395275434658,
          1.732954535266499,
          1.722721549167959,
          1.722721549167959,
          1.722721549167959,
          1.6988445816046998,
          1.6988445816046998,
          1.6692826217644736,
          1.6692826217644736,
          1.652227644933573,
          1.6408576603796394,
          1.587418732976154,
          1.587418732976154,
          1.587418732976154,
          1.587418732976154,
          1.587418732976154,
          1.587418732976154,
          1.587418732976154,
          1.587418732976154,
          1.587418732976154,
          1.587418732976154,
          1.587418732976154,
          1.587418732976154,
          1.587418732976154,
          1.5589937715913198,
          1.5362538024834524,
          1.4873628689015401,
          1.4873628689015401,
          1.4873628689015401,
          1.4873628689015401,
          1.468033895159854,
          1.4566639106059203,
          1.4521159167843471,
          1.4407459322304135,
          1.4407459322304135,
          1.4407459322304135,
          1.397539990925468,
          1.397539990925468,
          1.397539990925468,
          1.397539990925468,
          1.397539990925468,
          1.397539990925468,
          1.3759370202729944,
          1.3759370202729944,
          1.3759370202729944,
          1.3497860557989476,
          1.316813100592542,
          1.316813100592542,
          1.316813100592542,
          1.316813100592542,
          1.316813100592542,
          1.278155153109168,
          1.2599631778228755,
          1.2599631778228755,
          1.242908200991975,
          1.242908200991975,
          1.242908200991975,
          1.242908200991975,
          1.242908200991975,
          1.242908200991975,
          1.228127221071862,
          1.188332275133094,
          1.1746882936683747,
          1.1746882936683747,
          1.1746882936683747,
          1.1587703152928697,
          1.148537329194328,
          1.113290377077135,
          1.113290377077135,
          1.058714451218254,
          1.0564404543074684,
          1.0564404543074684,
          1.0564404543074684,
          1.0291524913780297,
          1.0189195052794897,
          1.0041385253593766,
          1.0041385253593766,
          1.0041385253593766,
          0.9791245593407218,
          0.9552475917774625,
          0.9552475917774625,
          0.9552475917774625,
          0.9552475917774625,
          0.9552475917774625,
          0.9552475917774625,
          0.9552475917774625,
          0.9552475917774625,
          0.9552475917774625,
          0.9552475917774625,
          0.9552475917774625,
          0.9552475917774625,
          0.9552475917774625,
          0.9552475917774625,
          0.9552475917774625,
          0.9404666118573495,
          0.9097676535617278,
          0.8893016813646497,
          0.8893016813646497,
          0.8893016813646497,
          0.8767946983553223,
          0.8290407632288019,
          0.8290407632288019,
          0.8290407632288019,
          0.8290407632288019,
          0.8290407632288019,
          0.8290407632288019,
          0.7744648373699228,
          0.7744648373699228,
          0.7744648373699228,
          0.7744648373699228,
          0.758546858994416,
          0.7494508713512698,
          0.7255739037880105,
          0.7255739037880105,
          0.7028339346801431,
          0.6948749454923888,
          0.6948749454923888,
          0.6812309640276695,
          0.6812309640276695,
          0.6812309640276695,
          0.6812309640276695,
          0.6664499841075564,
          0.6664499841075564,
          0.6550799995536227,
          0.6528060026428371,
          0.6391620211781159,
          0.6391620211781159,
          0.6391620211781159,
          0.6232440428026091,
          0.6198330474364298,
          0.6141480551594629,
          0.6141480551594629,
          0.6016410721501373,
          0.6016410721501373,
          0.6016410721501373,
          0.5891340891408099,
          0.5891340891408099,
          0.5891340891408099,
          0.5834490968638448,
          0.5663941200329443,
          0.5663941200329443,
          0.5663941200329443,
          0.5663941200329443,
          0.5663941200329443,
          0.5663941200329443,
          0.5447911493804707,
          0.5345581632819307,
          0.5345581632819307,
          0.5345581632819307,
          0.49021522352158975,
          0.4765712420568722,
          0.4765712420568722,
          0.45042027758282366,
          0.40266634245630506,
          0.38106337180383143,
          0.38106337180383143,
          0.37424138107147087,
          0.3605973996067515,
          0.3480904165974241,
          0.3242134490341648,
          0.3242134490341648,
          0.3242134490341648,
          0.3242134490341648,
          0.3242134490341648,
          0.3242134490341648,
          0.3242134490341648,
          0.3242134490341648,
          0.3242134490341648,
          0.3242134490341648,
          0.3242134490341648,
          0.3242134490341648,
          0.3242134490341648,
          0.3242134490341648,
          0.3242134490341648,
          0.3071584722032643,
          0.3071584722032643,
          0.29010349537236557,
          0.29010349537236557,
          0.29010349537236557,
          0.29010349537236557,
          0.29010349537236557,
          0.29010349537236557,
          0.29010349537236557,
          0.29010349537236557,
          0.2753225154522507,
          0.2696375231752839,
          0.26054153553213766,
          0.26054153553213766,
          0.26054153553213766,
          0.26054153553213766,
          0.26054153553213766,
          0.26054153553213766,
          0.26054153553213766,
          0.2514455478889914,
          0.23325357260269897,
          0.23325357260269897,
          0.23325357260269897,
          0.23325357260269897,
          0.23325357260269897,
          0.23325357260269897,
          0.23325357260269897,
          0.23325357260269897,
          0.22074658959337157,
          0.2093766050394379,
          0.2093766050394379,
          0.18663663593157054,
          0.18663663593157054,
          0.18663663593157054,
          0.18663663593157054,
          0.1661706637344924,
          0.14684168999280445,
          0.13547170543887255,
          0.1331977085280851,
          0.12978671316190393,
          0.12978671316190393,
          0.12978671316190393,
          0.11841672860797203,
          0.1127317363310052,
          0.1127317363310052,
          0.1127317363310052,
          0.09795075641089213,
          0.09795075641089213,
          0.09795075641089213,
          0.09112876567853334,
          0.08430677494617278,
          0.07066279348145166,
          0.07066279348145166,
          0.0649778012044866,
          0.05929280892751976,
          0.05929280892751976,
          0.04678582591819236,
          0.01722386607796622,
          0.01722386607796622,
          0.013812870711785052,
          0.009264876890213714,
          -0.0009681092083262399,
          -0.0009681092083262399,
          -0.008927098396080524,
          -0.008927098396080524,
          -0.01688608758383303,
          -0.04985904279024034,
          -0.12490094084620118,
          -0.12490094084620118,
          -0.14422991458788736,
          -0.21244982191148587,
          -0.3079576921645266,
          -0.3079576921645266,
          -0.3079576921645266,
          -0.3079576921645266,
          -0.3079576921645266,
          -0.3079576921645266,
          -0.3079576921645266,
          -0.3079576921645266,
          -0.3079576921645266,
          -0.3079576921645266,
          -0.3079576921645266,
          -0.3079576921645266,
          -0.3079576921645266,
          -0.3079576921645266,
          -0.3079576921645266,
          -0.3079576921645266,
          -0.3079576921645266,
          -0.3079576921645266,
          -0.3079576921645266,
          -0.3079576921645266,
          -0.3079576921645266,
          -0.3079576921645266,
          -0.3079576921645266,
          -0.3079576921645266,
          -0.3079576921645266,
          -0.3079576921645266,
          -0.3079576921645266,
          -0.3079576921645266,
          -0.3079576921645266,
          -0.3079576921645266,
          -0.3079576921645266,
          -0.3079576921645266,
          -0.3079576921645266,
          -0.3079576921645266,
          -0.3079576921645266,
          -0.3079576921645266,
          -0.3079576921645266,
          -0.3079576921645266,
          -0.3079576921645266,
          -0.3079576921645266,
          -0.3079576921645266,
          -0.3079576921645266,
          -0.3079576921645266,
          -0.3079576921645266,
          -0.3079576921645266,
          -0.3079576921645266,
          -0.3079576921645266,
          -0.3079576921645266,
          -0.3079576921645266
         ],
         "yaxis": "y"
        }
       ],
       "layout": {
        "legend": {
         "tracegroupgap": 0
        },
        "template": {
         "data": {
          "bar": [
           {
            "error_x": {
             "color": "#2a3f5f"
            },
            "error_y": {
             "color": "#2a3f5f"
            },
            "marker": {
             "line": {
              "color": "white",
              "width": 0.5
             },
             "pattern": {
              "fillmode": "overlay",
              "size": 10,
              "solidity": 0.2
             }
            },
            "type": "bar"
           }
          ],
          "barpolar": [
           {
            "marker": {
             "line": {
              "color": "white",
              "width": 0.5
             },
             "pattern": {
              "fillmode": "overlay",
              "size": 10,
              "solidity": 0.2
             }
            },
            "type": "barpolar"
           }
          ],
          "carpet": [
           {
            "aaxis": {
             "endlinecolor": "#2a3f5f",
             "gridcolor": "#C8D4E3",
             "linecolor": "#C8D4E3",
             "minorgridcolor": "#C8D4E3",
             "startlinecolor": "#2a3f5f"
            },
            "baxis": {
             "endlinecolor": "#2a3f5f",
             "gridcolor": "#C8D4E3",
             "linecolor": "#C8D4E3",
             "minorgridcolor": "#C8D4E3",
             "startlinecolor": "#2a3f5f"
            },
            "type": "carpet"
           }
          ],
          "choropleth": [
           {
            "colorbar": {
             "outlinewidth": 0,
             "ticks": ""
            },
            "type": "choropleth"
           }
          ],
          "contour": [
           {
            "colorbar": {
             "outlinewidth": 0,
             "ticks": ""
            },
            "colorscale": [
             [
              0,
              "#0d0887"
             ],
             [
              0.1111111111111111,
              "#46039f"
             ],
             [
              0.2222222222222222,
              "#7201a8"
             ],
             [
              0.3333333333333333,
              "#9c179e"
             ],
             [
              0.4444444444444444,
              "#bd3786"
             ],
             [
              0.5555555555555556,
              "#d8576b"
             ],
             [
              0.6666666666666666,
              "#ed7953"
             ],
             [
              0.7777777777777778,
              "#fb9f3a"
             ],
             [
              0.8888888888888888,
              "#fdca26"
             ],
             [
              1,
              "#f0f921"
             ]
            ],
            "type": "contour"
           }
          ],
          "contourcarpet": [
           {
            "colorbar": {
             "outlinewidth": 0,
             "ticks": ""
            },
            "type": "contourcarpet"
           }
          ],
          "heatmap": [
           {
            "colorbar": {
             "outlinewidth": 0,
             "ticks": ""
            },
            "colorscale": [
             [
              0,
              "#0d0887"
             ],
             [
              0.1111111111111111,
              "#46039f"
             ],
             [
              0.2222222222222222,
              "#7201a8"
             ],
             [
              0.3333333333333333,
              "#9c179e"
             ],
             [
              0.4444444444444444,
              "#bd3786"
             ],
             [
              0.5555555555555556,
              "#d8576b"
             ],
             [
              0.6666666666666666,
              "#ed7953"
             ],
             [
              0.7777777777777778,
              "#fb9f3a"
             ],
             [
              0.8888888888888888,
              "#fdca26"
             ],
             [
              1,
              "#f0f921"
             ]
            ],
            "type": "heatmap"
           }
          ],
          "heatmapgl": [
           {
            "colorbar": {
             "outlinewidth": 0,
             "ticks": ""
            },
            "colorscale": [
             [
              0,
              "#0d0887"
             ],
             [
              0.1111111111111111,
              "#46039f"
             ],
             [
              0.2222222222222222,
              "#7201a8"
             ],
             [
              0.3333333333333333,
              "#9c179e"
             ],
             [
              0.4444444444444444,
              "#bd3786"
             ],
             [
              0.5555555555555556,
              "#d8576b"
             ],
             [
              0.6666666666666666,
              "#ed7953"
             ],
             [
              0.7777777777777778,
              "#fb9f3a"
             ],
             [
              0.8888888888888888,
              "#fdca26"
             ],
             [
              1,
              "#f0f921"
             ]
            ],
            "type": "heatmapgl"
           }
          ],
          "histogram": [
           {
            "marker": {
             "pattern": {
              "fillmode": "overlay",
              "size": 10,
              "solidity": 0.2
             }
            },
            "type": "histogram"
           }
          ],
          "histogram2d": [
           {
            "colorbar": {
             "outlinewidth": 0,
             "ticks": ""
            },
            "colorscale": [
             [
              0,
              "#0d0887"
             ],
             [
              0.1111111111111111,
              "#46039f"
             ],
             [
              0.2222222222222222,
              "#7201a8"
             ],
             [
              0.3333333333333333,
              "#9c179e"
             ],
             [
              0.4444444444444444,
              "#bd3786"
             ],
             [
              0.5555555555555556,
              "#d8576b"
             ],
             [
              0.6666666666666666,
              "#ed7953"
             ],
             [
              0.7777777777777778,
              "#fb9f3a"
             ],
             [
              0.8888888888888888,
              "#fdca26"
             ],
             [
              1,
              "#f0f921"
             ]
            ],
            "type": "histogram2d"
           }
          ],
          "histogram2dcontour": [
           {
            "colorbar": {
             "outlinewidth": 0,
             "ticks": ""
            },
            "colorscale": [
             [
              0,
              "#0d0887"
             ],
             [
              0.1111111111111111,
              "#46039f"
             ],
             [
              0.2222222222222222,
              "#7201a8"
             ],
             [
              0.3333333333333333,
              "#9c179e"
             ],
             [
              0.4444444444444444,
              "#bd3786"
             ],
             [
              0.5555555555555556,
              "#d8576b"
             ],
             [
              0.6666666666666666,
              "#ed7953"
             ],
             [
              0.7777777777777778,
              "#fb9f3a"
             ],
             [
              0.8888888888888888,
              "#fdca26"
             ],
             [
              1,
              "#f0f921"
             ]
            ],
            "type": "histogram2dcontour"
           }
          ],
          "mesh3d": [
           {
            "colorbar": {
             "outlinewidth": 0,
             "ticks": ""
            },
            "type": "mesh3d"
           }
          ],
          "parcoords": [
           {
            "line": {
             "colorbar": {
              "outlinewidth": 0,
              "ticks": ""
             }
            },
            "type": "parcoords"
           }
          ],
          "pie": [
           {
            "automargin": true,
            "type": "pie"
           }
          ],
          "scatter": [
           {
            "fillpattern": {
             "fillmode": "overlay",
             "size": 10,
             "solidity": 0.2
            },
            "type": "scatter"
           }
          ],
          "scatter3d": [
           {
            "line": {
             "colorbar": {
              "outlinewidth": 0,
              "ticks": ""
             }
            },
            "marker": {
             "colorbar": {
              "outlinewidth": 0,
              "ticks": ""
             }
            },
            "type": "scatter3d"
           }
          ],
          "scattercarpet": [
           {
            "marker": {
             "colorbar": {
              "outlinewidth": 0,
              "ticks": ""
             }
            },
            "type": "scattercarpet"
           }
          ],
          "scattergeo": [
           {
            "marker": {
             "colorbar": {
              "outlinewidth": 0,
              "ticks": ""
             }
            },
            "type": "scattergeo"
           }
          ],
          "scattergl": [
           {
            "marker": {
             "colorbar": {
              "outlinewidth": 0,
              "ticks": ""
             }
            },
            "type": "scattergl"
           }
          ],
          "scattermapbox": [
           {
            "marker": {
             "colorbar": {
              "outlinewidth": 0,
              "ticks": ""
             }
            },
            "type": "scattermapbox"
           }
          ],
          "scatterpolar": [
           {
            "marker": {
             "colorbar": {
              "outlinewidth": 0,
              "ticks": ""
             }
            },
            "type": "scatterpolar"
           }
          ],
          "scatterpolargl": [
           {
            "marker": {
             "colorbar": {
              "outlinewidth": 0,
              "ticks": ""
             }
            },
            "type": "scatterpolargl"
           }
          ],
          "scatterternary": [
           {
            "marker": {
             "colorbar": {
              "outlinewidth": 0,
              "ticks": ""
             }
            },
            "type": "scatterternary"
           }
          ],
          "surface": [
           {
            "colorbar": {
             "outlinewidth": 0,
             "ticks": ""
            },
            "colorscale": [
             [
              0,
              "#0d0887"
             ],
             [
              0.1111111111111111,
              "#46039f"
             ],
             [
              0.2222222222222222,
              "#7201a8"
             ],
             [
              0.3333333333333333,
              "#9c179e"
             ],
             [
              0.4444444444444444,
              "#bd3786"
             ],
             [
              0.5555555555555556,
              "#d8576b"
             ],
             [
              0.6666666666666666,
              "#ed7953"
             ],
             [
              0.7777777777777778,
              "#fb9f3a"
             ],
             [
              0.8888888888888888,
              "#fdca26"
             ],
             [
              1,
              "#f0f921"
             ]
            ],
            "type": "surface"
           }
          ],
          "table": [
           {
            "cells": {
             "fill": {
              "color": "#EBF0F8"
             },
             "line": {
              "color": "white"
             }
            },
            "header": {
             "fill": {
              "color": "#C8D4E3"
             },
             "line": {
              "color": "white"
             }
            },
            "type": "table"
           }
          ]
         },
         "layout": {
          "annotationdefaults": {
           "arrowcolor": "#2a3f5f",
           "arrowhead": 0,
           "arrowwidth": 1
          },
          "autotypenumbers": "strict",
          "coloraxis": {
           "colorbar": {
            "outlinewidth": 0,
            "ticks": ""
           }
          },
          "colorscale": {
           "diverging": [
            [
             0,
             "#8e0152"
            ],
            [
             0.1,
             "#c51b7d"
            ],
            [
             0.2,
             "#de77ae"
            ],
            [
             0.3,
             "#f1b6da"
            ],
            [
             0.4,
             "#fde0ef"
            ],
            [
             0.5,
             "#f7f7f7"
            ],
            [
             0.6,
             "#e6f5d0"
            ],
            [
             0.7,
             "#b8e186"
            ],
            [
             0.8,
             "#7fbc41"
            ],
            [
             0.9,
             "#4d9221"
            ],
            [
             1,
             "#276419"
            ]
           ],
           "sequential": [
            [
             0,
             "#0d0887"
            ],
            [
             0.1111111111111111,
             "#46039f"
            ],
            [
             0.2222222222222222,
             "#7201a8"
            ],
            [
             0.3333333333333333,
             "#9c179e"
            ],
            [
             0.4444444444444444,
             "#bd3786"
            ],
            [
             0.5555555555555556,
             "#d8576b"
            ],
            [
             0.6666666666666666,
             "#ed7953"
            ],
            [
             0.7777777777777778,
             "#fb9f3a"
            ],
            [
             0.8888888888888888,
             "#fdca26"
            ],
            [
             1,
             "#f0f921"
            ]
           ],
           "sequentialminus": [
            [
             0,
             "#0d0887"
            ],
            [
             0.1111111111111111,
             "#46039f"
            ],
            [
             0.2222222222222222,
             "#7201a8"
            ],
            [
             0.3333333333333333,
             "#9c179e"
            ],
            [
             0.4444444444444444,
             "#bd3786"
            ],
            [
             0.5555555555555556,
             "#d8576b"
            ],
            [
             0.6666666666666666,
             "#ed7953"
            ],
            [
             0.7777777777777778,
             "#fb9f3a"
            ],
            [
             0.8888888888888888,
             "#fdca26"
            ],
            [
             1,
             "#f0f921"
            ]
           ]
          },
          "colorway": [
           "#636efa",
           "#EF553B",
           "#00cc96",
           "#ab63fa",
           "#FFA15A",
           "#19d3f3",
           "#FF6692",
           "#B6E880",
           "#FF97FF",
           "#FECB52"
          ],
          "font": {
           "color": "#2a3f5f"
          },
          "geo": {
           "bgcolor": "white",
           "lakecolor": "white",
           "landcolor": "white",
           "showlakes": true,
           "showland": true,
           "subunitcolor": "#C8D4E3"
          },
          "hoverlabel": {
           "align": "left"
          },
          "hovermode": "closest",
          "mapbox": {
           "style": "light"
          },
          "paper_bgcolor": "white",
          "plot_bgcolor": "white",
          "polar": {
           "angularaxis": {
            "gridcolor": "#EBF0F8",
            "linecolor": "#EBF0F8",
            "ticks": ""
           },
           "bgcolor": "white",
           "radialaxis": {
            "gridcolor": "#EBF0F8",
            "linecolor": "#EBF0F8",
            "ticks": ""
           }
          },
          "scene": {
           "xaxis": {
            "backgroundcolor": "white",
            "gridcolor": "#DFE8F3",
            "gridwidth": 2,
            "linecolor": "#EBF0F8",
            "showbackground": true,
            "ticks": "",
            "zerolinecolor": "#EBF0F8"
           },
           "yaxis": {
            "backgroundcolor": "white",
            "gridcolor": "#DFE8F3",
            "gridwidth": 2,
            "linecolor": "#EBF0F8",
            "showbackground": true,
            "ticks": "",
            "zerolinecolor": "#EBF0F8"
           },
           "zaxis": {
            "backgroundcolor": "white",
            "gridcolor": "#DFE8F3",
            "gridwidth": 2,
            "linecolor": "#EBF0F8",
            "showbackground": true,
            "ticks": "",
            "zerolinecolor": "#EBF0F8"
           }
          },
          "shapedefaults": {
           "line": {
            "color": "#2a3f5f"
           }
          },
          "ternary": {
           "aaxis": {
            "gridcolor": "#DFE8F3",
            "linecolor": "#A2B1C6",
            "ticks": ""
           },
           "baxis": {
            "gridcolor": "#DFE8F3",
            "linecolor": "#A2B1C6",
            "ticks": ""
           },
           "bgcolor": "white",
           "caxis": {
            "gridcolor": "#DFE8F3",
            "linecolor": "#A2B1C6",
            "ticks": ""
           }
          },
          "title": {
           "x": 0.05
          },
          "xaxis": {
           "automargin": true,
           "gridcolor": "#EBF0F8",
           "linecolor": "#EBF0F8",
           "ticks": "",
           "title": {
            "standoff": 15
           },
           "zerolinecolor": "#EBF0F8",
           "zerolinewidth": 2
          },
          "yaxis": {
           "automargin": true,
           "gridcolor": "#EBF0F8",
           "linecolor": "#EBF0F8",
           "ticks": "",
           "title": {
            "standoff": 15
           },
           "zerolinecolor": "#EBF0F8",
           "zerolinewidth": 2
          }
         }
        },
        "title": {
         "text": "Relationship between Bounce Rate and Avg. Session Duration"
        },
        "xaxis": {
         "anchor": "y",
         "domain": [
          0,
          1
         ],
         "title": {
          "text": "Bounce Rate"
         }
        },
        "yaxis": {
         "anchor": "x",
         "domain": [
          0,
          1
         ],
         "title": {
          "text": "Avg. Session Duration"
         }
        }
       }
      },
      "text/html": [
       "<div>                            <div id=\"4ace9017-7778-4b8b-bf3f-8c28b1255d88\" class=\"plotly-graph-div\" style=\"height:525px; width:100%;\"></div>            <script type=\"text/javascript\">                require([\"plotly\"], function(Plotly) {                    window.PLOTLYENV=window.PLOTLYENV || {};                                    if (document.getElementById(\"4ace9017-7778-4b8b-bf3f-8c28b1255d88\")) {                    Plotly.newPlot(                        \"4ace9017-7778-4b8b-bf3f-8c28b1255d88\",                        [{\"hovertemplate\":\"Bounce Rate=%{x}<br>Avg. Session Duration=%{y}<extra></extra>\",\"legendgroup\":\"\",\"marker\":{\"color\":\"#636efa\",\"symbol\":\"circle\"},\"mode\":\"markers\",\"name\":\"\",\"orientation\":\"v\",\"showlegend\":false,\"x\":[87.19,29.62,99.16,25.66,46.76,87.98,97.21,91.81,98.56,96.12,48.72,81.58,39.62,97.17,23.81,34.34,51.55,55.21,41.05,80.65,16.13,91.3,45.05,37.78,36.67,86.05,51.76,84.52,89.02,4.88,96.25,71.25,69.62,71.79,52.56,82.05,96.1,80.52,73.68,92.11,9.33,68.92,53.42,91.55,62.86,97.14,82.61,44.93,95.65,69.57,78.26,72.06,91.18,63.24,22.39,83.58,93.94,46.97,69.23,63.08,25.0,10.94,88.89,54.84,98.39,98.39,49.18,32.79,96.72,40.98,63.93,95.08,75.0,88.33,76.67,91.53,94.92,40.68,31.03,84.48,96.49,10.53,89.47,92.98,46.43,60.71,26.79,72.73,67.27,38.18,16.67,48.15,46.3,72.22,88.89,56.6,88.68,22.64,94.23,50.0,53.85,92.31,42.31,28.85,40.38,72.55,80.39,58.82,72.55,92.16,37.25,60.78,82.0,94.0,91.84,71.43,38.78,85.42,56.25,91.67,58.33,54.17,54.17,64.58,87.5,81.25,89.58,70.21,63.83,100.0,44.68,40.43,51.06,70.21,46.81,78.72,72.34,67.39,63.04,60.87,54.35,34.78,36.96,42.22,91.11,25.0,59.09,97.73,68.18,16.28,44.19,74.42,95.35,37.21,34.88,41.86,90.7,95.24,45.24,85.71,78.57,52.38,71.43,31.71,53.66,56.1,68.29,73.17,43.9,39.02,40.0,70.0,92.5,17.5,50.0,25.0,95.0,17.95,94.87,69.23,41.03,66.67,97.44,33.33,44.74,73.68,97.37,50.0,92.11,94.74,42.11,34.21,100.0,57.89,44.74,86.84,92.11,21.05,97.37,54.05,91.89,67.57,97.3,51.35,83.78,86.49,97.3,67.57,45.95,94.59,51.35,35.14,70.27,70.27,91.89,78.38,94.59,67.57,38.89,50.0,94.44,69.44,88.89,50.0,36.11,88.89,38.89,52.78,66.67,55.56,44.44,91.43,91.43,48.57,100.0,68.57,80.0,57.14,77.14,60.0,80.0,62.86,60.0,51.43,97.14,71.43,100.0,45.71,80.0,65.71,62.86,82.86,82.35,61.76,100.0,29.41,82.35,58.82,44.12,91.18,47.06,44.12,26.47,100.0,69.7,69.7,63.64,60.61,81.82,33.33,69.7,60.61,57.58,57.58,57.58,15.15,24.24,36.36,45.45,93.94,90.62,78.12,31.25,62.5,56.25,84.38,18.75,50.0,96.88,93.75,56.25,18.75,71.88,71.88,12.5,53.12,56.25,45.16,41.94,77.42,80.65,58.06,67.74,41.94,67.74,67.74,64.52,100.0,58.06,67.74,35.48,87.1,96.77,32.26,96.77,83.33,93.33,66.67,96.67,53.33,66.67,90.0,80.0,76.67,73.33,90.0,46.67,70.0,96.67,80.0,53.33,30.0,76.67,63.33,30.0,46.67,93.1,79.31,68.97,51.72,27.59,48.28,82.76,68.97,41.38,96.55,68.97,65.52,34.48,100.0,86.21,62.07,41.38,75.86,72.41,13.79,37.93,75.86,58.62,79.31,72.41,48.28,93.1,75.86,44.83,86.21,34.48,67.86,60.71,60.71,57.14,75.0,75.0,46.43,42.86,60.71,78.57,82.14,96.43,35.71,53.57,67.86,50.0,32.14,96.43,21.43,82.14,53.57,64.29,53.57,78.57,67.86,28.57,50.0,100.0,71.43,85.71,78.57,71.43,57.14,96.43,75.0,39.29,71.43,89.29,82.14,85.71,92.59,66.67,81.48,51.85,51.85,48.15,37.04,77.78,40.74,81.48,37.04,55.56,55.56,77.78,66.67,62.96,96.3,74.07,40.74,85.19,81.48,96.3,77.78,92.59,85.19,81.48,51.85,92.59,59.26,81.48,96.3,85.19,62.96,70.37,88.89,74.07,81.48,62.96,40.74,59.26,66.67,33.33,33.33,38.46,92.31,57.69,42.31,80.77,92.31,84.62,65.38,30.77,84.62,88.46,15.38,19.23,26.92,76.92,88.46,61.54,100.0,73.08,96.15,50.0,96.15,96.15,38.46,53.85,100.0,69.23,42.31,76.92,92.31,30.77,92.31,84.62,53.85,38.46,69.23,76.92,42.31,26.92,23.08,50.0,92.31,88.46,76.92,26.92,57.69,65.38,34.62,61.54,68.0,88.0,100.0,64.0,40.0,56.0,72.0,76.0,44.0,68.0,88.0,56.0,80.0,28.0,32.0,88.0,80.0,92.0,52.0,76.0,44.0,64.0,92.0,96.0,28.0,16.0,40.0,60.0,44.0,36.0,56.0,40.0,76.0,48.0,32.0,92.0,44.0,52.0,56.0,44.0,100.0,33.33,70.83,29.17,87.5,75.0,29.17,37.5,79.17,91.67,79.17,66.67,41.67,54.17,20.83,100.0,91.67,66.67,95.83,100.0,75.0,83.33,100.0,100.0,70.83,20.83,45.83,62.5,58.33,54.17,70.83,69.57,21.74,56.52,47.83,56.52,78.26,100.0,86.96,43.48,78.26,60.87,100.0,43.48,73.91,69.57,78.26,56.52,73.91,95.65,100.0,65.22,82.61,43.48,47.83,39.13,60.87,17.39,86.96,65.22,60.87,100.0,95.65,56.52,56.52,100.0,91.3,34.78,91.3,60.87,52.17,86.96,100.0,39.13,73.91,56.52,34.78,47.83,26.09,60.87,91.3,52.17,69.57,69.57,95.65,81.82,54.55,86.36,68.18,90.91,81.82,50.0,100.0,63.64,59.09,68.18,100.0,100.0,63.64,100.0,90.91,40.91,63.64,59.09,86.36,22.73,54.55,72.73,31.82,68.18,59.09,63.64,54.55,45.45,59.09,100.0,40.91,54.55,68.18,36.36,100.0,95.45,63.64,86.36,72.73,54.55,36.36,95.45,45.45,45.45,81.82,45.45,36.36,86.36,54.55,63.64,86.36,63.64,45.45,86.36,54.55,81.82,36.36,36.36,36.36,38.1,71.43,33.33,71.43,57.14,33.33,52.38,100.0,66.67,76.19,80.95,28.57,38.1,76.19,28.57,76.19,47.62,66.67,95.24,71.43,47.62,19.05,57.14,90.48,95.24,95.24,80.95,47.62,100.0,71.43,19.05,85.71,23.81,85.71,90.48,47.62,42.86,71.43,95.24,42.86,52.38,33.33,61.9,66.67,76.19,61.9,90.48,100.0,19.05,80.95,71.43,52.38,95.24,57.14,80.95,61.9,95.24,61.9,90.48,80.95,38.1,71.43,52.38,61.9,95.24,52.38,75.0,15.0,20.0,65.0,90.0,55.0,45.0,75.0,60.0,80.0,85.0,85.0,90.0,20.0,80.0,30.0,55.0,75.0,30.0,85.0,55.0,100.0,95.0,95.0,95.0,65.0,60.0,85.0,55.0,100.0,60.0,70.0,65.0,100.0,95.0,95.0,30.0,50.0,70.0,80.0,75.0,90.0,70.0,100.0,100.0,60.0,65.0,95.0,35.0,85.0,65.0,90.0,85.0,20.0,45.0,55.0,35.0,55.0,65.0,52.63,15.79,100.0,100.0,94.74,42.11,94.74,63.16,57.89,78.95,31.58,47.37,73.68,84.21,63.16,89.47,89.47,52.63,31.58,78.95,36.84,78.95,94.74,94.74,52.63,21.05,36.84,68.42,52.63,42.11,26.32,78.95,78.95,63.16,52.63,84.21,94.74,63.16,42.11,100.0,47.37,78.95,94.74,26.32,47.37,47.37,63.16,47.37,47.37,100.0,26.32,100.0,78.95,78.95,68.42,42.11,68.42,47.37,100.0,84.21,68.42,31.58,42.11,42.11,94.74,84.21,47.37,42.11,52.63,52.63,47.37,57.89,68.42,68.42,63.16,36.84,73.68,83.33,38.89,94.44,83.33,50.0,100.0,55.56,88.89,94.44,44.44,77.78,55.56,77.78,22.22,38.89,55.56,61.11,27.78,22.22,66.67,83.33,83.33,100.0,72.22,77.78,55.56,88.89,100.0,72.22,94.44,83.33,55.56,38.89,66.67,44.44,77.78,88.89,94.44,77.78,66.67,38.89,94.44,100.0,94.44,83.33,33.33,83.33,61.11,27.78,61.11,27.78,88.89,38.89,66.67,44.44,50.0,55.56,94.44,33.33,83.33,38.89,94.44,50.0,50.0,50.0,94.44,61.11,88.89,77.78,66.67,88.89,94.44,94.44,55.56,33.33,27.78,88.89,88.89,66.67,94.44,33.33,61.11,61.11,55.56,50.0,55.56,77.78,88.89,38.89,77.78,83.33,94.44,100.0,61.11,55.56,83.33,33.33,88.89,72.22,83.33,72.22,22.22,50.0,94.44,35.29,100.0,17.65,35.29,41.18,47.06,94.12,88.24,64.71],\"xaxis\":\"x\",\"y\":[1.5833333333333333,1.0666666666666667,0.03333333333333333,2.3666666666666667,1.3833333333333333,1.7333333333333334,0.55,1.3666666666666667,0.2,0.4,8.45,2.7666666666666666,0.75,0.016666666666666666,3.2333333333333334,9.716666666666667,2.0833333333333335,3.933333333333333,4.666666666666667,2.5833333333333335,30.666666666666668,0.4,3.8833333333333333,4.533333333333333,7.016666666666667,0.4166666666666667,3.25,1.6666666666666667,1.9333333333333333,4.766666666666667,0.03333333333333333,3.8666666666666667,0.38333333333333336,0.6,2.7,3.466666666666667,0.7,3.0166666666666666,4.616666666666666,0.45,1.1166666666666667,1.4166666666666667,1.5166666666666666,1.2833333333333334,1.4666666666666666,0.38333333333333336,2.6166666666666667,1.5166666666666666,0.6666666666666666,4.233333333333333,2.1,1.7333333333333334,0.7333333333333333,2.533333333333333,20.5,3.0166666666666666,1.2833333333333334,8.55,0.5333333333333333,4.066666666666666,6.15,5.566666666666666,1.1166666666666667,9.483333333333333,0.16666666666666666,0.13333333333333333,3.4,4.683333333333334,0.7833333333333333,2.3333333333333335,4.966666666666667,0.6,3.1166666666666667,1.7,3.75,1.4833333333333334,0.7166666666666667,1.3,2.7666666666666666,2.2333333333333334,0.4,3.783333333333333,0.7666666666666667,0.38333333333333336,8.766666666666667,1.3666666666666667,6.933333333333334,1.5,4.616666666666666,6.116666666666666,1.25,8.55,6.5,1.3,1.45,0.75,0.5833333333333334,8.383333333333333,1.1333333333333333,0.85,4.116666666666666,0.18333333333333332,8.683333333333334,5.45,2.4,0.18333333333333332,1.5,1.65,4.6,1.5666666666666667,1.6833333333333333,4.016666666666667,2.316666666666667,0.5666666666666667,0.9166666666666666,3.0166666666666666,11.433333333333334,1.5333333333333334,5.416666666666667,0.9,3.75,5.366666666666666,2.533333333333333,1.2833333333333334,1.65,2.8333333333333335,1.4,1.0333333333333334,1.8333333333333333,0.0,4.033333333333333,9.133333333333333,5.633333333333334,5.166666666666667,4.883333333333334,2.2,4.166666666666667,4.683333333333334,2.2666666666666666,6.633333333333334,6.783333333333333,4.0,3.5,2.65,1.45,7.666666666666667,1.3166666666666667,0.21666666666666667,5.8,8.116666666666667,0.95,3.5166666666666666,1.05,0.75,2.5166666666666666,11.516666666666667,0.31666666666666665,0.45,9.8,1.4166666666666667,3.3833333333333333,4.766666666666667,0.9833333333333333,0.31666666666666665,2.716666666666667,7.05,4.65,3.1666666666666665,2.5833333333333335,2.35,9.433333333333334,6.05,0.8333333333333334,24.416666666666668,4.6,7.383333333333334,0.3,12.816666666666666,1.0166666666666666,5.666666666666667,4.733333333333333,2.4166666666666665,0.016666666666666666,10.55,5.683333333333334,2.6666666666666665,0.4,1.2833333333333334,0.4,0.3333333333333333,11.5,7.116666666666666,0.0,4.683333333333334,6.966666666666667,2.1166666666666667,1.55,0.48333333333333334,0.05,3.9,1.1833333333333333,3.3,0.7333333333333333,0.75,2.966666666666667,1.3666666666666667,0.9666666666666667,1.1666666666666667,7.833333333333333,0.35,3.9166666666666665,16.25,2.9,4.55,0.06666666666666667,3.8833333333333333,0.6333333333333333,0.21666666666666667,2.966666666666667,5.316666666666666,0.6166666666666667,4.733333333333333,2.3333333333333335,5.483333333333333,9.216666666666667,0.4,9.1,6.983333333333333,3.3833333333333333,6.283333333333333,9.833333333333334,1.3833333333333333,0.5,5.233333333333333,0.0,2.466666666666667,2.433333333333333,2.7333333333333334,4.5,4.133333333333334,1.4666666666666666,2.4166666666666665,3.3833333333333333,8.683333333333334,0.43333333333333335,5.133333333333334,0.0,5.75,0.016666666666666666,2.033333333333333,12.05,0.5333333333333333,1.1833333333333333,5.55,0.0,4.416666666666667,0.65,6.633333333333334,10.6,2.85,8.816666666666666,1.15,29.966666666666665,0.0,3.0833333333333335,2.3666666666666667,6.833333333333333,7.616666666666666,0.5,5.6,1.9666666666666666,4.216666666666667,9.616666666666667,4.7,6.75,16.366666666666667,8.283333333333333,5.966666666666667,7.383333333333334,0.11666666666666667,0.11666666666666667,2.566666666666667,6.55,4.816666666666666,3.0,1.8166666666666667,3.3666666666666667,1.0166666666666666,0.016666666666666666,0.7,11.333333333333334,4.466666666666667,4.2,5.416666666666667,8.916666666666666,4.8,3.6,4.716666666666667,4.183333333333334,0.6666666666666666,1.8166666666666667,3.2666666666666666,2.816666666666667,3.3333333333333335,0.6,4.133333333333334,5.783333333333333,0.0,3.15,4.1,22.116666666666667,0.7,0.05,8.833333333333334,0.15,2.5833333333333335,0.43333333333333335,1.7166666666666666,0.016666666666666666,2.433333333333333,5.316666666666666,0.36666666666666664,1.5833333333333333,0.6333333333333333,2.216666666666667,0.16666666666666666,9.6,2.4166666666666665,0.8666666666666667,3.5833333333333335,5.666666666666667,9.966666666666667,1.6666666666666667,3.4833333333333334,5.016666666666667,3.85,0.11666666666666667,1.2333333333333334,1.2833333333333334,11.35,9.716666666666667,11.916666666666666,0.5666666666666667,1.2833333333333334,9.466666666666667,0.8666666666666667,3.15,2.0166666666666666,1.6666666666666667,0.0,0.5333333333333333,6.25,9.55,3.2333333333333334,1.95,12.483333333333333,7.1,3.2,3.816666666666667,1.4,1.2166666666666666,8.116666666666667,0.05,2.0833333333333335,2.3,1.8833333333333333,9.05,4.75,6.9,5.483333333333333,2.3666666666666667,3.2,1.25,1.1,1.1833333333333333,0.8833333333333333,1.65,2.783333333333333,0.016666666666666666,17.983333333333334,1.7666666666666666,0.85,6.816666666666666,2.55,0.0,1.55,1.3333333333333333,4.733333333333333,2.6,6.833333333333333,2.7333333333333334,2.533333333333333,8.933333333333334,7.033333333333333,0.0,3.3833333333333333,1.6833333333333333,2.283333333333333,3.3,4.95,0.016666666666666666,0.08333333333333333,21.3,2.716666666666667,0.7,2.55,0.21666666666666667,1.2,3.3,2.716666666666667,3.85,9.933333333333334,0.016666666666666666,8.433333333333334,2.8833333333333333,11.633333333333333,0.7333333333333333,3.1166666666666667,2.7333333333333334,3.6,4.283333333333333,3.183333333333333,1.6333333333333333,0.0,2.7333333333333334,5.8,1.8,2.6166666666666667,1.1,1.6,0.5833333333333334,0.016666666666666666,1.3166666666666667,1.5333333333333334,0.26666666666666666,7.75,0.6,0.016666666666666666,1.3,6.666666666666667,1.15,1.8,1.8666666666666667,4.133333333333334,1.5666666666666667,5.633333333333334,2.1333333333333333,2.1,21.133333333333333,3.3833333333333333,1.7333333333333334,1.3,3.9833333333333334,1.3333333333333333,3.283333333333333,1.2666666666666666,3.3333333333333335,2.05,12.283333333333333,1.75,1.15,1.9666666666666666,13.583333333333334,3.2333333333333334,0.85,0.9333333333333333,2.683333333333333,0.0,0.9,0.016666666666666666,3.433333333333333,1.15,1.0666666666666667,11.85,3.466666666666667,0.0,8.533333333333333,8.783333333333333,2.15,0.016666666666666666,11.583333333333334,2.3,0.8333333333333334,8.083333333333334,12.383333333333333,6.533333333333333,2.716666666666667,3.1,17.6,20.3,0.8333333333333334,0.06666666666666667,0.11666666666666667,0.23333333333333334,13.733333333333333,4.283333333333333,3.216666666666667,4.133333333333334,1.7833333333333334,0.7666666666666667,0.7333333333333333,0.0,2.4,2.566666666666667,2.6166666666666667,3.716666666666667,1.1333333333333333,1.2,1.25,1.35,6.0,0.3,12.966666666666667,5.683333333333334,0.13333333333333333,2.2666666666666666,0.03333333333333333,3.683333333333333,4.55,3.283333333333333,2.0833333333333335,0.16666666666666666,0.36666666666666664,11.1,5.833333333333333,3.8,4.616666666666666,10.0,3.283333333333333,0.08333333333333333,1.65,2.4166666666666665,10.416666666666666,4.166666666666667,0.6666666666666666,13.85,2.5166666666666666,3.4833333333333334,7.933333333333334,0.0,5.983333333333333,3.183333333333333,8.283333333333333,3.6666666666666665,2.8833333333333333,8.883333333333333,3.433333333333333,3.25,0.8833333333333333,1.15,0.016666666666666666,2.1666666666666665,1.8333333333333333,20.466666666666665,0.0,0.25,3.45,1.3333333333333333,0.0,4.183333333333334,1.05,0.0,0.0,3.1666666666666665,2.9,1.4666666666666666,2.2666666666666666,3.8,1.4,3.316666666666667,3.1333333333333333,1.3166666666666667,2.966666666666667,5.983333333333333,3.533333333333333,0.9166666666666666,0.0,0.2,5.333333333333333,0.016666666666666666,2.4166666666666665,0.0,3.0,5.7,1.2,1.45,3.966666666666667,1.2333333333333334,0.016666666666666666,0.0,4.5,3.5833333333333335,3.0166666666666666,0.25,4.616666666666666,4.2,16.533333333333335,0.016666666666666666,8.766666666666667,8.416666666666666,0.0,0.08333333333333333,0.7833333333333333,3.5166666666666666,0.0,0.03333333333333333,0.55,0.06666666666666667,1.3,2.75,1.1166666666666667,0.0,2.5166666666666666,1.7166666666666666,5.3,11.783333333333333,6.366666666666666,1.8333333333333333,1.1166666666666667,0.016666666666666666,4.816666666666666,1.3666666666666667,9.866666666666667,2.033333333333333,1.15,2.75,1.4166666666666667,2.066666666666667,0.06666666666666667,4.416666666666667,8.666666666666666,0.0,3.933333333333333,2.1166666666666667,1.85,0.0,0.0,3.2,0.0,0.06666666666666667,12.933333333333334,8.65,3.35,0.85,9.083333333333334,2.8833333333333333,5.2,12.55,1.6166666666666667,8.5,2.3333333333333335,3.933333333333333,5.35,4.716666666666667,0.0,22.933333333333334,3.9166666666666665,6.766666666666667,5.766666666666667,0.0,0.35,0.6666666666666666,1.7333333333333334,2.5,3.9833333333333334,6.466666666666667,0.016666666666666666,0.8666666666666667,12.466666666666667,2.566666666666667,12.083333333333334,3.8,1.3833333333333333,5.15,0.4666666666666667,0.55,0.55,5.066666666666666,0.11666666666666667,5.533333333333333,2.5833333333333335,11.916666666666666,10.166666666666666,7.5,3.6,1.7666666666666666,5.233333333333333,4.1,6.016666666666667,10.3,2.4,0.0,8.216666666666667,0.85,2.533333333333333,10.216666666666667,12.683333333333334,0.26666666666666666,4.716666666666667,1.3833333333333333,8.366666666666667,1.2333333333333334,0.016666666666666666,3.1333333333333333,5.95,3.3333333333333335,0.48333333333333334,1.0833333333333333,1.1666666666666667,0.25,0.9833333333333333,2.966666666666667,0.0,0.43333333333333335,16.35,1.5,9.833333333333334,1.3166666666666667,0.7833333333333333,1.5666666666666667,5.183333333333334,0.36666666666666664,0.016666666666666666,15.1,5.466666666666667,9.4,2.2333333333333334,0.6166666666666667,2.65,4.816666666666666,0.2833333333333333,0.0,19.316666666666666,1.0333333333333334,0.5833333333333334,4.1,1.8,3.5166666666666666,0.7333333333333333,1.5166666666666666,1.1166666666666667,2.35,0.4666666666666667,3.15,3.783333333333333,1.5166666666666666,4.8,3.933333333333333,0.08333333333333333,3.816666666666667,1.0666666666666667,1.3,2.1666666666666665,2.783333333333333,0.11666666666666667,0.9166666666666666,2.3666666666666667,0.9,3.35,1.3166666666666667,0.25,2.05,0.9833333333333333,8.516666666666667,3.566666666666667,5.266666666666667,3.1333333333333333,1.5166666666666666,11.666666666666666,2.316666666666667,2.75,0.0,0.016666666666666666,0.31666666666666665,0.016666666666666666,6.6,7.333333333333333,0.15,0.5,0.0,2.5833333333333335,3.25,1.2333333333333334,0.0,0.016666666666666666,1.3666666666666667,15.983333333333333,4.033333333333333,2.5166666666666666,0.15,1.4833333333333334,1.4666666666666666,1.95,0.0,0.0,1.1666666666666667,5.1,1.3,21.45,2.9833333333333334,1.6,2.05,2.2333333333333334,2.85,10.666666666666666,3.4833333333333334,13.133333333333333,8.366666666666667,2.55,4.583333333333333,7.416666666666667,0.0,0.0,1.4666666666666666,2.8333333333333335,0.21666666666666667,3.3,6.083333333333333,1.8,6.4,3.6666666666666665,1.6166666666666667,1.4666666666666666,0.5666666666666667,0.1,0.2,0.48333333333333334,16.466666666666665,0.7166666666666667,4.8,2.316666666666667,1.05,0.03333333333333333,1.6333333333333333,15.55,5.35,2.0,7.933333333333334,5.316666666666666,11.25,1.4666666666666666,0.26666666666666666,2.466666666666667,3.4,3.35,1.4833333333333334,2.3833333333333333,11.716666666666667,0.0,4.9,2.8833333333333333,0.3,5.3,4.933333333333334,14.066666666666666,3.9166666666666665,2.8,10.533333333333333,0.0,11.65,0.0,5.633333333333334,1.6166666666666667,6.583333333333333,4.95,2.533333333333333,0.4666666666666667,0.0,0.7166666666666667,6.733333333333333,10.633333333333333,12.066666666666666,1.3833333333333333,0.08333333333333333,1.7166666666666666,8.416666666666666,4.166666666666667,7.566666666666666,1.3333333333333333,4.316666666666666,5.216666666666667,3.05,7.0,1.9333333333333333,4.066666666666666,2.45,0.16666666666666666,0.9833333333333333,0.016666666666666666,0.8666666666666667,4.433333333333334,0.0,1.5166666666666666,1.3166666666666667,1.25,4.133333333333334,1.85,7.3,1.0666666666666667,15.65,6.266666666666667,3.3,2.533333333333333,6.433333333333334,3.3666666666666667,3.216666666666667,0.95,1.0166666666666666,0.0,0.2833333333333333,1.45,4.65,1.0166666666666666,0.0,4.116666666666666,0.5333333333333333,0.2,1.25,10.0,8.633333333333333,3.7333333333333334,3.933333333333333,2.3666666666666667,0.16666666666666666,0.9833333333333333,3.05,11.3,0.08333333333333333,0.0,1.05,1.6833333333333333,1.7666666666666666,3.7666666666666666,3.933333333333333,19.166666666666668,4.183333333333334,8.266666666666667,2.6,7.033333333333333,3.05,16.033333333333335,9.766666666666667,2.85,0.31666666666666665,6.933333333333334,1.9333333333333333,9.716666666666667,0.43333333333333335,10.766666666666667,5.433333333333334,0.5666666666666667,0.05,6.3,0.3,1.5,3.55,0.8666666666666667,0.08333333333333333,0.5333333333333333,5.316666666666666,4.45,5.4,0.23333333333333334,0.3333333333333333,1.6333333333333333,0.23333333333333334,5.3,0.7166666666666667,8.066666666666666,5.083333333333333,9.95,4.366666666666666,0.3333333333333333,0.15,3.533333333333333,3.9,2.75,0.75,0.0,0.7833333333333333,4.283333333333333,1.4666666666666666,6.416666666666667,0.6666666666666666,2.1166666666666667,0.5166666666666667,0.5333333333333333,8.816666666666666,2.3333333333333335,0.06666666666666667,5.433333333333334,0.0,5.233333333333333,7.5,7.733333333333333,5.616666666666666,0.2,1.2166666666666666,2.566666666666667],\"yaxis\":\"y\",\"type\":\"scatter\"},{\"hovertemplate\":\"<b>OLS trendline</b><br>Avg. Session Duration = -0.1137 * Bounce Rate + 11.062<br>R<sup>2</sup>=0.418783<br><br>Bounce Rate=%{x}<br>Avg. Session Duration=%{y} <b>(trend)</b><extra></extra>\",\"legendgroup\":\"\",\"marker\":{\"color\":\"#636efa\",\"symbol\":\"circle\"},\"mode\":\"lines\",\"name\":\"\",\"showlegend\":false,\"x\":[4.88,9.33,10.53,10.94,12.5,13.79,15.0,15.15,15.38,15.79,16.0,16.13,16.28,16.67,17.39,17.5,17.65,17.95,18.75,18.75,19.05,19.05,19.05,19.23,20.0,20.0,20.0,20.83,20.83,21.05,21.05,21.43,21.74,22.22,22.22,22.22,22.39,22.64,22.73,23.08,23.81,23.81,24.24,25.0,25.0,25.0,25.66,26.09,26.32,26.32,26.32,26.47,26.79,26.92,26.92,26.92,27.59,27.78,27.78,27.78,27.78,28.0,28.0,28.57,28.57,28.57,28.85,29.17,29.17,29.41,29.62,30.0,30.0,30.0,30.0,30.0,30.77,30.77,31.03,31.25,31.58,31.58,31.58,31.71,31.82,32.0,32.0,32.14,32.26,32.79,33.33,33.33,33.33,33.33,33.33,33.33,33.33,33.33,33.33,33.33,33.33,33.33,33.33,34.21,34.34,34.48,34.48,34.62,34.78,34.78,34.78,34.88,35.0,35.0,35.14,35.29,35.29,35.48,35.71,36.0,36.11,36.36,36.36,36.36,36.36,36.36,36.36,36.36,36.67,36.84,36.84,36.84,36.96,37.04,37.04,37.21,37.25,37.5,37.78,37.93,38.1,38.1,38.1,38.18,38.46,38.46,38.46,38.78,38.89,38.89,38.89,38.89,38.89,38.89,38.89,38.89,38.89,39.02,39.13,39.13,39.29,39.62,40.0,40.0,40.0,40.0,40.38,40.43,40.68,40.74,40.74,40.74,40.91,40.91,40.98,41.03,41.05,41.18,41.38,41.38,41.67,41.86,41.94,41.94,42.11,42.11,42.11,42.11,42.11,42.11,42.11,42.11,42.22,42.31,42.31,42.31,42.31,42.86,42.86,42.86,43.48,43.48,43.48,43.9,44.0,44.0,44.0,44.0,44.0,44.12,44.12,44.19,44.44,44.44,44.44,44.44,44.68,44.74,44.74,44.83,44.93,45.0,45.0,45.05,45.16,45.24,45.45,45.45,45.45,45.45,45.45,45.45,45.71,45.83,45.95,46.3,46.43,46.43,46.67,46.67,46.76,46.81,46.97,47.06,47.06,47.37,47.37,47.37,47.37,47.37,47.37,47.37,47.37,47.37,47.62,47.62,47.62,47.62,47.83,47.83,47.83,48.0,48.15,48.15,48.28,48.28,48.57,48.72,49.18,50.0,50.0,50.0,50.0,50.0,50.0,50.0,50.0,50.0,50.0,50.0,50.0,50.0,50.0,50.0,50.0,50.0,50.0,50.0,51.06,51.35,51.35,51.43,51.55,51.72,51.76,51.85,51.85,51.85,52.0,52.0,52.17,52.17,52.38,52.38,52.38,52.38,52.38,52.38,52.56,52.63,52.63,52.63,52.63,52.63,52.63,52.63,52.78,53.12,53.33,53.33,53.42,53.57,53.57,53.57,53.66,53.85,53.85,53.85,54.05,54.17,54.17,54.17,54.17,54.35,54.55,54.55,54.55,54.55,54.55,54.55,54.55,54.84,55.0,55.0,55.0,55.0,55.0,55.0,55.21,55.56,55.56,55.56,55.56,55.56,55.56,55.56,55.56,55.56,55.56,55.56,55.56,55.56,56.0,56.0,56.0,56.0,56.1,56.25,56.25,56.25,56.25,56.52,56.52,56.52,56.52,56.52,56.52,56.6,57.14,57.14,57.14,57.14,57.14,57.14,57.58,57.58,57.58,57.69,57.69,57.89,57.89,57.89,58.06,58.06,58.33,58.33,58.62,58.82,58.82,59.09,59.09,59.09,59.09,59.09,59.26,59.26,60.0,60.0,60.0,60.0,60.0,60.0,60.0,60.61,60.61,60.71,60.71,60.71,60.71,60.78,60.87,60.87,60.87,60.87,60.87,60.87,61.11,61.11,61.11,61.11,61.11,61.11,61.11,61.54,61.54,61.76,61.9,61.9,61.9,61.9,61.9,62.07,62.5,62.5,62.86,62.86,62.86,62.96,62.96,62.96,63.04,63.08,63.16,63.16,63.16,63.16,63.16,63.16,63.24,63.33,63.64,63.64,63.64,63.64,63.64,63.64,63.64,63.64,63.83,63.93,64.0,64.0,64.29,64.52,64.58,64.71,65.0,65.0,65.0,65.0,65.0,65.0,65.22,65.22,65.38,65.38,65.52,65.71,66.67,66.67,66.67,66.67,66.67,66.67,66.67,66.67,66.67,66.67,66.67,66.67,66.67,66.67,66.67,66.67,66.67,66.67,67.27,67.39,67.57,67.57,67.57,67.74,67.74,67.74,67.74,67.86,67.86,67.86,68.0,68.0,68.18,68.18,68.18,68.18,68.18,68.29,68.42,68.42,68.42,68.42,68.42,68.42,68.57,68.92,68.97,68.97,68.97,69.23,69.23,69.23,69.23,69.44,69.57,69.57,69.57,69.57,69.57,69.62,69.7,69.7,69.7,70.0,70.0,70.0,70.0,70.0,70.21,70.21,70.27,70.27,70.37,70.83,70.83,70.83,71.25,71.43,71.43,71.43,71.43,71.43,71.43,71.43,71.43,71.43,71.43,71.43,71.43,71.43,71.79,71.88,71.88,72.0,72.06,72.22,72.22,72.22,72.22,72.22,72.34,72.41,72.41,72.55,72.55,72.73,72.73,72.73,73.08,73.17,73.33,73.68,73.68,73.68,73.68,73.91,73.91,73.91,74.07,74.07,74.42,75.0,75.0,75.0,75.0,75.0,75.0,75.0,75.0,75.0,75.0,75.86,75.86,75.86,76.0,76.0,76.0,76.19,76.19,76.19,76.19,76.67,76.67,76.67,76.92,76.92,76.92,76.92,77.14,77.42,77.78,77.78,77.78,77.78,77.78,77.78,77.78,77.78,77.78,77.78,77.78,78.12,78.26,78.26,78.26,78.26,78.38,78.57,78.57,78.57,78.57,78.72,78.95,78.95,78.95,78.95,78.95,78.95,78.95,78.95,79.17,79.17,79.31,79.31,80.0,80.0,80.0,80.0,80.0,80.0,80.0,80.0,80.0,80.0,80.39,80.52,80.65,80.65,80.77,80.95,80.95,80.95,80.95,80.95,81.25,81.48,81.48,81.48,81.48,81.48,81.48,81.58,81.82,81.82,81.82,81.82,81.82,82.0,82.05,82.14,82.14,82.14,82.35,82.35,82.61,82.61,82.76,82.86,83.33,83.33,83.33,83.33,83.33,83.33,83.33,83.33,83.33,83.33,83.33,83.33,83.33,83.58,83.78,84.21,84.21,84.21,84.21,84.38,84.48,84.52,84.62,84.62,84.62,85.0,85.0,85.0,85.0,85.0,85.0,85.19,85.19,85.19,85.42,85.71,85.71,85.71,85.71,85.71,86.05,86.21,86.21,86.36,86.36,86.36,86.36,86.36,86.36,86.49,86.84,86.96,86.96,86.96,87.1,87.19,87.5,87.5,87.98,88.0,88.0,88.0,88.24,88.33,88.46,88.46,88.46,88.68,88.89,88.89,88.89,88.89,88.89,88.89,88.89,88.89,88.89,88.89,88.89,88.89,88.89,88.89,88.89,89.02,89.29,89.47,89.47,89.47,89.58,90.0,90.0,90.0,90.0,90.0,90.0,90.48,90.48,90.48,90.48,90.62,90.7,90.91,90.91,91.11,91.18,91.18,91.3,91.3,91.3,91.3,91.43,91.43,91.53,91.55,91.67,91.67,91.67,91.81,91.84,91.89,91.89,92.0,92.0,92.0,92.11,92.11,92.11,92.16,92.31,92.31,92.31,92.31,92.31,92.31,92.5,92.59,92.59,92.59,92.98,93.1,93.1,93.33,93.75,93.94,93.94,94.0,94.12,94.23,94.44,94.44,94.44,94.44,94.44,94.44,94.44,94.44,94.44,94.44,94.44,94.44,94.44,94.44,94.44,94.59,94.59,94.74,94.74,94.74,94.74,94.74,94.74,94.74,94.74,94.87,94.92,95.0,95.0,95.0,95.0,95.0,95.0,95.0,95.08,95.24,95.24,95.24,95.24,95.24,95.24,95.24,95.24,95.35,95.45,95.45,95.65,95.65,95.65,95.65,95.83,96.0,96.1,96.12,96.15,96.15,96.15,96.25,96.3,96.3,96.3,96.43,96.43,96.43,96.49,96.55,96.67,96.67,96.72,96.77,96.77,96.88,97.14,97.14,97.17,97.21,97.3,97.3,97.37,97.37,97.44,97.73,98.39,98.39,98.56,99.16,100.0,100.0,100.0,100.0,100.0,100.0,100.0,100.0,100.0,100.0,100.0,100.0,100.0,100.0,100.0,100.0,100.0,100.0,100.0,100.0,100.0,100.0,100.0,100.0,100.0,100.0,100.0,100.0,100.0,100.0,100.0,100.0,100.0,100.0,100.0,100.0,100.0,100.0,100.0,100.0,100.0,100.0,100.0,100.0,100.0,100.0,100.0,100.0,100.0],\"xaxis\":\"x\",\"y\":[10.50717161553682,10.001207302886788,9.86476748823959,9.818150551568463,9.640778792527103,9.494105991781364,9.356529178678771,9.339474201847871,9.313323237373824,9.266706300702698,9.242829333139438,9.228048353219325,9.210993376388425,9.166650436628085,9.084786547839766,9.072279564830438,9.05522458799954,9.021114634337739,8.930154757906273,8.930154757906273,8.896044804244472,8.896044804244472,8.896044804244472,8.875578832047392,8.788029950982107,8.788029950982107,8.788029950982107,8.69365907918446,8.69365907918446,8.668645113165807,8.668645113165807,8.62543917186086,8.590192219743667,8.535616293884788,8.535616293884788,8.535616293884788,8.5162873201431,8.487862358758267,8.477629372659727,8.437834426720961,8.354833539477248,8.354833539477248,8.305942605895336,8.219530723285441,8.219530723285441,8.219530723285441,8.144488825229482,8.095597891647568,8.069446927173523,8.069446927173523,8.069446927173523,8.052391950342622,8.016007999770036,8.001227019849923,8.001227019849923,8.001227019849923,7.92504812333857,7.903445152686096,7.903445152686096,7.903445152686096,7.903445152686096,7.878431186667443,7.878431186667443,7.813622274710023,7.813622274710023,7.813622274710023,7.78178631795901,7.745402367386424,7.745402367386424,7.718114404456983,7.694237436893724,7.651031495588777,7.651031495588777,7.651031495588777,7.651031495588777,7.651031495588777,7.56348261452349,7.56348261452349,7.533920654683264,7.508906688664611,7.471385739636631,7.471385739636631,7.471385739636631,7.456604759716518,7.444097776707191,7.423631804510111,7.423631804510111,7.4077138261346045,7.394069844669885,7.333808926534038,7.2724110099427985,7.2724110099427985,7.2724110099427985,7.2724110099427985,7.2724110099427985,7.2724110099427985,7.2724110099427985,7.2724110099427985,7.2724110099427985,7.2724110099427985,7.2724110099427985,7.2724110099427985,7.2724110099427985,7.172355145868186,7.157574165948072,7.141656187572567,7.141656187572567,7.12573820919706,7.107546233910766,7.107546233910766,7.107546233910766,7.096176249356832,7.0825322678921125,7.0825322678921125,7.066614289516606,7.049559312685706,7.049559312685706,7.027956342033233,7.001805377559186,6.968832422352779,6.956325439343453,6.9279004779586195,6.9279004779586195,6.9279004779586195,6.9279004779586195,6.9279004779586195,6.9279004779586195,6.9279004779586195,6.8926535258414265,6.8733245520997395,6.8733245520997395,6.8733245520997395,6.85968057063502,6.850584582991874,6.850584582991874,6.831255609250187,6.826707615428614,6.79828265404378,6.766446697292767,6.749391720461867,6.73006274672018,6.73006274672018,6.73006274672018,6.720966759077034,6.68913080232602,6.68913080232602,6.68913080232602,6.6527468517534345,6.640239868744107,6.640239868744107,6.640239868744107,6.640239868744107,6.640239868744107,6.640239868744107,6.640239868744107,6.640239868744107,6.640239868744107,6.625458888823994,6.6129519058146675,6.6129519058146675,6.594759930528374,6.557238981500395,6.514033040195448,6.514033040195448,6.514033040195448,6.514033040195448,6.470827098890501,6.465142106613535,6.436717145228702,6.429895154496341,6.429895154496341,6.429895154496341,6.410566180754656,6.410566180754656,6.4026071915669025,6.396922199289935,6.394648202379149,6.379867222459035,6.357127253351169,6.357127253351169,6.324154298144762,6.302551327492289,6.293455339849142,6.293455339849142,6.274126366107455,6.274126366107455,6.274126366107455,6.274126366107455,6.274126366107455,6.274126366107455,6.274126366107455,6.274126366107455,6.261619383098129,6.251386396999589,6.251386396999589,6.251386396999589,6.251386396999589,6.188851481952956,6.188851481952956,6.188851481952956,6.1183575777185695,6.1183575777185695,6.1183575777185695,6.07060364259205,6.059233658038116,6.059233658038116,6.059233658038116,6.059233658038116,6.059233658038116,6.045589676573397,6.045589676573397,6.037630687385644,6.00920572600081,6.00920572600081,6.00920572600081,6.00920572600081,5.98191776307137,5.97509577233901,5.97509577233901,5.96486278624047,5.9534928016865365,5.945533812498783,5.945533812498783,5.939848820221817,5.927341837212491,5.9182458495693435,5.894368882006083,5.894368882006083,5.894368882006083,5.894368882006083,5.894368882006083,5.894368882006083,5.864806922165857,5.851162940701137,5.837518959236417,5.797724013297651,5.782943033377538,5.782943033377538,5.755655070448097,5.755655070448097,5.745422084349558,5.73973709207259,5.721545116786298,5.711312130687758,5.711312130687758,5.676065178570565,5.676065178570565,5.676065178570565,5.676065178570565,5.676065178570565,5.676065178570565,5.676065178570565,5.676065178570565,5.676065178570565,5.647640217185732,5.647640217185732,5.647640217185732,5.647640217185732,5.623763249622471,5.623763249622471,5.623763249622471,5.604434275880784,5.587379299049885,5.587379299049885,5.572598319129772,5.572598319129772,5.539625363923365,5.522570387092466,5.470268458144372,5.377034584802119,5.377034584802119,5.377034584802119,5.377034584802119,5.377034584802119,5.377034584802119,5.377034584802119,5.377034584802119,5.377034584802119,5.377034584802119,5.377034584802119,5.377034584802119,5.377034584802119,5.377034584802119,5.377034584802119,5.377034584802119,5.377034584802119,5.377034584802119,5.377034584802119,5.256512748530426,5.2235397933240195,5.2235397933240195,5.214443805680873,5.200799824216153,5.181470850474467,5.176922856652893,5.166689870554353,5.166689870554353,5.166689870554353,5.149634893723453,5.149634893723453,5.130305919981766,5.130305919981766,5.106428952418506,5.106428952418506,5.106428952418506,5.106428952418506,5.106428952418506,5.106428952418506,5.085962980221426,5.078003991033673,5.078003991033673,5.078003991033673,5.078003991033673,5.078003991033673,5.078003991033673,5.078003991033673,5.060949014202773,5.022291066719401,4.9984140991561405,4.9984140991561405,4.988181113057601,4.9711261362267,4.9711261362267,4.9711261362267,4.960893150128161,4.939290179475687,4.939290179475687,4.939290179475687,4.916550210367821,4.902906228903101,4.902906228903101,4.902906228903101,4.902906228903101,4.882440256706021,4.859700287598154,4.859700287598154,4.859700287598154,4.859700287598154,4.859700287598154,4.859700287598154,4.859700287598154,4.826727332391747,4.8085353571054545,4.8085353571054545,4.8085353571054545,4.8085353571054545,4.8085353571054545,4.8085353571054545,4.784658389542194,4.744863443603427,4.744863443603427,4.744863443603427,4.744863443603427,4.744863443603427,4.744863443603427,4.744863443603427,4.744863443603427,4.744863443603427,4.744863443603427,4.744863443603427,4.744863443603427,4.744863443603427,4.694835511566121,4.694835511566121,4.694835511566121,4.694835511566121,4.6834655270121885,4.666410550181288,4.666410550181288,4.666410550181288,4.666410550181288,4.635711591885668,4.635711591885668,4.635711591885668,4.635711591885668,4.635711591885668,4.635711591885668,4.626615604242522,4.565217687651282,4.565217687651282,4.565217687651282,4.565217687651282,4.565217687651282,4.565217687651282,4.515189755613976,4.515189755613976,4.515189755613976,4.502682772604649,4.502682772604649,4.479942803496782,4.479942803496782,4.479942803496782,4.460613829755095,4.460613829755095,4.429914871459476,4.429914871459476,4.39694191625307,4.3742019471452025,4.3742019471452025,4.343502988849583,4.343502988849583,4.343502988849583,4.343502988849583,4.343502988849583,4.3241740151078965,4.3241740151078965,4.24003612940879,4.24003612940879,4.24003612940879,4.24003612940879,4.24003612940879,4.24003612940879,4.24003612940879,4.170679223629797,4.170679223629797,4.1593092390758635,4.1593092390758635,4.1593092390758635,4.1593092390758635,4.15135024988811,4.141117263789571,4.141117263789571,4.141117263789571,4.141117263789571,4.141117263789571,4.141117263789571,4.1138293008601305,4.1138293008601305,4.1138293008601305,4.1138293008601305,4.1138293008601305,4.1138293008601305,4.1138293008601305,4.064938367278217,4.064938367278217,4.039924401259564,4.0240064228840575,4.0240064228840575,4.0240064228840575,4.0240064228840575,4.0240064228840575,4.0046774491423704,3.9557865155604572,3.9557865155604572,3.9148545711662983,3.9148545711662983,3.9148545711662983,3.9034845866123646,3.9034845866123646,3.9034845866123646,3.8943885989692184,3.8898406051476444,3.880744617504498,3.880744617504498,3.880744617504498,3.880744617504498,3.880744617504498,3.880744617504498,3.871648629861351,3.861415643762812,3.826168691645618,3.826168691645618,3.826168691645618,3.826168691645618,3.826168691645618,3.826168691645618,3.826168691645618,3.826168691645618,3.8045657209931454,3.7931957364392117,3.7852367472514583,3.7852367472514583,3.752263792045051,3.726112827571006,3.7192908368386455,3.7045098569185324,3.671536901712125,3.671536901712125,3.671536901712125,3.671536901712125,3.671536901712125,3.671536901712125,3.646522935693472,3.646522935693472,3.6283309604071796,3.6283309604071796,3.612412982031673,3.5908100113792,3.481658159661439,3.481658159661439,3.481658159661439,3.481658159661439,3.481658159661439,3.481658159661439,3.481658159661439,3.481658159661439,3.481658159661439,3.481658159661439,3.481658159661439,3.481658159661439,3.481658159661439,3.481658159661439,3.481658159661439,3.481658159661439,3.481658159661439,3.481658159661439,3.4134382523378406,3.3997942708731195,3.3793282986760405,3.3793282986760405,3.3793282986760405,3.3599993249343543,3.3599993249343543,3.3599993249343543,3.3599993249343543,3.346355343469633,3.346355343469633,3.346355343469633,3.3304373650941264,3.3304373650941264,3.3099713928970456,3.3099713928970456,3.3099713928970456,3.3099713928970456,3.3099713928970456,3.297464409887719,3.282683429967607,3.282683429967607,3.282683429967607,3.282683429967607,3.282683429967607,3.282683429967607,3.265628453136708,3.2258335071979403,3.2201485149209743,3.2201485149209743,3.2201485149209743,3.1905865550807464,3.1905865550807464,3.1905865550807464,3.1905865550807464,3.166709587517488,3.151928607597375,3.151928607597375,3.151928607597375,3.151928607597375,3.151928607597375,3.146243615320407,3.13714762767726,3.13714762767726,3.13714762767726,3.103037674015461,3.103037674015461,3.103037674015461,3.103037674015461,3.103037674015461,3.0791607064522015,3.0791607064522015,3.072338715719842,3.072338715719842,3.0609687311659073,3.0086668022178156,3.0086668022178156,3.0086668022178156,2.960912867091295,2.9404468948942135,2.9404468948942135,2.9404468948942135,2.9404468948942135,2.9404468948942135,2.9404468948942135,2.9404468948942135,2.9404468948942135,2.9404468948942135,2.9404468948942135,2.9404468948942135,2.9404468948942135,2.9404468948942135,2.8995149505000537,2.8892819644015155,2.8892819644015155,2.8756379829367944,2.8688159922044356,2.8506240169181414,2.8506240169181414,2.8506240169181414,2.8506240169181414,2.8506240169181414,2.836980035453422,2.8290210462656695,2.8290210462656695,2.8131030678901627,2.8131030678901627,2.792637095693081,2.792637095693081,2.792637095693081,2.752842149754315,2.742609163655775,2.7244171883694825,2.6846222424307147,2.6846222424307147,2.6846222424307147,2.6846222424307147,2.6584712779566697,2.6584712779566697,2.6584712779566697,2.6402793026703772,2.6402793026703772,2.6004843567316094,2.5345384463187965,2.5345384463187965,2.5345384463187965,2.5345384463187965,2.5345384463187965,2.5345384463187965,2.5345384463187965,2.5345384463187965,2.5345384463187965,2.5345384463187965,2.43675657915497,2.43675657915497,2.43675657915497,2.4208386007794633,2.4208386007794633,2.4208386007794633,2.3992356301269897,2.3992356301269897,2.3992356301269897,2.3992356301269897,2.3446597042681105,2.3446597042681105,2.3446597042681105,2.3162347428832764,2.3162347428832764,2.3162347428832764,2.3162347428832764,2.2912207768646233,2.2593848201136097,2.21845287571945,2.21845287571945,2.21845287571945,2.21845287571945,2.21845287571945,2.21845287571945,2.21845287571945,2.21845287571945,2.21845287571945,2.21845287571945,2.21845287571945,2.1797949282360776,2.1638769498605708,2.1638769498605708,2.1638769498605708,2.1638769498605708,2.1502329683958514,2.128629997743378,2.128629997743378,2.128629997743378,2.128629997743378,2.1115750209124773,2.0854240564384305,2.0854240564384305,2.0854240564384305,2.0854240564384305,2.0854240564384305,2.0854240564384305,2.0854240564384305,2.0854240564384305,2.0604100904197775,2.0604100904197775,2.0444921120442707,2.0444921120442707,1.9660392186221323,1.9660392186221323,1.9660392186221323,1.9660392186221323,1.9660392186221323,1.9660392186221323,1.9660392186221323,1.9660392186221323,1.9660392186221323,1.9660392186221323,1.9216962788617913,1.90691529894168,1.8921343190215651,1.8921343190215651,1.8784903375568458,1.858024365359766,1.858024365359766,1.858024365359766,1.858024365359766,1.858024365359766,1.8239144116979649,1.7977634472239181,1.7977634472239181,1.7977634472239181,1.7977634472239181,1.7977634472239181,1.7977634472239181,1.7863934626699862,1.7591054997405475,1.7591054997405475,1.7591054997405475,1.7591054997405475,1.7591054997405475,1.7386395275434658,1.732954535266499,1.722721549167959,1.722721549167959,1.722721549167959,1.6988445816046998,1.6988445816046998,1.6692826217644736,1.6692826217644736,1.652227644933573,1.6408576603796394,1.587418732976154,1.587418732976154,1.587418732976154,1.587418732976154,1.587418732976154,1.587418732976154,1.587418732976154,1.587418732976154,1.587418732976154,1.587418732976154,1.587418732976154,1.587418732976154,1.587418732976154,1.5589937715913198,1.5362538024834524,1.4873628689015401,1.4873628689015401,1.4873628689015401,1.4873628689015401,1.468033895159854,1.4566639106059203,1.4521159167843471,1.4407459322304135,1.4407459322304135,1.4407459322304135,1.397539990925468,1.397539990925468,1.397539990925468,1.397539990925468,1.397539990925468,1.397539990925468,1.3759370202729944,1.3759370202729944,1.3759370202729944,1.3497860557989476,1.316813100592542,1.316813100592542,1.316813100592542,1.316813100592542,1.316813100592542,1.278155153109168,1.2599631778228755,1.2599631778228755,1.242908200991975,1.242908200991975,1.242908200991975,1.242908200991975,1.242908200991975,1.242908200991975,1.228127221071862,1.188332275133094,1.1746882936683747,1.1746882936683747,1.1746882936683747,1.1587703152928697,1.148537329194328,1.113290377077135,1.113290377077135,1.058714451218254,1.0564404543074684,1.0564404543074684,1.0564404543074684,1.0291524913780297,1.0189195052794897,1.0041385253593766,1.0041385253593766,1.0041385253593766,0.9791245593407218,0.9552475917774625,0.9552475917774625,0.9552475917774625,0.9552475917774625,0.9552475917774625,0.9552475917774625,0.9552475917774625,0.9552475917774625,0.9552475917774625,0.9552475917774625,0.9552475917774625,0.9552475917774625,0.9552475917774625,0.9552475917774625,0.9552475917774625,0.9404666118573495,0.9097676535617278,0.8893016813646497,0.8893016813646497,0.8893016813646497,0.8767946983553223,0.8290407632288019,0.8290407632288019,0.8290407632288019,0.8290407632288019,0.8290407632288019,0.8290407632288019,0.7744648373699228,0.7744648373699228,0.7744648373699228,0.7744648373699228,0.758546858994416,0.7494508713512698,0.7255739037880105,0.7255739037880105,0.7028339346801431,0.6948749454923888,0.6948749454923888,0.6812309640276695,0.6812309640276695,0.6812309640276695,0.6812309640276695,0.6664499841075564,0.6664499841075564,0.6550799995536227,0.6528060026428371,0.6391620211781159,0.6391620211781159,0.6391620211781159,0.6232440428026091,0.6198330474364298,0.6141480551594629,0.6141480551594629,0.6016410721501373,0.6016410721501373,0.6016410721501373,0.5891340891408099,0.5891340891408099,0.5891340891408099,0.5834490968638448,0.5663941200329443,0.5663941200329443,0.5663941200329443,0.5663941200329443,0.5663941200329443,0.5663941200329443,0.5447911493804707,0.5345581632819307,0.5345581632819307,0.5345581632819307,0.49021522352158975,0.4765712420568722,0.4765712420568722,0.45042027758282366,0.40266634245630506,0.38106337180383143,0.38106337180383143,0.37424138107147087,0.3605973996067515,0.3480904165974241,0.3242134490341648,0.3242134490341648,0.3242134490341648,0.3242134490341648,0.3242134490341648,0.3242134490341648,0.3242134490341648,0.3242134490341648,0.3242134490341648,0.3242134490341648,0.3242134490341648,0.3242134490341648,0.3242134490341648,0.3242134490341648,0.3242134490341648,0.3071584722032643,0.3071584722032643,0.29010349537236557,0.29010349537236557,0.29010349537236557,0.29010349537236557,0.29010349537236557,0.29010349537236557,0.29010349537236557,0.29010349537236557,0.2753225154522507,0.2696375231752839,0.26054153553213766,0.26054153553213766,0.26054153553213766,0.26054153553213766,0.26054153553213766,0.26054153553213766,0.26054153553213766,0.2514455478889914,0.23325357260269897,0.23325357260269897,0.23325357260269897,0.23325357260269897,0.23325357260269897,0.23325357260269897,0.23325357260269897,0.23325357260269897,0.22074658959337157,0.2093766050394379,0.2093766050394379,0.18663663593157054,0.18663663593157054,0.18663663593157054,0.18663663593157054,0.1661706637344924,0.14684168999280445,0.13547170543887255,0.1331977085280851,0.12978671316190393,0.12978671316190393,0.12978671316190393,0.11841672860797203,0.1127317363310052,0.1127317363310052,0.1127317363310052,0.09795075641089213,0.09795075641089213,0.09795075641089213,0.09112876567853334,0.08430677494617278,0.07066279348145166,0.07066279348145166,0.0649778012044866,0.05929280892751976,0.05929280892751976,0.04678582591819236,0.01722386607796622,0.01722386607796622,0.013812870711785052,0.009264876890213714,-0.0009681092083262399,-0.0009681092083262399,-0.008927098396080524,-0.008927098396080524,-0.01688608758383303,-0.04985904279024034,-0.12490094084620118,-0.12490094084620118,-0.14422991458788736,-0.21244982191148587,-0.3079576921645266,-0.3079576921645266,-0.3079576921645266,-0.3079576921645266,-0.3079576921645266,-0.3079576921645266,-0.3079576921645266,-0.3079576921645266,-0.3079576921645266,-0.3079576921645266,-0.3079576921645266,-0.3079576921645266,-0.3079576921645266,-0.3079576921645266,-0.3079576921645266,-0.3079576921645266,-0.3079576921645266,-0.3079576921645266,-0.3079576921645266,-0.3079576921645266,-0.3079576921645266,-0.3079576921645266,-0.3079576921645266,-0.3079576921645266,-0.3079576921645266,-0.3079576921645266,-0.3079576921645266,-0.3079576921645266,-0.3079576921645266,-0.3079576921645266,-0.3079576921645266,-0.3079576921645266,-0.3079576921645266,-0.3079576921645266,-0.3079576921645266,-0.3079576921645266,-0.3079576921645266,-0.3079576921645266,-0.3079576921645266,-0.3079576921645266,-0.3079576921645266,-0.3079576921645266,-0.3079576921645266,-0.3079576921645266,-0.3079576921645266,-0.3079576921645266,-0.3079576921645266,-0.3079576921645266,-0.3079576921645266],\"yaxis\":\"y\",\"type\":\"scatter\"}],                        {\"template\":{\"data\":{\"histogram2dcontour\":[{\"type\":\"histogram2dcontour\",\"colorbar\":{\"outlinewidth\":0,\"ticks\":\"\"},\"colorscale\":[[0.0,\"#0d0887\"],[0.1111111111111111,\"#46039f\"],[0.2222222222222222,\"#7201a8\"],[0.3333333333333333,\"#9c179e\"],[0.4444444444444444,\"#bd3786\"],[0.5555555555555556,\"#d8576b\"],[0.6666666666666666,\"#ed7953\"],[0.7777777777777778,\"#fb9f3a\"],[0.8888888888888888,\"#fdca26\"],[1.0,\"#f0f921\"]]}],\"choropleth\":[{\"type\":\"choropleth\",\"colorbar\":{\"outlinewidth\":0,\"ticks\":\"\"}}],\"histogram2d\":[{\"type\":\"histogram2d\",\"colorbar\":{\"outlinewidth\":0,\"ticks\":\"\"},\"colorscale\":[[0.0,\"#0d0887\"],[0.1111111111111111,\"#46039f\"],[0.2222222222222222,\"#7201a8\"],[0.3333333333333333,\"#9c179e\"],[0.4444444444444444,\"#bd3786\"],[0.5555555555555556,\"#d8576b\"],[0.6666666666666666,\"#ed7953\"],[0.7777777777777778,\"#fb9f3a\"],[0.8888888888888888,\"#fdca26\"],[1.0,\"#f0f921\"]]}],\"heatmap\":[{\"type\":\"heatmap\",\"colorbar\":{\"outlinewidth\":0,\"ticks\":\"\"},\"colorscale\":[[0.0,\"#0d0887\"],[0.1111111111111111,\"#46039f\"],[0.2222222222222222,\"#7201a8\"],[0.3333333333333333,\"#9c179e\"],[0.4444444444444444,\"#bd3786\"],[0.5555555555555556,\"#d8576b\"],[0.6666666666666666,\"#ed7953\"],[0.7777777777777778,\"#fb9f3a\"],[0.8888888888888888,\"#fdca26\"],[1.0,\"#f0f921\"]]}],\"heatmapgl\":[{\"type\":\"heatmapgl\",\"colorbar\":{\"outlinewidth\":0,\"ticks\":\"\"},\"colorscale\":[[0.0,\"#0d0887\"],[0.1111111111111111,\"#46039f\"],[0.2222222222222222,\"#7201a8\"],[0.3333333333333333,\"#9c179e\"],[0.4444444444444444,\"#bd3786\"],[0.5555555555555556,\"#d8576b\"],[0.6666666666666666,\"#ed7953\"],[0.7777777777777778,\"#fb9f3a\"],[0.8888888888888888,\"#fdca26\"],[1.0,\"#f0f921\"]]}],\"contourcarpet\":[{\"type\":\"contourcarpet\",\"colorbar\":{\"outlinewidth\":0,\"ticks\":\"\"}}],\"contour\":[{\"type\":\"contour\",\"colorbar\":{\"outlinewidth\":0,\"ticks\":\"\"},\"colorscale\":[[0.0,\"#0d0887\"],[0.1111111111111111,\"#46039f\"],[0.2222222222222222,\"#7201a8\"],[0.3333333333333333,\"#9c179e\"],[0.4444444444444444,\"#bd3786\"],[0.5555555555555556,\"#d8576b\"],[0.6666666666666666,\"#ed7953\"],[0.7777777777777778,\"#fb9f3a\"],[0.8888888888888888,\"#fdca26\"],[1.0,\"#f0f921\"]]}],\"surface\":[{\"type\":\"surface\",\"colorbar\":{\"outlinewidth\":0,\"ticks\":\"\"},\"colorscale\":[[0.0,\"#0d0887\"],[0.1111111111111111,\"#46039f\"],[0.2222222222222222,\"#7201a8\"],[0.3333333333333333,\"#9c179e\"],[0.4444444444444444,\"#bd3786\"],[0.5555555555555556,\"#d8576b\"],[0.6666666666666666,\"#ed7953\"],[0.7777777777777778,\"#fb9f3a\"],[0.8888888888888888,\"#fdca26\"],[1.0,\"#f0f921\"]]}],\"mesh3d\":[{\"type\":\"mesh3d\",\"colorbar\":{\"outlinewidth\":0,\"ticks\":\"\"}}],\"scatter\":[{\"fillpattern\":{\"fillmode\":\"overlay\",\"size\":10,\"solidity\":0.2},\"type\":\"scatter\"}],\"parcoords\":[{\"type\":\"parcoords\",\"line\":{\"colorbar\":{\"outlinewidth\":0,\"ticks\":\"\"}}}],\"scatterpolargl\":[{\"type\":\"scatterpolargl\",\"marker\":{\"colorbar\":{\"outlinewidth\":0,\"ticks\":\"\"}}}],\"bar\":[{\"error_x\":{\"color\":\"#2a3f5f\"},\"error_y\":{\"color\":\"#2a3f5f\"},\"marker\":{\"line\":{\"color\":\"white\",\"width\":0.5},\"pattern\":{\"fillmode\":\"overlay\",\"size\":10,\"solidity\":0.2}},\"type\":\"bar\"}],\"scattergeo\":[{\"type\":\"scattergeo\",\"marker\":{\"colorbar\":{\"outlinewidth\":0,\"ticks\":\"\"}}}],\"scatterpolar\":[{\"type\":\"scatterpolar\",\"marker\":{\"colorbar\":{\"outlinewidth\":0,\"ticks\":\"\"}}}],\"histogram\":[{\"marker\":{\"pattern\":{\"fillmode\":\"overlay\",\"size\":10,\"solidity\":0.2}},\"type\":\"histogram\"}],\"scattergl\":[{\"type\":\"scattergl\",\"marker\":{\"colorbar\":{\"outlinewidth\":0,\"ticks\":\"\"}}}],\"scatter3d\":[{\"type\":\"scatter3d\",\"line\":{\"colorbar\":{\"outlinewidth\":0,\"ticks\":\"\"}},\"marker\":{\"colorbar\":{\"outlinewidth\":0,\"ticks\":\"\"}}}],\"scattermapbox\":[{\"type\":\"scattermapbox\",\"marker\":{\"colorbar\":{\"outlinewidth\":0,\"ticks\":\"\"}}}],\"scatterternary\":[{\"type\":\"scatterternary\",\"marker\":{\"colorbar\":{\"outlinewidth\":0,\"ticks\":\"\"}}}],\"scattercarpet\":[{\"type\":\"scattercarpet\",\"marker\":{\"colorbar\":{\"outlinewidth\":0,\"ticks\":\"\"}}}],\"carpet\":[{\"aaxis\":{\"endlinecolor\":\"#2a3f5f\",\"gridcolor\":\"#C8D4E3\",\"linecolor\":\"#C8D4E3\",\"minorgridcolor\":\"#C8D4E3\",\"startlinecolor\":\"#2a3f5f\"},\"baxis\":{\"endlinecolor\":\"#2a3f5f\",\"gridcolor\":\"#C8D4E3\",\"linecolor\":\"#C8D4E3\",\"minorgridcolor\":\"#C8D4E3\",\"startlinecolor\":\"#2a3f5f\"},\"type\":\"carpet\"}],\"table\":[{\"cells\":{\"fill\":{\"color\":\"#EBF0F8\"},\"line\":{\"color\":\"white\"}},\"header\":{\"fill\":{\"color\":\"#C8D4E3\"},\"line\":{\"color\":\"white\"}},\"type\":\"table\"}],\"barpolar\":[{\"marker\":{\"line\":{\"color\":\"white\",\"width\":0.5},\"pattern\":{\"fillmode\":\"overlay\",\"size\":10,\"solidity\":0.2}},\"type\":\"barpolar\"}],\"pie\":[{\"automargin\":true,\"type\":\"pie\"}]},\"layout\":{\"autotypenumbers\":\"strict\",\"colorway\":[\"#636efa\",\"#EF553B\",\"#00cc96\",\"#ab63fa\",\"#FFA15A\",\"#19d3f3\",\"#FF6692\",\"#B6E880\",\"#FF97FF\",\"#FECB52\"],\"font\":{\"color\":\"#2a3f5f\"},\"hovermode\":\"closest\",\"hoverlabel\":{\"align\":\"left\"},\"paper_bgcolor\":\"white\",\"plot_bgcolor\":\"white\",\"polar\":{\"bgcolor\":\"white\",\"angularaxis\":{\"gridcolor\":\"#EBF0F8\",\"linecolor\":\"#EBF0F8\",\"ticks\":\"\"},\"radialaxis\":{\"gridcolor\":\"#EBF0F8\",\"linecolor\":\"#EBF0F8\",\"ticks\":\"\"}},\"ternary\":{\"bgcolor\":\"white\",\"aaxis\":{\"gridcolor\":\"#DFE8F3\",\"linecolor\":\"#A2B1C6\",\"ticks\":\"\"},\"baxis\":{\"gridcolor\":\"#DFE8F3\",\"linecolor\":\"#A2B1C6\",\"ticks\":\"\"},\"caxis\":{\"gridcolor\":\"#DFE8F3\",\"linecolor\":\"#A2B1C6\",\"ticks\":\"\"}},\"coloraxis\":{\"colorbar\":{\"outlinewidth\":0,\"ticks\":\"\"}},\"colorscale\":{\"sequential\":[[0.0,\"#0d0887\"],[0.1111111111111111,\"#46039f\"],[0.2222222222222222,\"#7201a8\"],[0.3333333333333333,\"#9c179e\"],[0.4444444444444444,\"#bd3786\"],[0.5555555555555556,\"#d8576b\"],[0.6666666666666666,\"#ed7953\"],[0.7777777777777778,\"#fb9f3a\"],[0.8888888888888888,\"#fdca26\"],[1.0,\"#f0f921\"]],\"sequentialminus\":[[0.0,\"#0d0887\"],[0.1111111111111111,\"#46039f\"],[0.2222222222222222,\"#7201a8\"],[0.3333333333333333,\"#9c179e\"],[0.4444444444444444,\"#bd3786\"],[0.5555555555555556,\"#d8576b\"],[0.6666666666666666,\"#ed7953\"],[0.7777777777777778,\"#fb9f3a\"],[0.8888888888888888,\"#fdca26\"],[1.0,\"#f0f921\"]],\"diverging\":[[0,\"#8e0152\"],[0.1,\"#c51b7d\"],[0.2,\"#de77ae\"],[0.3,\"#f1b6da\"],[0.4,\"#fde0ef\"],[0.5,\"#f7f7f7\"],[0.6,\"#e6f5d0\"],[0.7,\"#b8e186\"],[0.8,\"#7fbc41\"],[0.9,\"#4d9221\"],[1,\"#276419\"]]},\"xaxis\":{\"gridcolor\":\"#EBF0F8\",\"linecolor\":\"#EBF0F8\",\"ticks\":\"\",\"title\":{\"standoff\":15},\"zerolinecolor\":\"#EBF0F8\",\"automargin\":true,\"zerolinewidth\":2},\"yaxis\":{\"gridcolor\":\"#EBF0F8\",\"linecolor\":\"#EBF0F8\",\"ticks\":\"\",\"title\":{\"standoff\":15},\"zerolinecolor\":\"#EBF0F8\",\"automargin\":true,\"zerolinewidth\":2},\"scene\":{\"xaxis\":{\"backgroundcolor\":\"white\",\"gridcolor\":\"#DFE8F3\",\"linecolor\":\"#EBF0F8\",\"showbackground\":true,\"ticks\":\"\",\"zerolinecolor\":\"#EBF0F8\",\"gridwidth\":2},\"yaxis\":{\"backgroundcolor\":\"white\",\"gridcolor\":\"#DFE8F3\",\"linecolor\":\"#EBF0F8\",\"showbackground\":true,\"ticks\":\"\",\"zerolinecolor\":\"#EBF0F8\",\"gridwidth\":2},\"zaxis\":{\"backgroundcolor\":\"white\",\"gridcolor\":\"#DFE8F3\",\"linecolor\":\"#EBF0F8\",\"showbackground\":true,\"ticks\":\"\",\"zerolinecolor\":\"#EBF0F8\",\"gridwidth\":2}},\"shapedefaults\":{\"line\":{\"color\":\"#2a3f5f\"}},\"annotationdefaults\":{\"arrowcolor\":\"#2a3f5f\",\"arrowhead\":0,\"arrowwidth\":1},\"geo\":{\"bgcolor\":\"white\",\"landcolor\":\"white\",\"subunitcolor\":\"#C8D4E3\",\"showland\":true,\"showlakes\":true,\"lakecolor\":\"white\"},\"title\":{\"x\":0.05},\"mapbox\":{\"style\":\"light\"}}},\"xaxis\":{\"anchor\":\"y\",\"domain\":[0.0,1.0],\"title\":{\"text\":\"Bounce Rate\"}},\"yaxis\":{\"anchor\":\"x\",\"domain\":[0.0,1.0],\"title\":{\"text\":\"Avg. Session Duration\"}},\"legend\":{\"tracegroupgap\":0},\"title\":{\"text\":\"Relationship between Bounce Rate and Avg. Session Duration\"}},                        {\"responsive\": true}                    ).then(function(){\n",
       "                            \n",
       "var gd = document.getElementById('4ace9017-7778-4b8b-bf3f-8c28b1255d88');\n",
       "var x = new MutationObserver(function (mutations, observer) {{\n",
       "        var display = window.getComputedStyle(gd).display;\n",
       "        if (!display || display === 'none') {{\n",
       "            console.log([gd, 'removed!']);\n",
       "            Plotly.purge(gd);\n",
       "            observer.disconnect();\n",
       "        }}\n",
       "}});\n",
       "\n",
       "// Listen for the removal of the full notebook cells\n",
       "var notebookContainer = gd.closest('#notebook-container');\n",
       "if (notebookContainer) {{\n",
       "    x.observe(notebookContainer, {childList: true});\n",
       "}}\n",
       "\n",
       "// Listen for the clearing of the current output cell\n",
       "var outputEl = gd.closest('.output');\n",
       "if (outputEl) {{\n",
       "    x.observe(outputEl, {childList: true});\n",
       "}}\n",
       "\n",
       "                        })                };                });            </script>        </div>"
      ]
     },
     "metadata": {},
     "output_type": "display_data"
    }
   ],
   "source": [
    "scatterFig = px.scatter(data, x='Bounce Rate', y='Avg. Session Duration',\n",
    "                         title='Relationship between Bounce Rate and Avg. Session Duration', trendline='ols')\n",
    "\n",
    "scatterFig.update_layout(\n",
    "    xaxis=dict(title='Bounce Rate'),\n",
    "    yaxis=dict(title='Avg. Session Duration')\n",
    ")\n",
    "\n",
    "scatterFig.show()"
   ]
  },
  {
   "cell_type": "code",
   "execution_count": 42,
   "id": "92669648",
   "metadata": {},
   "outputs": [
    {
     "name": "stdout",
     "output_type": "stream",
     "text": [
      "        Client ID  Sessions  Avg. Session Duration  Bounce Rate  \\\n",
      "0    5.778476e+08       367               1.583333        87.19   \n",
      "1    1.583822e+09       260               1.066667        29.62   \n",
      "2    1.030699e+09       237               0.033333        99.16   \n",
      "3    1.025030e+09       226               2.366667        25.66   \n",
      "4    1.469968e+09       216               1.383333        46.76   \n",
      "..            ...       ...                    ...          ...   \n",
      "994  1.049263e+09        17               7.733333        41.18   \n",
      "995  1.145806e+09        17               5.616667        47.06   \n",
      "996  1.153811e+09        17               0.200000        94.12   \n",
      "997  1.182133e+09        17               1.216667        88.24   \n",
      "998  1.184187e+09        17               2.566667        64.71   \n",
      "\n",
      "    Bounce Rate Segment  Total Session Duration Retention Segment  \n",
      "0                  High              581.083333    Frequent Users  \n",
      "1                   Low              277.333333    Frequent Users  \n",
      "2                  High                7.900000    Frequent Users  \n",
      "3                   Low              534.866667    Frequent Users  \n",
      "4                Medium              298.800000    Frequent Users  \n",
      "..                  ...                     ...               ...  \n",
      "994              Medium              131.466667  Occasional Users  \n",
      "995              Medium               95.483333  Occasional Users  \n",
      "996                High                3.400000  Occasional Users  \n",
      "997                High               20.683333  Occasional Users  \n",
      "998              Medium               43.633333  Occasional Users  \n",
      "\n",
      "[999 rows x 7 columns]\n"
     ]
    }
   ],
   "source": [
    "def getRetentionSegment(row):\n",
    "    if row['Sessions'] >= 32:\n",
    "        return 'Frequent Users'\n",
    "    else:\n",
    "        return 'Occasional Users'\n",
    "\n",
    "data['Retention Segment'] = data.apply(getRetentionSegment, axis=1)\n",
    "print(data)"
   ]
  },
  {
   "cell_type": "code",
   "execution_count": 53,
   "id": "bc162e5e",
   "metadata": {},
   "outputs": [
    {
     "data": {
      "application/vnd.plotly.v1+json": {
       "config": {
        "plotlyServerURL": "https://plot.ly"
       },
       "data": [
        {
         "alignmentgroup": "True",
         "hovertemplate": "Retention Segment=%{x}<br>Average Bounce Rate=%{y}<extra></extra>",
         "legendgroup": "",
         "marker": {
          "color": "#636efa",
          "pattern": {
           "shape": ""
          }
         },
         "name": "",
         "offsetgroup": "",
         "orientation": "v",
         "showlegend": false,
         "textposition": "auto",
         "texttemplate": "%{y}",
         "type": "bar",
         "x": [
          "Frequent Users",
          "Occasional Users"
         ],
         "xaxis": "x",
         "y": [
          64.45053872053873,
          65.67074074074074
         ],
         "yaxis": "y"
        }
       ],
       "layout": {
        "barmode": "relative",
        "legend": {
         "tracegroupgap": 0
        },
        "template": {
         "data": {
          "bar": [
           {
            "error_x": {
             "color": "#2a3f5f"
            },
            "error_y": {
             "color": "#2a3f5f"
            },
            "marker": {
             "line": {
              "color": "white",
              "width": 0.5
             },
             "pattern": {
              "fillmode": "overlay",
              "size": 10,
              "solidity": 0.2
             }
            },
            "type": "bar"
           }
          ],
          "barpolar": [
           {
            "marker": {
             "line": {
              "color": "white",
              "width": 0.5
             },
             "pattern": {
              "fillmode": "overlay",
              "size": 10,
              "solidity": 0.2
             }
            },
            "type": "barpolar"
           }
          ],
          "carpet": [
           {
            "aaxis": {
             "endlinecolor": "#2a3f5f",
             "gridcolor": "#C8D4E3",
             "linecolor": "#C8D4E3",
             "minorgridcolor": "#C8D4E3",
             "startlinecolor": "#2a3f5f"
            },
            "baxis": {
             "endlinecolor": "#2a3f5f",
             "gridcolor": "#C8D4E3",
             "linecolor": "#C8D4E3",
             "minorgridcolor": "#C8D4E3",
             "startlinecolor": "#2a3f5f"
            },
            "type": "carpet"
           }
          ],
          "choropleth": [
           {
            "colorbar": {
             "outlinewidth": 0,
             "ticks": ""
            },
            "type": "choropleth"
           }
          ],
          "contour": [
           {
            "colorbar": {
             "outlinewidth": 0,
             "ticks": ""
            },
            "colorscale": [
             [
              0,
              "#0d0887"
             ],
             [
              0.1111111111111111,
              "#46039f"
             ],
             [
              0.2222222222222222,
              "#7201a8"
             ],
             [
              0.3333333333333333,
              "#9c179e"
             ],
             [
              0.4444444444444444,
              "#bd3786"
             ],
             [
              0.5555555555555556,
              "#d8576b"
             ],
             [
              0.6666666666666666,
              "#ed7953"
             ],
             [
              0.7777777777777778,
              "#fb9f3a"
             ],
             [
              0.8888888888888888,
              "#fdca26"
             ],
             [
              1,
              "#f0f921"
             ]
            ],
            "type": "contour"
           }
          ],
          "contourcarpet": [
           {
            "colorbar": {
             "outlinewidth": 0,
             "ticks": ""
            },
            "type": "contourcarpet"
           }
          ],
          "heatmap": [
           {
            "colorbar": {
             "outlinewidth": 0,
             "ticks": ""
            },
            "colorscale": [
             [
              0,
              "#0d0887"
             ],
             [
              0.1111111111111111,
              "#46039f"
             ],
             [
              0.2222222222222222,
              "#7201a8"
             ],
             [
              0.3333333333333333,
              "#9c179e"
             ],
             [
              0.4444444444444444,
              "#bd3786"
             ],
             [
              0.5555555555555556,
              "#d8576b"
             ],
             [
              0.6666666666666666,
              "#ed7953"
             ],
             [
              0.7777777777777778,
              "#fb9f3a"
             ],
             [
              0.8888888888888888,
              "#fdca26"
             ],
             [
              1,
              "#f0f921"
             ]
            ],
            "type": "heatmap"
           }
          ],
          "heatmapgl": [
           {
            "colorbar": {
             "outlinewidth": 0,
             "ticks": ""
            },
            "colorscale": [
             [
              0,
              "#0d0887"
             ],
             [
              0.1111111111111111,
              "#46039f"
             ],
             [
              0.2222222222222222,
              "#7201a8"
             ],
             [
              0.3333333333333333,
              "#9c179e"
             ],
             [
              0.4444444444444444,
              "#bd3786"
             ],
             [
              0.5555555555555556,
              "#d8576b"
             ],
             [
              0.6666666666666666,
              "#ed7953"
             ],
             [
              0.7777777777777778,
              "#fb9f3a"
             ],
             [
              0.8888888888888888,
              "#fdca26"
             ],
             [
              1,
              "#f0f921"
             ]
            ],
            "type": "heatmapgl"
           }
          ],
          "histogram": [
           {
            "marker": {
             "pattern": {
              "fillmode": "overlay",
              "size": 10,
              "solidity": 0.2
             }
            },
            "type": "histogram"
           }
          ],
          "histogram2d": [
           {
            "colorbar": {
             "outlinewidth": 0,
             "ticks": ""
            },
            "colorscale": [
             [
              0,
              "#0d0887"
             ],
             [
              0.1111111111111111,
              "#46039f"
             ],
             [
              0.2222222222222222,
              "#7201a8"
             ],
             [
              0.3333333333333333,
              "#9c179e"
             ],
             [
              0.4444444444444444,
              "#bd3786"
             ],
             [
              0.5555555555555556,
              "#d8576b"
             ],
             [
              0.6666666666666666,
              "#ed7953"
             ],
             [
              0.7777777777777778,
              "#fb9f3a"
             ],
             [
              0.8888888888888888,
              "#fdca26"
             ],
             [
              1,
              "#f0f921"
             ]
            ],
            "type": "histogram2d"
           }
          ],
          "histogram2dcontour": [
           {
            "colorbar": {
             "outlinewidth": 0,
             "ticks": ""
            },
            "colorscale": [
             [
              0,
              "#0d0887"
             ],
             [
              0.1111111111111111,
              "#46039f"
             ],
             [
              0.2222222222222222,
              "#7201a8"
             ],
             [
              0.3333333333333333,
              "#9c179e"
             ],
             [
              0.4444444444444444,
              "#bd3786"
             ],
             [
              0.5555555555555556,
              "#d8576b"
             ],
             [
              0.6666666666666666,
              "#ed7953"
             ],
             [
              0.7777777777777778,
              "#fb9f3a"
             ],
             [
              0.8888888888888888,
              "#fdca26"
             ],
             [
              1,
              "#f0f921"
             ]
            ],
            "type": "histogram2dcontour"
           }
          ],
          "mesh3d": [
           {
            "colorbar": {
             "outlinewidth": 0,
             "ticks": ""
            },
            "type": "mesh3d"
           }
          ],
          "parcoords": [
           {
            "line": {
             "colorbar": {
              "outlinewidth": 0,
              "ticks": ""
             }
            },
            "type": "parcoords"
           }
          ],
          "pie": [
           {
            "automargin": true,
            "type": "pie"
           }
          ],
          "scatter": [
           {
            "fillpattern": {
             "fillmode": "overlay",
             "size": 10,
             "solidity": 0.2
            },
            "type": "scatter"
           }
          ],
          "scatter3d": [
           {
            "line": {
             "colorbar": {
              "outlinewidth": 0,
              "ticks": ""
             }
            },
            "marker": {
             "colorbar": {
              "outlinewidth": 0,
              "ticks": ""
             }
            },
            "type": "scatter3d"
           }
          ],
          "scattercarpet": [
           {
            "marker": {
             "colorbar": {
              "outlinewidth": 0,
              "ticks": ""
             }
            },
            "type": "scattercarpet"
           }
          ],
          "scattergeo": [
           {
            "marker": {
             "colorbar": {
              "outlinewidth": 0,
              "ticks": ""
             }
            },
            "type": "scattergeo"
           }
          ],
          "scattergl": [
           {
            "marker": {
             "colorbar": {
              "outlinewidth": 0,
              "ticks": ""
             }
            },
            "type": "scattergl"
           }
          ],
          "scattermapbox": [
           {
            "marker": {
             "colorbar": {
              "outlinewidth": 0,
              "ticks": ""
             }
            },
            "type": "scattermapbox"
           }
          ],
          "scatterpolar": [
           {
            "marker": {
             "colorbar": {
              "outlinewidth": 0,
              "ticks": ""
             }
            },
            "type": "scatterpolar"
           }
          ],
          "scatterpolargl": [
           {
            "marker": {
             "colorbar": {
              "outlinewidth": 0,
              "ticks": ""
             }
            },
            "type": "scatterpolargl"
           }
          ],
          "scatterternary": [
           {
            "marker": {
             "colorbar": {
              "outlinewidth": 0,
              "ticks": ""
             }
            },
            "type": "scatterternary"
           }
          ],
          "surface": [
           {
            "colorbar": {
             "outlinewidth": 0,
             "ticks": ""
            },
            "colorscale": [
             [
              0,
              "#0d0887"
             ],
             [
              0.1111111111111111,
              "#46039f"
             ],
             [
              0.2222222222222222,
              "#7201a8"
             ],
             [
              0.3333333333333333,
              "#9c179e"
             ],
             [
              0.4444444444444444,
              "#bd3786"
             ],
             [
              0.5555555555555556,
              "#d8576b"
             ],
             [
              0.6666666666666666,
              "#ed7953"
             ],
             [
              0.7777777777777778,
              "#fb9f3a"
             ],
             [
              0.8888888888888888,
              "#fdca26"
             ],
             [
              1,
              "#f0f921"
             ]
            ],
            "type": "surface"
           }
          ],
          "table": [
           {
            "cells": {
             "fill": {
              "color": "#EBF0F8"
             },
             "line": {
              "color": "white"
             }
            },
            "header": {
             "fill": {
              "color": "#C8D4E3"
             },
             "line": {
              "color": "white"
             }
            },
            "type": "table"
           }
          ]
         },
         "layout": {
          "annotationdefaults": {
           "arrowcolor": "#2a3f5f",
           "arrowhead": 0,
           "arrowwidth": 1
          },
          "autotypenumbers": "strict",
          "coloraxis": {
           "colorbar": {
            "outlinewidth": 0,
            "ticks": ""
           }
          },
          "colorscale": {
           "diverging": [
            [
             0,
             "#8e0152"
            ],
            [
             0.1,
             "#c51b7d"
            ],
            [
             0.2,
             "#de77ae"
            ],
            [
             0.3,
             "#f1b6da"
            ],
            [
             0.4,
             "#fde0ef"
            ],
            [
             0.5,
             "#f7f7f7"
            ],
            [
             0.6,
             "#e6f5d0"
            ],
            [
             0.7,
             "#b8e186"
            ],
            [
             0.8,
             "#7fbc41"
            ],
            [
             0.9,
             "#4d9221"
            ],
            [
             1,
             "#276419"
            ]
           ],
           "sequential": [
            [
             0,
             "#0d0887"
            ],
            [
             0.1111111111111111,
             "#46039f"
            ],
            [
             0.2222222222222222,
             "#7201a8"
            ],
            [
             0.3333333333333333,
             "#9c179e"
            ],
            [
             0.4444444444444444,
             "#bd3786"
            ],
            [
             0.5555555555555556,
             "#d8576b"
            ],
            [
             0.6666666666666666,
             "#ed7953"
            ],
            [
             0.7777777777777778,
             "#fb9f3a"
            ],
            [
             0.8888888888888888,
             "#fdca26"
            ],
            [
             1,
             "#f0f921"
            ]
           ],
           "sequentialminus": [
            [
             0,
             "#0d0887"
            ],
            [
             0.1111111111111111,
             "#46039f"
            ],
            [
             0.2222222222222222,
             "#7201a8"
            ],
            [
             0.3333333333333333,
             "#9c179e"
            ],
            [
             0.4444444444444444,
             "#bd3786"
            ],
            [
             0.5555555555555556,
             "#d8576b"
            ],
            [
             0.6666666666666666,
             "#ed7953"
            ],
            [
             0.7777777777777778,
             "#fb9f3a"
            ],
            [
             0.8888888888888888,
             "#fdca26"
            ],
            [
             1,
             "#f0f921"
            ]
           ]
          },
          "colorway": [
           "#636efa",
           "#EF553B",
           "#00cc96",
           "#ab63fa",
           "#FFA15A",
           "#19d3f3",
           "#FF6692",
           "#B6E880",
           "#FF97FF",
           "#FECB52"
          ],
          "font": {
           "color": "#2a3f5f"
          },
          "geo": {
           "bgcolor": "white",
           "lakecolor": "white",
           "landcolor": "white",
           "showlakes": true,
           "showland": true,
           "subunitcolor": "#C8D4E3"
          },
          "hoverlabel": {
           "align": "left"
          },
          "hovermode": "closest",
          "mapbox": {
           "style": "light"
          },
          "paper_bgcolor": "white",
          "plot_bgcolor": "white",
          "polar": {
           "angularaxis": {
            "gridcolor": "#EBF0F8",
            "linecolor": "#EBF0F8",
            "ticks": ""
           },
           "bgcolor": "white",
           "radialaxis": {
            "gridcolor": "#EBF0F8",
            "linecolor": "#EBF0F8",
            "ticks": ""
           }
          },
          "scene": {
           "xaxis": {
            "backgroundcolor": "white",
            "gridcolor": "#DFE8F3",
            "gridwidth": 2,
            "linecolor": "#EBF0F8",
            "showbackground": true,
            "ticks": "",
            "zerolinecolor": "#EBF0F8"
           },
           "yaxis": {
            "backgroundcolor": "white",
            "gridcolor": "#DFE8F3",
            "gridwidth": 2,
            "linecolor": "#EBF0F8",
            "showbackground": true,
            "ticks": "",
            "zerolinecolor": "#EBF0F8"
           },
           "zaxis": {
            "backgroundcolor": "white",
            "gridcolor": "#DFE8F3",
            "gridwidth": 2,
            "linecolor": "#EBF0F8",
            "showbackground": true,
            "ticks": "",
            "zerolinecolor": "#EBF0F8"
           }
          },
          "shapedefaults": {
           "line": {
            "color": "#2a3f5f"
           }
          },
          "ternary": {
           "aaxis": {
            "gridcolor": "#DFE8F3",
            "linecolor": "#A2B1C6",
            "ticks": ""
           },
           "baxis": {
            "gridcolor": "#DFE8F3",
            "linecolor": "#A2B1C6",
            "ticks": ""
           },
           "bgcolor": "white",
           "caxis": {
            "gridcolor": "#DFE8F3",
            "linecolor": "#A2B1C6",
            "ticks": ""
           }
          },
          "title": {
           "x": 0.05
          },
          "xaxis": {
           "automargin": true,
           "gridcolor": "#EBF0F8",
           "linecolor": "#EBF0F8",
           "ticks": "",
           "title": {
            "standoff": 15
           },
           "zerolinecolor": "#EBF0F8",
           "zerolinewidth": 2
          },
          "yaxis": {
           "automargin": true,
           "gridcolor": "#EBF0F8",
           "linecolor": "#EBF0F8",
           "ticks": "",
           "title": {
            "standoff": 15
           },
           "zerolinecolor": "#EBF0F8",
           "zerolinewidth": 2
          }
         }
        },
        "title": {
         "text": "Average Bounce Rate by Retention Segment"
        },
        "xaxis": {
         "anchor": "y",
         "domain": [
          0,
          1
         ],
         "title": {
          "text": "Retention Segment"
         }
        },
        "yaxis": {
         "anchor": "x",
         "domain": [
          0,
          1
         ],
         "title": {
          "text": "Average Bounce Rate"
         }
        }
       }
      },
      "text/html": [
       "<div>                            <div id=\"a2176d8b-2b55-4c88-849a-f8c991438b09\" class=\"plotly-graph-div\" style=\"height:525px; width:100%;\"></div>            <script type=\"text/javascript\">                require([\"plotly\"], function(Plotly) {                    window.PLOTLYENV=window.PLOTLYENV || {};                                    if (document.getElementById(\"a2176d8b-2b55-4c88-849a-f8c991438b09\")) {                    Plotly.newPlot(                        \"a2176d8b-2b55-4c88-849a-f8c991438b09\",                        [{\"alignmentgroup\":\"True\",\"hovertemplate\":\"Retention Segment=%{x}<br>Average Bounce Rate=%{y}<extra></extra>\",\"legendgroup\":\"\",\"marker\":{\"color\":\"#636efa\",\"pattern\":{\"shape\":\"\"}},\"name\":\"\",\"offsetgroup\":\"\",\"orientation\":\"v\",\"showlegend\":false,\"textposition\":\"auto\",\"texttemplate\":\"%{y}\",\"x\":[\"Frequent Users\",\"Occasional Users\"],\"xaxis\":\"x\",\"y\":[64.45053872053873,65.67074074074074],\"yaxis\":\"y\",\"type\":\"bar\"}],                        {\"template\":{\"data\":{\"histogram2dcontour\":[{\"type\":\"histogram2dcontour\",\"colorbar\":{\"outlinewidth\":0,\"ticks\":\"\"},\"colorscale\":[[0.0,\"#0d0887\"],[0.1111111111111111,\"#46039f\"],[0.2222222222222222,\"#7201a8\"],[0.3333333333333333,\"#9c179e\"],[0.4444444444444444,\"#bd3786\"],[0.5555555555555556,\"#d8576b\"],[0.6666666666666666,\"#ed7953\"],[0.7777777777777778,\"#fb9f3a\"],[0.8888888888888888,\"#fdca26\"],[1.0,\"#f0f921\"]]}],\"choropleth\":[{\"type\":\"choropleth\",\"colorbar\":{\"outlinewidth\":0,\"ticks\":\"\"}}],\"histogram2d\":[{\"type\":\"histogram2d\",\"colorbar\":{\"outlinewidth\":0,\"ticks\":\"\"},\"colorscale\":[[0.0,\"#0d0887\"],[0.1111111111111111,\"#46039f\"],[0.2222222222222222,\"#7201a8\"],[0.3333333333333333,\"#9c179e\"],[0.4444444444444444,\"#bd3786\"],[0.5555555555555556,\"#d8576b\"],[0.6666666666666666,\"#ed7953\"],[0.7777777777777778,\"#fb9f3a\"],[0.8888888888888888,\"#fdca26\"],[1.0,\"#f0f921\"]]}],\"heatmap\":[{\"type\":\"heatmap\",\"colorbar\":{\"outlinewidth\":0,\"ticks\":\"\"},\"colorscale\":[[0.0,\"#0d0887\"],[0.1111111111111111,\"#46039f\"],[0.2222222222222222,\"#7201a8\"],[0.3333333333333333,\"#9c179e\"],[0.4444444444444444,\"#bd3786\"],[0.5555555555555556,\"#d8576b\"],[0.6666666666666666,\"#ed7953\"],[0.7777777777777778,\"#fb9f3a\"],[0.8888888888888888,\"#fdca26\"],[1.0,\"#f0f921\"]]}],\"heatmapgl\":[{\"type\":\"heatmapgl\",\"colorbar\":{\"outlinewidth\":0,\"ticks\":\"\"},\"colorscale\":[[0.0,\"#0d0887\"],[0.1111111111111111,\"#46039f\"],[0.2222222222222222,\"#7201a8\"],[0.3333333333333333,\"#9c179e\"],[0.4444444444444444,\"#bd3786\"],[0.5555555555555556,\"#d8576b\"],[0.6666666666666666,\"#ed7953\"],[0.7777777777777778,\"#fb9f3a\"],[0.8888888888888888,\"#fdca26\"],[1.0,\"#f0f921\"]]}],\"contourcarpet\":[{\"type\":\"contourcarpet\",\"colorbar\":{\"outlinewidth\":0,\"ticks\":\"\"}}],\"contour\":[{\"type\":\"contour\",\"colorbar\":{\"outlinewidth\":0,\"ticks\":\"\"},\"colorscale\":[[0.0,\"#0d0887\"],[0.1111111111111111,\"#46039f\"],[0.2222222222222222,\"#7201a8\"],[0.3333333333333333,\"#9c179e\"],[0.4444444444444444,\"#bd3786\"],[0.5555555555555556,\"#d8576b\"],[0.6666666666666666,\"#ed7953\"],[0.7777777777777778,\"#fb9f3a\"],[0.8888888888888888,\"#fdca26\"],[1.0,\"#f0f921\"]]}],\"surface\":[{\"type\":\"surface\",\"colorbar\":{\"outlinewidth\":0,\"ticks\":\"\"},\"colorscale\":[[0.0,\"#0d0887\"],[0.1111111111111111,\"#46039f\"],[0.2222222222222222,\"#7201a8\"],[0.3333333333333333,\"#9c179e\"],[0.4444444444444444,\"#bd3786\"],[0.5555555555555556,\"#d8576b\"],[0.6666666666666666,\"#ed7953\"],[0.7777777777777778,\"#fb9f3a\"],[0.8888888888888888,\"#fdca26\"],[1.0,\"#f0f921\"]]}],\"mesh3d\":[{\"type\":\"mesh3d\",\"colorbar\":{\"outlinewidth\":0,\"ticks\":\"\"}}],\"scatter\":[{\"fillpattern\":{\"fillmode\":\"overlay\",\"size\":10,\"solidity\":0.2},\"type\":\"scatter\"}],\"parcoords\":[{\"type\":\"parcoords\",\"line\":{\"colorbar\":{\"outlinewidth\":0,\"ticks\":\"\"}}}],\"scatterpolargl\":[{\"type\":\"scatterpolargl\",\"marker\":{\"colorbar\":{\"outlinewidth\":0,\"ticks\":\"\"}}}],\"bar\":[{\"error_x\":{\"color\":\"#2a3f5f\"},\"error_y\":{\"color\":\"#2a3f5f\"},\"marker\":{\"line\":{\"color\":\"white\",\"width\":0.5},\"pattern\":{\"fillmode\":\"overlay\",\"size\":10,\"solidity\":0.2}},\"type\":\"bar\"}],\"scattergeo\":[{\"type\":\"scattergeo\",\"marker\":{\"colorbar\":{\"outlinewidth\":0,\"ticks\":\"\"}}}],\"scatterpolar\":[{\"type\":\"scatterpolar\",\"marker\":{\"colorbar\":{\"outlinewidth\":0,\"ticks\":\"\"}}}],\"histogram\":[{\"marker\":{\"pattern\":{\"fillmode\":\"overlay\",\"size\":10,\"solidity\":0.2}},\"type\":\"histogram\"}],\"scattergl\":[{\"type\":\"scattergl\",\"marker\":{\"colorbar\":{\"outlinewidth\":0,\"ticks\":\"\"}}}],\"scatter3d\":[{\"type\":\"scatter3d\",\"line\":{\"colorbar\":{\"outlinewidth\":0,\"ticks\":\"\"}},\"marker\":{\"colorbar\":{\"outlinewidth\":0,\"ticks\":\"\"}}}],\"scattermapbox\":[{\"type\":\"scattermapbox\",\"marker\":{\"colorbar\":{\"outlinewidth\":0,\"ticks\":\"\"}}}],\"scatterternary\":[{\"type\":\"scatterternary\",\"marker\":{\"colorbar\":{\"outlinewidth\":0,\"ticks\":\"\"}}}],\"scattercarpet\":[{\"type\":\"scattercarpet\",\"marker\":{\"colorbar\":{\"outlinewidth\":0,\"ticks\":\"\"}}}],\"carpet\":[{\"aaxis\":{\"endlinecolor\":\"#2a3f5f\",\"gridcolor\":\"#C8D4E3\",\"linecolor\":\"#C8D4E3\",\"minorgridcolor\":\"#C8D4E3\",\"startlinecolor\":\"#2a3f5f\"},\"baxis\":{\"endlinecolor\":\"#2a3f5f\",\"gridcolor\":\"#C8D4E3\",\"linecolor\":\"#C8D4E3\",\"minorgridcolor\":\"#C8D4E3\",\"startlinecolor\":\"#2a3f5f\"},\"type\":\"carpet\"}],\"table\":[{\"cells\":{\"fill\":{\"color\":\"#EBF0F8\"},\"line\":{\"color\":\"white\"}},\"header\":{\"fill\":{\"color\":\"#C8D4E3\"},\"line\":{\"color\":\"white\"}},\"type\":\"table\"}],\"barpolar\":[{\"marker\":{\"line\":{\"color\":\"white\",\"width\":0.5},\"pattern\":{\"fillmode\":\"overlay\",\"size\":10,\"solidity\":0.2}},\"type\":\"barpolar\"}],\"pie\":[{\"automargin\":true,\"type\":\"pie\"}]},\"layout\":{\"autotypenumbers\":\"strict\",\"colorway\":[\"#636efa\",\"#EF553B\",\"#00cc96\",\"#ab63fa\",\"#FFA15A\",\"#19d3f3\",\"#FF6692\",\"#B6E880\",\"#FF97FF\",\"#FECB52\"],\"font\":{\"color\":\"#2a3f5f\"},\"hovermode\":\"closest\",\"hoverlabel\":{\"align\":\"left\"},\"paper_bgcolor\":\"white\",\"plot_bgcolor\":\"white\",\"polar\":{\"bgcolor\":\"white\",\"angularaxis\":{\"gridcolor\":\"#EBF0F8\",\"linecolor\":\"#EBF0F8\",\"ticks\":\"\"},\"radialaxis\":{\"gridcolor\":\"#EBF0F8\",\"linecolor\":\"#EBF0F8\",\"ticks\":\"\"}},\"ternary\":{\"bgcolor\":\"white\",\"aaxis\":{\"gridcolor\":\"#DFE8F3\",\"linecolor\":\"#A2B1C6\",\"ticks\":\"\"},\"baxis\":{\"gridcolor\":\"#DFE8F3\",\"linecolor\":\"#A2B1C6\",\"ticks\":\"\"},\"caxis\":{\"gridcolor\":\"#DFE8F3\",\"linecolor\":\"#A2B1C6\",\"ticks\":\"\"}},\"coloraxis\":{\"colorbar\":{\"outlinewidth\":0,\"ticks\":\"\"}},\"colorscale\":{\"sequential\":[[0.0,\"#0d0887\"],[0.1111111111111111,\"#46039f\"],[0.2222222222222222,\"#7201a8\"],[0.3333333333333333,\"#9c179e\"],[0.4444444444444444,\"#bd3786\"],[0.5555555555555556,\"#d8576b\"],[0.6666666666666666,\"#ed7953\"],[0.7777777777777778,\"#fb9f3a\"],[0.8888888888888888,\"#fdca26\"],[1.0,\"#f0f921\"]],\"sequentialminus\":[[0.0,\"#0d0887\"],[0.1111111111111111,\"#46039f\"],[0.2222222222222222,\"#7201a8\"],[0.3333333333333333,\"#9c179e\"],[0.4444444444444444,\"#bd3786\"],[0.5555555555555556,\"#d8576b\"],[0.6666666666666666,\"#ed7953\"],[0.7777777777777778,\"#fb9f3a\"],[0.8888888888888888,\"#fdca26\"],[1.0,\"#f0f921\"]],\"diverging\":[[0,\"#8e0152\"],[0.1,\"#c51b7d\"],[0.2,\"#de77ae\"],[0.3,\"#f1b6da\"],[0.4,\"#fde0ef\"],[0.5,\"#f7f7f7\"],[0.6,\"#e6f5d0\"],[0.7,\"#b8e186\"],[0.8,\"#7fbc41\"],[0.9,\"#4d9221\"],[1,\"#276419\"]]},\"xaxis\":{\"gridcolor\":\"#EBF0F8\",\"linecolor\":\"#EBF0F8\",\"ticks\":\"\",\"title\":{\"standoff\":15},\"zerolinecolor\":\"#EBF0F8\",\"automargin\":true,\"zerolinewidth\":2},\"yaxis\":{\"gridcolor\":\"#EBF0F8\",\"linecolor\":\"#EBF0F8\",\"ticks\":\"\",\"title\":{\"standoff\":15},\"zerolinecolor\":\"#EBF0F8\",\"automargin\":true,\"zerolinewidth\":2},\"scene\":{\"xaxis\":{\"backgroundcolor\":\"white\",\"gridcolor\":\"#DFE8F3\",\"linecolor\":\"#EBF0F8\",\"showbackground\":true,\"ticks\":\"\",\"zerolinecolor\":\"#EBF0F8\",\"gridwidth\":2},\"yaxis\":{\"backgroundcolor\":\"white\",\"gridcolor\":\"#DFE8F3\",\"linecolor\":\"#EBF0F8\",\"showbackground\":true,\"ticks\":\"\",\"zerolinecolor\":\"#EBF0F8\",\"gridwidth\":2},\"zaxis\":{\"backgroundcolor\":\"white\",\"gridcolor\":\"#DFE8F3\",\"linecolor\":\"#EBF0F8\",\"showbackground\":true,\"ticks\":\"\",\"zerolinecolor\":\"#EBF0F8\",\"gridwidth\":2}},\"shapedefaults\":{\"line\":{\"color\":\"#2a3f5f\"}},\"annotationdefaults\":{\"arrowcolor\":\"#2a3f5f\",\"arrowhead\":0,\"arrowwidth\":1},\"geo\":{\"bgcolor\":\"white\",\"landcolor\":\"white\",\"subunitcolor\":\"#C8D4E3\",\"showland\":true,\"showlakes\":true,\"lakecolor\":\"white\"},\"title\":{\"x\":0.05},\"mapbox\":{\"style\":\"light\"}}},\"xaxis\":{\"anchor\":\"y\",\"domain\":[0.0,1.0],\"title\":{\"text\":\"Retention Segment\"}},\"yaxis\":{\"anchor\":\"x\",\"domain\":[0.0,1.0],\"title\":{\"text\":\"Average Bounce Rate\"}},\"legend\":{\"tracegroupgap\":0},\"title\":{\"text\":\"Average Bounce Rate by Retention Segment\"},\"barmode\":\"relative\"},                        {\"responsive\": true}                    ).then(function(){\n",
       "                            \n",
       "var gd = document.getElementById('a2176d8b-2b55-4c88-849a-f8c991438b09');\n",
       "var x = new MutationObserver(function (mutations, observer) {{\n",
       "        var display = window.getComputedStyle(gd).display;\n",
       "        if (!display || display === 'none') {{\n",
       "            console.log([gd, 'removed!']);\n",
       "            Plotly.purge(gd);\n",
       "            observer.disconnect();\n",
       "        }}\n",
       "}});\n",
       "\n",
       "// Listen for the removal of the full notebook cells\n",
       "var notebookContainer = gd.closest('#notebook-container');\n",
       "if (notebookContainer) {{\n",
       "    x.observe(notebookContainer, {childList: true});\n",
       "}}\n",
       "\n",
       "// Listen for the clearing of the current output cell\n",
       "var outputEl = gd.closest('.output');\n",
       "if (outputEl) {{\n",
       "    x.observe(outputEl, {childList: true});\n",
       "}}\n",
       "\n",
       "                        })                };                });            </script>        </div>"
      ]
     },
     "metadata": {},
     "output_type": "display_data"
    }
   ],
   "source": [
    "segmentBounceRates = data.groupby('Retention Segment')['Bounce Rate'].mean().reset_index()\n",
    "\n",
    "barFig = px.bar(segmentBounceRates, x='Retention Segment', y='Bounce Rate',\n",
    "                 title='Average Bounce Rate by Retention Segment',\n",
    "                 text_auto = True,\n",
    "                 labels={'Retention Segment': 'Retention Segment', 'Bounce Rate': 'Average Bounce Rate'})\n",
    "bar_fig.show()"
   ]
  },
  {
   "cell_type": "code",
   "execution_count": 54,
   "id": "478b14fb",
   "metadata": {},
   "outputs": [
    {
     "data": {
      "application/vnd.plotly.v1+json": {
       "config": {
        "plotlyServerURL": "https://plot.ly"
       },
       "data": [
        {
         "customdata": [
          [
           "Occasional Users"
          ],
          [
           "Frequent Users"
          ]
         ],
         "domain": {
          "x": [
           0,
           1
          ],
          "y": [
           0,
           1
          ]
         },
         "hovertemplate": "label=%{label}<br>value=%{value}<br>color=%{customdata[0]}<extra></extra>",
         "labels": [
          "Occasional Users",
          "Frequent Users"
         ],
         "legendgroup": "",
         "marker": {
          "colors": [
           "#7FD4C1",
           "#F7C0BB"
          ]
         },
         "name": "",
         "showlegend": true,
         "textinfo": "percent+label",
         "textposition": "inside",
         "type": "pie",
         "values": [
          702,
          297
         ]
        }
       ],
       "layout": {
        "legend": {
         "tracegroupgap": 0
        },
        "piecolorway": [
         "#7FD4C1",
         "#F7C0BB"
        ],
        "showlegend": false,
        "template": {
         "data": {
          "bar": [
           {
            "error_x": {
             "color": "#2a3f5f"
            },
            "error_y": {
             "color": "#2a3f5f"
            },
            "marker": {
             "line": {
              "color": "white",
              "width": 0.5
             },
             "pattern": {
              "fillmode": "overlay",
              "size": 10,
              "solidity": 0.2
             }
            },
            "type": "bar"
           }
          ],
          "barpolar": [
           {
            "marker": {
             "line": {
              "color": "white",
              "width": 0.5
             },
             "pattern": {
              "fillmode": "overlay",
              "size": 10,
              "solidity": 0.2
             }
            },
            "type": "barpolar"
           }
          ],
          "carpet": [
           {
            "aaxis": {
             "endlinecolor": "#2a3f5f",
             "gridcolor": "#C8D4E3",
             "linecolor": "#C8D4E3",
             "minorgridcolor": "#C8D4E3",
             "startlinecolor": "#2a3f5f"
            },
            "baxis": {
             "endlinecolor": "#2a3f5f",
             "gridcolor": "#C8D4E3",
             "linecolor": "#C8D4E3",
             "minorgridcolor": "#C8D4E3",
             "startlinecolor": "#2a3f5f"
            },
            "type": "carpet"
           }
          ],
          "choropleth": [
           {
            "colorbar": {
             "outlinewidth": 0,
             "ticks": ""
            },
            "type": "choropleth"
           }
          ],
          "contour": [
           {
            "colorbar": {
             "outlinewidth": 0,
             "ticks": ""
            },
            "colorscale": [
             [
              0,
              "#0d0887"
             ],
             [
              0.1111111111111111,
              "#46039f"
             ],
             [
              0.2222222222222222,
              "#7201a8"
             ],
             [
              0.3333333333333333,
              "#9c179e"
             ],
             [
              0.4444444444444444,
              "#bd3786"
             ],
             [
              0.5555555555555556,
              "#d8576b"
             ],
             [
              0.6666666666666666,
              "#ed7953"
             ],
             [
              0.7777777777777778,
              "#fb9f3a"
             ],
             [
              0.8888888888888888,
              "#fdca26"
             ],
             [
              1,
              "#f0f921"
             ]
            ],
            "type": "contour"
           }
          ],
          "contourcarpet": [
           {
            "colorbar": {
             "outlinewidth": 0,
             "ticks": ""
            },
            "type": "contourcarpet"
           }
          ],
          "heatmap": [
           {
            "colorbar": {
             "outlinewidth": 0,
             "ticks": ""
            },
            "colorscale": [
             [
              0,
              "#0d0887"
             ],
             [
              0.1111111111111111,
              "#46039f"
             ],
             [
              0.2222222222222222,
              "#7201a8"
             ],
             [
              0.3333333333333333,
              "#9c179e"
             ],
             [
              0.4444444444444444,
              "#bd3786"
             ],
             [
              0.5555555555555556,
              "#d8576b"
             ],
             [
              0.6666666666666666,
              "#ed7953"
             ],
             [
              0.7777777777777778,
              "#fb9f3a"
             ],
             [
              0.8888888888888888,
              "#fdca26"
             ],
             [
              1,
              "#f0f921"
             ]
            ],
            "type": "heatmap"
           }
          ],
          "heatmapgl": [
           {
            "colorbar": {
             "outlinewidth": 0,
             "ticks": ""
            },
            "colorscale": [
             [
              0,
              "#0d0887"
             ],
             [
              0.1111111111111111,
              "#46039f"
             ],
             [
              0.2222222222222222,
              "#7201a8"
             ],
             [
              0.3333333333333333,
              "#9c179e"
             ],
             [
              0.4444444444444444,
              "#bd3786"
             ],
             [
              0.5555555555555556,
              "#d8576b"
             ],
             [
              0.6666666666666666,
              "#ed7953"
             ],
             [
              0.7777777777777778,
              "#fb9f3a"
             ],
             [
              0.8888888888888888,
              "#fdca26"
             ],
             [
              1,
              "#f0f921"
             ]
            ],
            "type": "heatmapgl"
           }
          ],
          "histogram": [
           {
            "marker": {
             "pattern": {
              "fillmode": "overlay",
              "size": 10,
              "solidity": 0.2
             }
            },
            "type": "histogram"
           }
          ],
          "histogram2d": [
           {
            "colorbar": {
             "outlinewidth": 0,
             "ticks": ""
            },
            "colorscale": [
             [
              0,
              "#0d0887"
             ],
             [
              0.1111111111111111,
              "#46039f"
             ],
             [
              0.2222222222222222,
              "#7201a8"
             ],
             [
              0.3333333333333333,
              "#9c179e"
             ],
             [
              0.4444444444444444,
              "#bd3786"
             ],
             [
              0.5555555555555556,
              "#d8576b"
             ],
             [
              0.6666666666666666,
              "#ed7953"
             ],
             [
              0.7777777777777778,
              "#fb9f3a"
             ],
             [
              0.8888888888888888,
              "#fdca26"
             ],
             [
              1,
              "#f0f921"
             ]
            ],
            "type": "histogram2d"
           }
          ],
          "histogram2dcontour": [
           {
            "colorbar": {
             "outlinewidth": 0,
             "ticks": ""
            },
            "colorscale": [
             [
              0,
              "#0d0887"
             ],
             [
              0.1111111111111111,
              "#46039f"
             ],
             [
              0.2222222222222222,
              "#7201a8"
             ],
             [
              0.3333333333333333,
              "#9c179e"
             ],
             [
              0.4444444444444444,
              "#bd3786"
             ],
             [
              0.5555555555555556,
              "#d8576b"
             ],
             [
              0.6666666666666666,
              "#ed7953"
             ],
             [
              0.7777777777777778,
              "#fb9f3a"
             ],
             [
              0.8888888888888888,
              "#fdca26"
             ],
             [
              1,
              "#f0f921"
             ]
            ],
            "type": "histogram2dcontour"
           }
          ],
          "mesh3d": [
           {
            "colorbar": {
             "outlinewidth": 0,
             "ticks": ""
            },
            "type": "mesh3d"
           }
          ],
          "parcoords": [
           {
            "line": {
             "colorbar": {
              "outlinewidth": 0,
              "ticks": ""
             }
            },
            "type": "parcoords"
           }
          ],
          "pie": [
           {
            "automargin": true,
            "type": "pie"
           }
          ],
          "scatter": [
           {
            "fillpattern": {
             "fillmode": "overlay",
             "size": 10,
             "solidity": 0.2
            },
            "type": "scatter"
           }
          ],
          "scatter3d": [
           {
            "line": {
             "colorbar": {
              "outlinewidth": 0,
              "ticks": ""
             }
            },
            "marker": {
             "colorbar": {
              "outlinewidth": 0,
              "ticks": ""
             }
            },
            "type": "scatter3d"
           }
          ],
          "scattercarpet": [
           {
            "marker": {
             "colorbar": {
              "outlinewidth": 0,
              "ticks": ""
             }
            },
            "type": "scattercarpet"
           }
          ],
          "scattergeo": [
           {
            "marker": {
             "colorbar": {
              "outlinewidth": 0,
              "ticks": ""
             }
            },
            "type": "scattergeo"
           }
          ],
          "scattergl": [
           {
            "marker": {
             "colorbar": {
              "outlinewidth": 0,
              "ticks": ""
             }
            },
            "type": "scattergl"
           }
          ],
          "scattermapbox": [
           {
            "marker": {
             "colorbar": {
              "outlinewidth": 0,
              "ticks": ""
             }
            },
            "type": "scattermapbox"
           }
          ],
          "scatterpolar": [
           {
            "marker": {
             "colorbar": {
              "outlinewidth": 0,
              "ticks": ""
             }
            },
            "type": "scatterpolar"
           }
          ],
          "scatterpolargl": [
           {
            "marker": {
             "colorbar": {
              "outlinewidth": 0,
              "ticks": ""
             }
            },
            "type": "scatterpolargl"
           }
          ],
          "scatterternary": [
           {
            "marker": {
             "colorbar": {
              "outlinewidth": 0,
              "ticks": ""
             }
            },
            "type": "scatterternary"
           }
          ],
          "surface": [
           {
            "colorbar": {
             "outlinewidth": 0,
             "ticks": ""
            },
            "colorscale": [
             [
              0,
              "#0d0887"
             ],
             [
              0.1111111111111111,
              "#46039f"
             ],
             [
              0.2222222222222222,
              "#7201a8"
             ],
             [
              0.3333333333333333,
              "#9c179e"
             ],
             [
              0.4444444444444444,
              "#bd3786"
             ],
             [
              0.5555555555555556,
              "#d8576b"
             ],
             [
              0.6666666666666666,
              "#ed7953"
             ],
             [
              0.7777777777777778,
              "#fb9f3a"
             ],
             [
              0.8888888888888888,
              "#fdca26"
             ],
             [
              1,
              "#f0f921"
             ]
            ],
            "type": "surface"
           }
          ],
          "table": [
           {
            "cells": {
             "fill": {
              "color": "#EBF0F8"
             },
             "line": {
              "color": "white"
             }
            },
            "header": {
             "fill": {
              "color": "#C8D4E3"
             },
             "line": {
              "color": "white"
             }
            },
            "type": "table"
           }
          ]
         },
         "layout": {
          "annotationdefaults": {
           "arrowcolor": "#2a3f5f",
           "arrowhead": 0,
           "arrowwidth": 1
          },
          "autotypenumbers": "strict",
          "coloraxis": {
           "colorbar": {
            "outlinewidth": 0,
            "ticks": ""
           }
          },
          "colorscale": {
           "diverging": [
            [
             0,
             "#8e0152"
            ],
            [
             0.1,
             "#c51b7d"
            ],
            [
             0.2,
             "#de77ae"
            ],
            [
             0.3,
             "#f1b6da"
            ],
            [
             0.4,
             "#fde0ef"
            ],
            [
             0.5,
             "#f7f7f7"
            ],
            [
             0.6,
             "#e6f5d0"
            ],
            [
             0.7,
             "#b8e186"
            ],
            [
             0.8,
             "#7fbc41"
            ],
            [
             0.9,
             "#4d9221"
            ],
            [
             1,
             "#276419"
            ]
           ],
           "sequential": [
            [
             0,
             "#0d0887"
            ],
            [
             0.1111111111111111,
             "#46039f"
            ],
            [
             0.2222222222222222,
             "#7201a8"
            ],
            [
             0.3333333333333333,
             "#9c179e"
            ],
            [
             0.4444444444444444,
             "#bd3786"
            ],
            [
             0.5555555555555556,
             "#d8576b"
            ],
            [
             0.6666666666666666,
             "#ed7953"
            ],
            [
             0.7777777777777778,
             "#fb9f3a"
            ],
            [
             0.8888888888888888,
             "#fdca26"
            ],
            [
             1,
             "#f0f921"
            ]
           ],
           "sequentialminus": [
            [
             0,
             "#0d0887"
            ],
            [
             0.1111111111111111,
             "#46039f"
            ],
            [
             0.2222222222222222,
             "#7201a8"
            ],
            [
             0.3333333333333333,
             "#9c179e"
            ],
            [
             0.4444444444444444,
             "#bd3786"
            ],
            [
             0.5555555555555556,
             "#d8576b"
            ],
            [
             0.6666666666666666,
             "#ed7953"
            ],
            [
             0.7777777777777778,
             "#fb9f3a"
            ],
            [
             0.8888888888888888,
             "#fdca26"
            ],
            [
             1,
             "#f0f921"
            ]
           ]
          },
          "colorway": [
           "#636efa",
           "#EF553B",
           "#00cc96",
           "#ab63fa",
           "#FFA15A",
           "#19d3f3",
           "#FF6692",
           "#B6E880",
           "#FF97FF",
           "#FECB52"
          ],
          "font": {
           "color": "#2a3f5f"
          },
          "geo": {
           "bgcolor": "white",
           "lakecolor": "white",
           "landcolor": "white",
           "showlakes": true,
           "showland": true,
           "subunitcolor": "#C8D4E3"
          },
          "hoverlabel": {
           "align": "left"
          },
          "hovermode": "closest",
          "mapbox": {
           "style": "light"
          },
          "paper_bgcolor": "white",
          "plot_bgcolor": "white",
          "polar": {
           "angularaxis": {
            "gridcolor": "#EBF0F8",
            "linecolor": "#EBF0F8",
            "ticks": ""
           },
           "bgcolor": "white",
           "radialaxis": {
            "gridcolor": "#EBF0F8",
            "linecolor": "#EBF0F8",
            "ticks": ""
           }
          },
          "scene": {
           "xaxis": {
            "backgroundcolor": "white",
            "gridcolor": "#DFE8F3",
            "gridwidth": 2,
            "linecolor": "#EBF0F8",
            "showbackground": true,
            "ticks": "",
            "zerolinecolor": "#EBF0F8"
           },
           "yaxis": {
            "backgroundcolor": "white",
            "gridcolor": "#DFE8F3",
            "gridwidth": 2,
            "linecolor": "#EBF0F8",
            "showbackground": true,
            "ticks": "",
            "zerolinecolor": "#EBF0F8"
           },
           "zaxis": {
            "backgroundcolor": "white",
            "gridcolor": "#DFE8F3",
            "gridwidth": 2,
            "linecolor": "#EBF0F8",
            "showbackground": true,
            "ticks": "",
            "zerolinecolor": "#EBF0F8"
           }
          },
          "shapedefaults": {
           "line": {
            "color": "#2a3f5f"
           }
          },
          "ternary": {
           "aaxis": {
            "gridcolor": "#DFE8F3",
            "linecolor": "#A2B1C6",
            "ticks": ""
           },
           "baxis": {
            "gridcolor": "#DFE8F3",
            "linecolor": "#A2B1C6",
            "ticks": ""
           },
           "bgcolor": "white",
           "caxis": {
            "gridcolor": "#DFE8F3",
            "linecolor": "#A2B1C6",
            "ticks": ""
           }
          },
          "title": {
           "x": 0.05
          },
          "xaxis": {
           "automargin": true,
           "gridcolor": "#EBF0F8",
           "linecolor": "#EBF0F8",
           "ticks": "",
           "title": {
            "standoff": 15
           },
           "zerolinecolor": "#EBF0F8",
           "zerolinewidth": 2
          },
          "yaxis": {
           "automargin": true,
           "gridcolor": "#EBF0F8",
           "linecolor": "#EBF0F8",
           "ticks": "",
           "title": {
            "standoff": 15
           },
           "zerolinecolor": "#EBF0F8",
           "zerolinewidth": 2
          }
         }
        },
        "title": {
         "text": "User Retention Rate"
        }
       }
      },
      "text/html": [
       "<div>                            <div id=\"5599e414-aba9-45e0-94c4-1703af2185a8\" class=\"plotly-graph-div\" style=\"height:525px; width:100%;\"></div>            <script type=\"text/javascript\">                require([\"plotly\"], function(Plotly) {                    window.PLOTLYENV=window.PLOTLYENV || {};                                    if (document.getElementById(\"5599e414-aba9-45e0-94c4-1703af2185a8\")) {                    Plotly.newPlot(                        \"5599e414-aba9-45e0-94c4-1703af2185a8\",                        [{\"customdata\":[[\"Occasional Users\"],[\"Frequent Users\"]],\"domain\":{\"x\":[0.0,1.0],\"y\":[0.0,1.0]},\"hovertemplate\":\"label=%{label}<br>value=%{value}<br>color=%{customdata[0]}<extra></extra>\",\"labels\":[\"Occasional Users\",\"Frequent Users\"],\"legendgroup\":\"\",\"marker\":{\"colors\":[\"#7FD4C1\",\"#F7C0BB\"]},\"name\":\"\",\"showlegend\":true,\"values\":[702,297],\"type\":\"pie\",\"textinfo\":\"percent+label\",\"textposition\":\"inside\"}],                        {\"template\":{\"data\":{\"histogram2dcontour\":[{\"type\":\"histogram2dcontour\",\"colorbar\":{\"outlinewidth\":0,\"ticks\":\"\"},\"colorscale\":[[0.0,\"#0d0887\"],[0.1111111111111111,\"#46039f\"],[0.2222222222222222,\"#7201a8\"],[0.3333333333333333,\"#9c179e\"],[0.4444444444444444,\"#bd3786\"],[0.5555555555555556,\"#d8576b\"],[0.6666666666666666,\"#ed7953\"],[0.7777777777777778,\"#fb9f3a\"],[0.8888888888888888,\"#fdca26\"],[1.0,\"#f0f921\"]]}],\"choropleth\":[{\"type\":\"choropleth\",\"colorbar\":{\"outlinewidth\":0,\"ticks\":\"\"}}],\"histogram2d\":[{\"type\":\"histogram2d\",\"colorbar\":{\"outlinewidth\":0,\"ticks\":\"\"},\"colorscale\":[[0.0,\"#0d0887\"],[0.1111111111111111,\"#46039f\"],[0.2222222222222222,\"#7201a8\"],[0.3333333333333333,\"#9c179e\"],[0.4444444444444444,\"#bd3786\"],[0.5555555555555556,\"#d8576b\"],[0.6666666666666666,\"#ed7953\"],[0.7777777777777778,\"#fb9f3a\"],[0.8888888888888888,\"#fdca26\"],[1.0,\"#f0f921\"]]}],\"heatmap\":[{\"type\":\"heatmap\",\"colorbar\":{\"outlinewidth\":0,\"ticks\":\"\"},\"colorscale\":[[0.0,\"#0d0887\"],[0.1111111111111111,\"#46039f\"],[0.2222222222222222,\"#7201a8\"],[0.3333333333333333,\"#9c179e\"],[0.4444444444444444,\"#bd3786\"],[0.5555555555555556,\"#d8576b\"],[0.6666666666666666,\"#ed7953\"],[0.7777777777777778,\"#fb9f3a\"],[0.8888888888888888,\"#fdca26\"],[1.0,\"#f0f921\"]]}],\"heatmapgl\":[{\"type\":\"heatmapgl\",\"colorbar\":{\"outlinewidth\":0,\"ticks\":\"\"},\"colorscale\":[[0.0,\"#0d0887\"],[0.1111111111111111,\"#46039f\"],[0.2222222222222222,\"#7201a8\"],[0.3333333333333333,\"#9c179e\"],[0.4444444444444444,\"#bd3786\"],[0.5555555555555556,\"#d8576b\"],[0.6666666666666666,\"#ed7953\"],[0.7777777777777778,\"#fb9f3a\"],[0.8888888888888888,\"#fdca26\"],[1.0,\"#f0f921\"]]}],\"contourcarpet\":[{\"type\":\"contourcarpet\",\"colorbar\":{\"outlinewidth\":0,\"ticks\":\"\"}}],\"contour\":[{\"type\":\"contour\",\"colorbar\":{\"outlinewidth\":0,\"ticks\":\"\"},\"colorscale\":[[0.0,\"#0d0887\"],[0.1111111111111111,\"#46039f\"],[0.2222222222222222,\"#7201a8\"],[0.3333333333333333,\"#9c179e\"],[0.4444444444444444,\"#bd3786\"],[0.5555555555555556,\"#d8576b\"],[0.6666666666666666,\"#ed7953\"],[0.7777777777777778,\"#fb9f3a\"],[0.8888888888888888,\"#fdca26\"],[1.0,\"#f0f921\"]]}],\"surface\":[{\"type\":\"surface\",\"colorbar\":{\"outlinewidth\":0,\"ticks\":\"\"},\"colorscale\":[[0.0,\"#0d0887\"],[0.1111111111111111,\"#46039f\"],[0.2222222222222222,\"#7201a8\"],[0.3333333333333333,\"#9c179e\"],[0.4444444444444444,\"#bd3786\"],[0.5555555555555556,\"#d8576b\"],[0.6666666666666666,\"#ed7953\"],[0.7777777777777778,\"#fb9f3a\"],[0.8888888888888888,\"#fdca26\"],[1.0,\"#f0f921\"]]}],\"mesh3d\":[{\"type\":\"mesh3d\",\"colorbar\":{\"outlinewidth\":0,\"ticks\":\"\"}}],\"scatter\":[{\"fillpattern\":{\"fillmode\":\"overlay\",\"size\":10,\"solidity\":0.2},\"type\":\"scatter\"}],\"parcoords\":[{\"type\":\"parcoords\",\"line\":{\"colorbar\":{\"outlinewidth\":0,\"ticks\":\"\"}}}],\"scatterpolargl\":[{\"type\":\"scatterpolargl\",\"marker\":{\"colorbar\":{\"outlinewidth\":0,\"ticks\":\"\"}}}],\"bar\":[{\"error_x\":{\"color\":\"#2a3f5f\"},\"error_y\":{\"color\":\"#2a3f5f\"},\"marker\":{\"line\":{\"color\":\"white\",\"width\":0.5},\"pattern\":{\"fillmode\":\"overlay\",\"size\":10,\"solidity\":0.2}},\"type\":\"bar\"}],\"scattergeo\":[{\"type\":\"scattergeo\",\"marker\":{\"colorbar\":{\"outlinewidth\":0,\"ticks\":\"\"}}}],\"scatterpolar\":[{\"type\":\"scatterpolar\",\"marker\":{\"colorbar\":{\"outlinewidth\":0,\"ticks\":\"\"}}}],\"histogram\":[{\"marker\":{\"pattern\":{\"fillmode\":\"overlay\",\"size\":10,\"solidity\":0.2}},\"type\":\"histogram\"}],\"scattergl\":[{\"type\":\"scattergl\",\"marker\":{\"colorbar\":{\"outlinewidth\":0,\"ticks\":\"\"}}}],\"scatter3d\":[{\"type\":\"scatter3d\",\"line\":{\"colorbar\":{\"outlinewidth\":0,\"ticks\":\"\"}},\"marker\":{\"colorbar\":{\"outlinewidth\":0,\"ticks\":\"\"}}}],\"scattermapbox\":[{\"type\":\"scattermapbox\",\"marker\":{\"colorbar\":{\"outlinewidth\":0,\"ticks\":\"\"}}}],\"scatterternary\":[{\"type\":\"scatterternary\",\"marker\":{\"colorbar\":{\"outlinewidth\":0,\"ticks\":\"\"}}}],\"scattercarpet\":[{\"type\":\"scattercarpet\",\"marker\":{\"colorbar\":{\"outlinewidth\":0,\"ticks\":\"\"}}}],\"carpet\":[{\"aaxis\":{\"endlinecolor\":\"#2a3f5f\",\"gridcolor\":\"#C8D4E3\",\"linecolor\":\"#C8D4E3\",\"minorgridcolor\":\"#C8D4E3\",\"startlinecolor\":\"#2a3f5f\"},\"baxis\":{\"endlinecolor\":\"#2a3f5f\",\"gridcolor\":\"#C8D4E3\",\"linecolor\":\"#C8D4E3\",\"minorgridcolor\":\"#C8D4E3\",\"startlinecolor\":\"#2a3f5f\"},\"type\":\"carpet\"}],\"table\":[{\"cells\":{\"fill\":{\"color\":\"#EBF0F8\"},\"line\":{\"color\":\"white\"}},\"header\":{\"fill\":{\"color\":\"#C8D4E3\"},\"line\":{\"color\":\"white\"}},\"type\":\"table\"}],\"barpolar\":[{\"marker\":{\"line\":{\"color\":\"white\",\"width\":0.5},\"pattern\":{\"fillmode\":\"overlay\",\"size\":10,\"solidity\":0.2}},\"type\":\"barpolar\"}],\"pie\":[{\"automargin\":true,\"type\":\"pie\"}]},\"layout\":{\"autotypenumbers\":\"strict\",\"colorway\":[\"#636efa\",\"#EF553B\",\"#00cc96\",\"#ab63fa\",\"#FFA15A\",\"#19d3f3\",\"#FF6692\",\"#B6E880\",\"#FF97FF\",\"#FECB52\"],\"font\":{\"color\":\"#2a3f5f\"},\"hovermode\":\"closest\",\"hoverlabel\":{\"align\":\"left\"},\"paper_bgcolor\":\"white\",\"plot_bgcolor\":\"white\",\"polar\":{\"bgcolor\":\"white\",\"angularaxis\":{\"gridcolor\":\"#EBF0F8\",\"linecolor\":\"#EBF0F8\",\"ticks\":\"\"},\"radialaxis\":{\"gridcolor\":\"#EBF0F8\",\"linecolor\":\"#EBF0F8\",\"ticks\":\"\"}},\"ternary\":{\"bgcolor\":\"white\",\"aaxis\":{\"gridcolor\":\"#DFE8F3\",\"linecolor\":\"#A2B1C6\",\"ticks\":\"\"},\"baxis\":{\"gridcolor\":\"#DFE8F3\",\"linecolor\":\"#A2B1C6\",\"ticks\":\"\"},\"caxis\":{\"gridcolor\":\"#DFE8F3\",\"linecolor\":\"#A2B1C6\",\"ticks\":\"\"}},\"coloraxis\":{\"colorbar\":{\"outlinewidth\":0,\"ticks\":\"\"}},\"colorscale\":{\"sequential\":[[0.0,\"#0d0887\"],[0.1111111111111111,\"#46039f\"],[0.2222222222222222,\"#7201a8\"],[0.3333333333333333,\"#9c179e\"],[0.4444444444444444,\"#bd3786\"],[0.5555555555555556,\"#d8576b\"],[0.6666666666666666,\"#ed7953\"],[0.7777777777777778,\"#fb9f3a\"],[0.8888888888888888,\"#fdca26\"],[1.0,\"#f0f921\"]],\"sequentialminus\":[[0.0,\"#0d0887\"],[0.1111111111111111,\"#46039f\"],[0.2222222222222222,\"#7201a8\"],[0.3333333333333333,\"#9c179e\"],[0.4444444444444444,\"#bd3786\"],[0.5555555555555556,\"#d8576b\"],[0.6666666666666666,\"#ed7953\"],[0.7777777777777778,\"#fb9f3a\"],[0.8888888888888888,\"#fdca26\"],[1.0,\"#f0f921\"]],\"diverging\":[[0,\"#8e0152\"],[0.1,\"#c51b7d\"],[0.2,\"#de77ae\"],[0.3,\"#f1b6da\"],[0.4,\"#fde0ef\"],[0.5,\"#f7f7f7\"],[0.6,\"#e6f5d0\"],[0.7,\"#b8e186\"],[0.8,\"#7fbc41\"],[0.9,\"#4d9221\"],[1,\"#276419\"]]},\"xaxis\":{\"gridcolor\":\"#EBF0F8\",\"linecolor\":\"#EBF0F8\",\"ticks\":\"\",\"title\":{\"standoff\":15},\"zerolinecolor\":\"#EBF0F8\",\"automargin\":true,\"zerolinewidth\":2},\"yaxis\":{\"gridcolor\":\"#EBF0F8\",\"linecolor\":\"#EBF0F8\",\"ticks\":\"\",\"title\":{\"standoff\":15},\"zerolinecolor\":\"#EBF0F8\",\"automargin\":true,\"zerolinewidth\":2},\"scene\":{\"xaxis\":{\"backgroundcolor\":\"white\",\"gridcolor\":\"#DFE8F3\",\"linecolor\":\"#EBF0F8\",\"showbackground\":true,\"ticks\":\"\",\"zerolinecolor\":\"#EBF0F8\",\"gridwidth\":2},\"yaxis\":{\"backgroundcolor\":\"white\",\"gridcolor\":\"#DFE8F3\",\"linecolor\":\"#EBF0F8\",\"showbackground\":true,\"ticks\":\"\",\"zerolinecolor\":\"#EBF0F8\",\"gridwidth\":2},\"zaxis\":{\"backgroundcolor\":\"white\",\"gridcolor\":\"#DFE8F3\",\"linecolor\":\"#EBF0F8\",\"showbackground\":true,\"ticks\":\"\",\"zerolinecolor\":\"#EBF0F8\",\"gridwidth\":2}},\"shapedefaults\":{\"line\":{\"color\":\"#2a3f5f\"}},\"annotationdefaults\":{\"arrowcolor\":\"#2a3f5f\",\"arrowhead\":0,\"arrowwidth\":1},\"geo\":{\"bgcolor\":\"white\",\"landcolor\":\"white\",\"subunitcolor\":\"#C8D4E3\",\"showland\":true,\"showlakes\":true,\"lakecolor\":\"white\"},\"title\":{\"x\":0.05},\"mapbox\":{\"style\":\"light\"}}},\"legend\":{\"tracegroupgap\":0},\"title\":{\"text\":\"User Retention Rate\"},\"piecolorway\":[\"#7FD4C1\",\"#F7C0BB\"],\"showlegend\":false},                        {\"responsive\": true}                    ).then(function(){\n",
       "                            \n",
       "var gd = document.getElementById('5599e414-aba9-45e0-94c4-1703af2185a8');\n",
       "var x = new MutationObserver(function (mutations, observer) {{\n",
       "        var display = window.getComputedStyle(gd).display;\n",
       "        if (!display || display === 'none') {{\n",
       "            console.log([gd, 'removed!']);\n",
       "            Plotly.purge(gd);\n",
       "            observer.disconnect();\n",
       "        }}\n",
       "}});\n",
       "\n",
       "// Listen for the removal of the full notebook cells\n",
       "var notebookContainer = gd.closest('#notebook-container');\n",
       "if (notebookContainer) {{\n",
       "    x.observe(notebookContainer, {childList: true});\n",
       "}}\n",
       "\n",
       "// Listen for the clearing of the current output cell\n",
       "var outputEl = gd.closest('.output');\n",
       "if (outputEl) {{\n",
       "    x.observe(outputEl, {childList: true});\n",
       "}}\n",
       "\n",
       "                        })                };                });            </script>        </div>"
      ]
     },
     "metadata": {},
     "output_type": "display_data"
    }
   ],
   "source": [
    "segmentCounts = data['Retention Segment'].value_counts()\n",
    "colors = ['#7FD4C1', '#F7C0BB']\n",
    "\n",
    "fig = px.pie(segment_counts, \n",
    "             values=segmentCounts.values, \n",
    "             names=segmentCounts.index, \n",
    "             color=segmentCounts.index, \n",
    "             color_discrete_sequence=colors,\n",
    "             title='User Retention Rate')\n",
    "\n",
    "# Update layout and show the chart\n",
    "fig.update_traces(textposition='inside', textinfo='percent+label')\n",
    "fig.update_layout(showlegend=False)\n",
    "fig.show()"
   ]
  },
  {
   "cell_type": "code",
   "execution_count": null,
   "id": "b646fc75",
   "metadata": {},
   "outputs": [],
   "source": []
  }
 ],
 "metadata": {
  "kernelspec": {
   "display_name": "Python 3 (ipykernel)",
   "language": "python",
   "name": "python3"
  },
  "language_info": {
   "codemirror_mode": {
    "name": "ipython",
    "version": 3
   },
   "file_extension": ".py",
   "mimetype": "text/x-python",
   "name": "python",
   "nbconvert_exporter": "python",
   "pygments_lexer": "ipython3",
   "version": "3.10.9"
  }
 },
 "nbformat": 4,
 "nbformat_minor": 5
}
